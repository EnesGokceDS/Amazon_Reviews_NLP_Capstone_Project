{
  "nbformat": 4,
  "nbformat_minor": 0,
  "metadata": {
    "colab": {
      "name": "Data_cleaning_and_feature_extraction.ipynb",
      "provenance": [],
      "collapsed_sections": [
        "UQ67amRYamFu",
        "n0s4Y9KmaqvA",
        "PsQrL9pYcaCD",
        "oRuQsr1jcpyd",
        "dvQHrvdARMMK",
        "wVqAJNvIUF9I"
      ],
      "authorship_tag": "ABX9TyNkWM4Ow6asY7IKgXuDI4qA",
      "include_colab_link": true
    },
    "kernelspec": {
      "name": "python3",
      "display_name": "Python 3"
    }
  },
  "cells": [
    {
      "cell_type": "markdown",
      "metadata": {
        "id": "view-in-github",
        "colab_type": "text"
      },
      "source": [
        "<a href=\"https://colab.research.google.com/github/EnesGokceDS/Amazon_Reviews_NLP_Capstone_Project/blob/master/Data_cleaning_and_feature_extraction.ipynb\" target=\"_parent\"><img src=\"https://colab.research.google.com/assets/colab-badge.svg\" alt=\"Open In Colab\"/></a>"
      ]
    },
    {
      "cell_type": "markdown",
      "metadata": {
        "id": "Mw4uZNMcgu1P",
        "colab_type": "text"
      },
      "source": [
        "### **In this study, I will apply data cleaning and feature extraction methods on Amazon Reviews dataset**"
      ]
    },
    {
      "cell_type": "markdown",
      "metadata": {
        "id": "MtIB4ZeYg8Ry",
        "colab_type": "text"
      },
      "source": [
        "\n",
        "\n",
        "---\n",
        "\n",
        "\n",
        "\n",
        "---\n",
        "\n"
      ]
    },
    {
      "cell_type": "code",
      "metadata": {
        "id": "FgkpYR4g6Bvg",
        "colab_type": "code",
        "colab": {
          "base_uri": "https://localhost:8080/",
          "height": 207
        },
        "outputId": "f007c5cd-8815-49cf-e013-363688d3a5ca"
      },
      "source": [
        "import subprocess as sp\n",
        "import sys,os,shutil,pickle,time\n",
        "from os.path import join\n",
        "# mount Google Drive\n",
        "from os.path import expanduser\n",
        "gd_path=join(expanduser(\"~\"),'gd')\n",
        "if not os.path.isdir(gd_path):\n",
        "    try:\n",
        "        # load Google Drive\n",
        "        from google.colab import drive,files\n",
        "        drive.mount('/drive')\n",
        "        sp.call('ln -s /drive/My\\ Drive '+gd_path, shell=True)\n",
        "    except:\n",
        "        print('unable to find Google Drive Folder')\n",
        "os.chdir(gd_path+'/MachineLearning/NLP_capstone_data')\n",
        "os.listdir('.')"
      ],
      "execution_count": null,
      "outputs": [
        {
          "output_type": "stream",
          "text": [
            "Go to this URL in a browser: https://accounts.google.com/o/oauth2/auth?client_id=947318989803-6bn6qk8qdgf4n4g3pfee6491hc0brc4i.apps.googleusercontent.com&redirect_uri=urn%3aietf%3awg%3aoauth%3a2.0%3aoob&response_type=code&scope=email%20https%3a%2f%2fwww.googleapis.com%2fauth%2fdocs.test%20https%3a%2f%2fwww.googleapis.com%2fauth%2fdrive%20https%3a%2f%2fwww.googleapis.com%2fauth%2fdrive.photos.readonly%20https%3a%2f%2fwww.googleapis.com%2fauth%2fpeopleapi.readonly\n",
            "\n",
            "Enter your authorization code:\n",
            "··········\n",
            "Mounted at /drive\n"
          ],
          "name": "stdout"
        },
        {
          "output_type": "execute_result",
          "data": {
            "text/plain": [
              "['Reviews.csv',\n",
              " 'Amazon_reviews_processed.csv',\n",
              " 'Amazon_reviews_cleaned_finalform.csv',\n",
              " 'Amazon_reviews_after_sentiment.csv',\n",
              " 'Amazon_reviews_sample_data.csv']"
            ]
          },
          "metadata": {
            "tags": []
          },
          "execution_count": 2
        }
      ]
    },
    {
      "cell_type": "code",
      "metadata": {
        "id": "N3atGC5iSK7L",
        "colab_type": "code",
        "colab": {}
      },
      "source": [
        "import pandas as pd\n",
        "import numpy as np"
      ],
      "execution_count": null,
      "outputs": []
    },
    {
      "cell_type": "code",
      "metadata": {
        "id": "iuSRbmjVSLeF",
        "colab_type": "code",
        "colab": {
          "base_uri": "https://localhost:8080/",
          "height": 206
        },
        "outputId": "218ad7b1-182e-4d98-e113-a4ef2a5d5928"
      },
      "source": [
        "df = pd.read_csv('Reviews.csv')\n",
        "df.head(5)"
      ],
      "execution_count": null,
      "outputs": [
        {
          "output_type": "execute_result",
          "data": {
            "text/html": [
              "<div>\n",
              "<style scoped>\n",
              "    .dataframe tbody tr th:only-of-type {\n",
              "        vertical-align: middle;\n",
              "    }\n",
              "\n",
              "    .dataframe tbody tr th {\n",
              "        vertical-align: top;\n",
              "    }\n",
              "\n",
              "    .dataframe thead th {\n",
              "        text-align: right;\n",
              "    }\n",
              "</style>\n",
              "<table border=\"1\" class=\"dataframe\">\n",
              "  <thead>\n",
              "    <tr style=\"text-align: right;\">\n",
              "      <th></th>\n",
              "      <th>Id</th>\n",
              "      <th>ProductId</th>\n",
              "      <th>UserId</th>\n",
              "      <th>ProfileName</th>\n",
              "      <th>HelpfulnessNumerator</th>\n",
              "      <th>HelpfulnessDenominator</th>\n",
              "      <th>Score</th>\n",
              "      <th>Time</th>\n",
              "      <th>Summary</th>\n",
              "      <th>Text</th>\n",
              "    </tr>\n",
              "  </thead>\n",
              "  <tbody>\n",
              "    <tr>\n",
              "      <th>0</th>\n",
              "      <td>1</td>\n",
              "      <td>B001E4KFG0</td>\n",
              "      <td>A3SGXH7AUHU8GW</td>\n",
              "      <td>delmartian</td>\n",
              "      <td>1</td>\n",
              "      <td>1</td>\n",
              "      <td>5</td>\n",
              "      <td>1303862400</td>\n",
              "      <td>Good Quality Dog Food</td>\n",
              "      <td>I have bought several of the Vitality canned d...</td>\n",
              "    </tr>\n",
              "    <tr>\n",
              "      <th>1</th>\n",
              "      <td>2</td>\n",
              "      <td>B00813GRG4</td>\n",
              "      <td>A1D87F6ZCVE5NK</td>\n",
              "      <td>dll pa</td>\n",
              "      <td>0</td>\n",
              "      <td>0</td>\n",
              "      <td>1</td>\n",
              "      <td>1346976000</td>\n",
              "      <td>Not as Advertised</td>\n",
              "      <td>Product arrived labeled as Jumbo Salted Peanut...</td>\n",
              "    </tr>\n",
              "    <tr>\n",
              "      <th>2</th>\n",
              "      <td>3</td>\n",
              "      <td>B000LQOCH0</td>\n",
              "      <td>ABXLMWJIXXAIN</td>\n",
              "      <td>Natalia Corres \"Natalia Corres\"</td>\n",
              "      <td>1</td>\n",
              "      <td>1</td>\n",
              "      <td>4</td>\n",
              "      <td>1219017600</td>\n",
              "      <td>\"Delight\" says it all</td>\n",
              "      <td>This is a confection that has been around a fe...</td>\n",
              "    </tr>\n",
              "    <tr>\n",
              "      <th>3</th>\n",
              "      <td>4</td>\n",
              "      <td>B000UA0QIQ</td>\n",
              "      <td>A395BORC6FGVXV</td>\n",
              "      <td>Karl</td>\n",
              "      <td>3</td>\n",
              "      <td>3</td>\n",
              "      <td>2</td>\n",
              "      <td>1307923200</td>\n",
              "      <td>Cough Medicine</td>\n",
              "      <td>If you are looking for the secret ingredient i...</td>\n",
              "    </tr>\n",
              "    <tr>\n",
              "      <th>4</th>\n",
              "      <td>5</td>\n",
              "      <td>B006K2ZZ7K</td>\n",
              "      <td>A1UQRSCLF8GW1T</td>\n",
              "      <td>Michael D. Bigham \"M. Wassir\"</td>\n",
              "      <td>0</td>\n",
              "      <td>0</td>\n",
              "      <td>5</td>\n",
              "      <td>1350777600</td>\n",
              "      <td>Great taffy</td>\n",
              "      <td>Great taffy at a great price.  There was a wid...</td>\n",
              "    </tr>\n",
              "  </tbody>\n",
              "</table>\n",
              "</div>"
            ],
            "text/plain": [
              "   Id  ...                                               Text\n",
              "0   1  ...  I have bought several of the Vitality canned d...\n",
              "1   2  ...  Product arrived labeled as Jumbo Salted Peanut...\n",
              "2   3  ...  This is a confection that has been around a fe...\n",
              "3   4  ...  If you are looking for the secret ingredient i...\n",
              "4   5  ...  Great taffy at a great price.  There was a wid...\n",
              "\n",
              "[5 rows x 10 columns]"
            ]
          },
          "metadata": {
            "tags": []
          },
          "execution_count": 4
        }
      ]
    },
    {
      "cell_type": "code",
      "metadata": {
        "id": "2GYBRwiySVwX",
        "colab_type": "code",
        "colab": {
          "base_uri": "https://localhost:8080/",
          "height": 341
        },
        "outputId": "644ad6c4-89c5-4494-d4d8-482e63b29a11"
      },
      "source": [
        "df.info()"
      ],
      "execution_count": null,
      "outputs": [
        {
          "output_type": "stream",
          "text": [
            "<class 'pandas.core.frame.DataFrame'>\n",
            "RangeIndex: 568454 entries, 0 to 568453\n",
            "Data columns (total 10 columns):\n",
            " #   Column                  Non-Null Count   Dtype \n",
            "---  ------                  --------------   ----- \n",
            " 0   Id                      568454 non-null  int64 \n",
            " 1   ProductId               568454 non-null  object\n",
            " 2   UserId                  568454 non-null  object\n",
            " 3   ProfileName             568438 non-null  object\n",
            " 4   HelpfulnessNumerator    568454 non-null  int64 \n",
            " 5   HelpfulnessDenominator  568454 non-null  int64 \n",
            " 6   Score                   568454 non-null  int64 \n",
            " 7   Time                    568454 non-null  int64 \n",
            " 8   Summary                 568427 non-null  object\n",
            " 9   Text                    568454 non-null  object\n",
            "dtypes: int64(5), object(5)\n",
            "memory usage: 43.4+ MB\n"
          ],
          "name": "stdout"
        }
      ]
    },
    {
      "cell_type": "code",
      "metadata": {
        "id": "CWybHT2yS0qk",
        "colab_type": "code",
        "colab": {
          "base_uri": "https://localhost:8080/",
          "height": 300
        },
        "outputId": "762f31c7-85d3-4989-af20-d0a887214064"
      },
      "source": [
        "df.describe().round(1)"
      ],
      "execution_count": null,
      "outputs": [
        {
          "output_type": "execute_result",
          "data": {
            "text/html": [
              "<div>\n",
              "<style scoped>\n",
              "    .dataframe tbody tr th:only-of-type {\n",
              "        vertical-align: middle;\n",
              "    }\n",
              "\n",
              "    .dataframe tbody tr th {\n",
              "        vertical-align: top;\n",
              "    }\n",
              "\n",
              "    .dataframe thead th {\n",
              "        text-align: right;\n",
              "    }\n",
              "</style>\n",
              "<table border=\"1\" class=\"dataframe\">\n",
              "  <thead>\n",
              "    <tr style=\"text-align: right;\">\n",
              "      <th></th>\n",
              "      <th>Id</th>\n",
              "      <th>HelpfulnessNumerator</th>\n",
              "      <th>HelpfulnessDenominator</th>\n",
              "      <th>Score</th>\n",
              "      <th>Time</th>\n",
              "    </tr>\n",
              "  </thead>\n",
              "  <tbody>\n",
              "    <tr>\n",
              "      <th>count</th>\n",
              "      <td>568454.0</td>\n",
              "      <td>568454.0</td>\n",
              "      <td>568454.0</td>\n",
              "      <td>568454.0</td>\n",
              "      <td>5.684540e+05</td>\n",
              "    </tr>\n",
              "    <tr>\n",
              "      <th>mean</th>\n",
              "      <td>284227.5</td>\n",
              "      <td>1.7</td>\n",
              "      <td>2.2</td>\n",
              "      <td>4.2</td>\n",
              "      <td>1.296257e+09</td>\n",
              "    </tr>\n",
              "    <tr>\n",
              "      <th>std</th>\n",
              "      <td>164098.7</td>\n",
              "      <td>7.6</td>\n",
              "      <td>8.3</td>\n",
              "      <td>1.3</td>\n",
              "      <td>4.804331e+07</td>\n",
              "    </tr>\n",
              "    <tr>\n",
              "      <th>min</th>\n",
              "      <td>1.0</td>\n",
              "      <td>0.0</td>\n",
              "      <td>0.0</td>\n",
              "      <td>1.0</td>\n",
              "      <td>9.393408e+08</td>\n",
              "    </tr>\n",
              "    <tr>\n",
              "      <th>25%</th>\n",
              "      <td>142114.2</td>\n",
              "      <td>0.0</td>\n",
              "      <td>0.0</td>\n",
              "      <td>4.0</td>\n",
              "      <td>1.271290e+09</td>\n",
              "    </tr>\n",
              "    <tr>\n",
              "      <th>50%</th>\n",
              "      <td>284227.5</td>\n",
              "      <td>0.0</td>\n",
              "      <td>1.0</td>\n",
              "      <td>5.0</td>\n",
              "      <td>1.311120e+09</td>\n",
              "    </tr>\n",
              "    <tr>\n",
              "      <th>75%</th>\n",
              "      <td>426340.8</td>\n",
              "      <td>2.0</td>\n",
              "      <td>2.0</td>\n",
              "      <td>5.0</td>\n",
              "      <td>1.332720e+09</td>\n",
              "    </tr>\n",
              "    <tr>\n",
              "      <th>max</th>\n",
              "      <td>568454.0</td>\n",
              "      <td>866.0</td>\n",
              "      <td>923.0</td>\n",
              "      <td>5.0</td>\n",
              "      <td>1.351210e+09</td>\n",
              "    </tr>\n",
              "  </tbody>\n",
              "</table>\n",
              "</div>"
            ],
            "text/plain": [
              "             Id  HelpfulnessNumerator  ...     Score          Time\n",
              "count  568454.0              568454.0  ...  568454.0  5.684540e+05\n",
              "mean   284227.5                   1.7  ...       4.2  1.296257e+09\n",
              "std    164098.7                   7.6  ...       1.3  4.804331e+07\n",
              "min         1.0                   0.0  ...       1.0  9.393408e+08\n",
              "25%    142114.2                   0.0  ...       4.0  1.271290e+09\n",
              "50%    284227.5                   0.0  ...       5.0  1.311120e+09\n",
              "75%    426340.8                   2.0  ...       5.0  1.332720e+09\n",
              "max    568454.0                 866.0  ...       5.0  1.351210e+09\n",
              "\n",
              "[8 rows x 5 columns]"
            ]
          },
          "metadata": {
            "tags": []
          },
          "execution_count": 6
        }
      ]
    },
    {
      "cell_type": "code",
      "metadata": {
        "id": "VYpgB2tPS9uR",
        "colab_type": "code",
        "colab": {
          "base_uri": "https://localhost:8080/",
          "height": 363
        },
        "outputId": "34b3b236-9af0-410a-babe-8b142d114b64"
      },
      "source": [
        "# Determine how many missing values exist in the collection, in which case you can use .sum() chained onto is.na()\n",
        "null_values=df.isna().sum()\n",
        "null_values=pd.DataFrame(null_values,columns=['null'])\n",
        "sum_tot=len(df)\n",
        "null_values['percent']=null_values['null']/sum_tot*100\n",
        "round(null_values,3).sort_values('percent',ascending=False)"
      ],
      "execution_count": null,
      "outputs": [
        {
          "output_type": "execute_result",
          "data": {
            "text/html": [
              "<div>\n",
              "<style scoped>\n",
              "    .dataframe tbody tr th:only-of-type {\n",
              "        vertical-align: middle;\n",
              "    }\n",
              "\n",
              "    .dataframe tbody tr th {\n",
              "        vertical-align: top;\n",
              "    }\n",
              "\n",
              "    .dataframe thead th {\n",
              "        text-align: right;\n",
              "    }\n",
              "</style>\n",
              "<table border=\"1\" class=\"dataframe\">\n",
              "  <thead>\n",
              "    <tr style=\"text-align: right;\">\n",
              "      <th></th>\n",
              "      <th>null</th>\n",
              "      <th>percent</th>\n",
              "    </tr>\n",
              "  </thead>\n",
              "  <tbody>\n",
              "    <tr>\n",
              "      <th>Summary</th>\n",
              "      <td>27</td>\n",
              "      <td>0.005</td>\n",
              "    </tr>\n",
              "    <tr>\n",
              "      <th>ProfileName</th>\n",
              "      <td>16</td>\n",
              "      <td>0.003</td>\n",
              "    </tr>\n",
              "    <tr>\n",
              "      <th>Id</th>\n",
              "      <td>0</td>\n",
              "      <td>0.000</td>\n",
              "    </tr>\n",
              "    <tr>\n",
              "      <th>ProductId</th>\n",
              "      <td>0</td>\n",
              "      <td>0.000</td>\n",
              "    </tr>\n",
              "    <tr>\n",
              "      <th>UserId</th>\n",
              "      <td>0</td>\n",
              "      <td>0.000</td>\n",
              "    </tr>\n",
              "    <tr>\n",
              "      <th>HelpfulnessNumerator</th>\n",
              "      <td>0</td>\n",
              "      <td>0.000</td>\n",
              "    </tr>\n",
              "    <tr>\n",
              "      <th>HelpfulnessDenominator</th>\n",
              "      <td>0</td>\n",
              "      <td>0.000</td>\n",
              "    </tr>\n",
              "    <tr>\n",
              "      <th>Score</th>\n",
              "      <td>0</td>\n",
              "      <td>0.000</td>\n",
              "    </tr>\n",
              "    <tr>\n",
              "      <th>Time</th>\n",
              "      <td>0</td>\n",
              "      <td>0.000</td>\n",
              "    </tr>\n",
              "    <tr>\n",
              "      <th>Text</th>\n",
              "      <td>0</td>\n",
              "      <td>0.000</td>\n",
              "    </tr>\n",
              "  </tbody>\n",
              "</table>\n",
              "</div>"
            ],
            "text/plain": [
              "                        null  percent\n",
              "Summary                   27    0.005\n",
              "ProfileName               16    0.003\n",
              "Id                         0    0.000\n",
              "ProductId                  0    0.000\n",
              "UserId                     0    0.000\n",
              "HelpfulnessNumerator       0    0.000\n",
              "HelpfulnessDenominator     0    0.000\n",
              "Score                      0    0.000\n",
              "Time                       0    0.000\n",
              "Text                       0    0.000"
            ]
          },
          "metadata": {
            "tags": []
          },
          "execution_count": 7
        }
      ]
    },
    {
      "cell_type": "markdown",
      "metadata": {
        "colab_type": "text",
        "id": "f9Pj6bFjZk_K"
      },
      "source": [
        "We have small number of missing values. We can drop them completely."
      ]
    },
    {
      "cell_type": "code",
      "metadata": {
        "id": "wSlkx8rBY4q1",
        "colab_type": "code",
        "colab": {
          "base_uri": "https://localhost:8080/",
          "height": 36
        },
        "outputId": "441cd552-63af-4d08-b4b1-bec55ebd1fbe"
      },
      "source": [
        "df= df.dropna()\n",
        "df.shape"
      ],
      "execution_count": null,
      "outputs": [
        {
          "output_type": "execute_result",
          "data": {
            "text/plain": [
              "(568411, 10)"
            ]
          },
          "metadata": {
            "tags": []
          },
          "execution_count": 8
        }
      ]
    },
    {
      "cell_type": "markdown",
      "metadata": {
        "id": "uMQnlxMoZrCC",
        "colab_type": "text"
      },
      "source": [
        "# Basic Feature Extraction - 1"
      ]
    },
    {
      "cell_type": "markdown",
      "metadata": {
        "id": "3qzq7Z2XZt4v",
        "colab_type": "text"
      },
      "source": [
        "Normally, I tried to make data cleaning first. Then, I realized that while making data cleaning, I am losing some of characters that can help data cleaning. Therefore, there will be two part of feature extraction. Here, I will extract features that can't be exracted after data cleaning."
      ]
    },
    {
      "cell_type": "markdown",
      "metadata": {
        "id": "AyuO7pdDZznX",
        "colab_type": "text"
      },
      "source": [
        "### 1) Number of stopwords"
      ]
    },
    {
      "cell_type": "code",
      "metadata": {
        "id": "FXCED1U_ZzCD",
        "colab_type": "code",
        "colab": {
          "base_uri": "https://localhost:8080/",
          "height": 188
        },
        "outputId": "e7232253-654f-4f50-c42d-69a98cb531aa"
      },
      "source": [
        "!pip install -q wordcloud\n",
        "import wordcloud\n",
        "from nltk.corpus import stopwords\n",
        "import nltk\n",
        "import string\n",
        "nltk.download('stopwords')\n",
        "nltk.download('wordnet')\n",
        "nltk.download('punkt')\n",
        "nltk.download('averaged_perceptron_tagger')\n",
        "stop = stopwords.words('english')"
      ],
      "execution_count": null,
      "outputs": [
        {
          "output_type": "stream",
          "text": [
            "[nltk_data] Downloading package stopwords to /root/nltk_data...\n",
            "[nltk_data]   Unzipping corpora/stopwords.zip.\n",
            "[nltk_data] Downloading package wordnet to /root/nltk_data...\n",
            "[nltk_data]   Unzipping corpora/wordnet.zip.\n",
            "[nltk_data] Downloading package punkt to /root/nltk_data...\n",
            "[nltk_data]   Unzipping tokenizers/punkt.zip.\n",
            "[nltk_data] Downloading package averaged_perceptron_tagger to\n",
            "[nltk_data]     /root/nltk_data...\n",
            "[nltk_data]   Unzipping taggers/averaged_perceptron_tagger.zip.\n"
          ],
          "name": "stdout"
        }
      ]
    },
    {
      "cell_type": "code",
      "metadata": {
        "id": "I-aTbPcnSUfP",
        "colab_type": "code",
        "colab": {
          "base_uri": "https://localhost:8080/",
          "height": 206
        },
        "outputId": "206e5be3-dbdf-4b92-9532-ee63f9ffe271"
      },
      "source": [
        "df['stopwords'] = df['Text'].apply(lambda x: len([x for x in x.split() if x in stop]))\n",
        "df[['Text','stopwords']].head()"
      ],
      "execution_count": null,
      "outputs": [
        {
          "output_type": "execute_result",
          "data": {
            "text/html": [
              "<div>\n",
              "<style scoped>\n",
              "    .dataframe tbody tr th:only-of-type {\n",
              "        vertical-align: middle;\n",
              "    }\n",
              "\n",
              "    .dataframe tbody tr th {\n",
              "        vertical-align: top;\n",
              "    }\n",
              "\n",
              "    .dataframe thead th {\n",
              "        text-align: right;\n",
              "    }\n",
              "</style>\n",
              "<table border=\"1\" class=\"dataframe\">\n",
              "  <thead>\n",
              "    <tr style=\"text-align: right;\">\n",
              "      <th></th>\n",
              "      <th>Text</th>\n",
              "      <th>stopwords</th>\n",
              "    </tr>\n",
              "  </thead>\n",
              "  <tbody>\n",
              "    <tr>\n",
              "      <th>0</th>\n",
              "      <td>I have bought several of the Vitality canned d...</td>\n",
              "      <td>21</td>\n",
              "    </tr>\n",
              "    <tr>\n",
              "      <th>1</th>\n",
              "      <td>Product arrived labeled as Jumbo Salted Peanut...</td>\n",
              "      <td>12</td>\n",
              "    </tr>\n",
              "    <tr>\n",
              "      <th>2</th>\n",
              "      <td>This is a confection that has been around a fe...</td>\n",
              "      <td>42</td>\n",
              "    </tr>\n",
              "    <tr>\n",
              "      <th>3</th>\n",
              "      <td>If you are looking for the secret ingredient i...</td>\n",
              "      <td>15</td>\n",
              "    </tr>\n",
              "    <tr>\n",
              "      <th>4</th>\n",
              "      <td>Great taffy at a great price.  There was a wid...</td>\n",
              "      <td>12</td>\n",
              "    </tr>\n",
              "  </tbody>\n",
              "</table>\n",
              "</div>"
            ],
            "text/plain": [
              "                                                Text  stopwords\n",
              "0  I have bought several of the Vitality canned d...         21\n",
              "1  Product arrived labeled as Jumbo Salted Peanut...         12\n",
              "2  This is a confection that has been around a fe...         42\n",
              "3  If you are looking for the secret ingredient i...         15\n",
              "4  Great taffy at a great price.  There was a wid...         12"
            ]
          },
          "metadata": {
            "tags": []
          },
          "execution_count": 10
        }
      ]
    },
    {
      "cell_type": "markdown",
      "metadata": {
        "id": "jOimT9DYhbUb",
        "colab_type": "text"
      },
      "source": [
        "2. Number of Punctuation"
      ]
    },
    {
      "cell_type": "code",
      "metadata": {
        "id": "lRtk9lil9VCx",
        "colab_type": "code",
        "colab": {}
      },
      "source": [
        "def count_punct(text):\n",
        "    count = sum([1 for char in text if char in string.punctuation])\n",
        "    return count\n",
        "\n",
        "df['punctuation'] = df['Text'].apply(lambda x: count_punct(x))"
      ],
      "execution_count": null,
      "outputs": []
    },
    {
      "cell_type": "code",
      "metadata": {
        "id": "Rwdr0fiRa6i1",
        "colab_type": "code",
        "colab": {
          "base_uri": "https://localhost:8080/",
          "height": 206
        },
        "outputId": "2c042567-ccc7-4f19-d328-111b537463ed"
      },
      "source": [
        "df[['Text','punctuation']].head()"
      ],
      "execution_count": null,
      "outputs": [
        {
          "output_type": "execute_result",
          "data": {
            "text/html": [
              "<div>\n",
              "<style scoped>\n",
              "    .dataframe tbody tr th:only-of-type {\n",
              "        vertical-align: middle;\n",
              "    }\n",
              "\n",
              "    .dataframe tbody tr th {\n",
              "        vertical-align: top;\n",
              "    }\n",
              "\n",
              "    .dataframe thead th {\n",
              "        text-align: right;\n",
              "    }\n",
              "</style>\n",
              "<table border=\"1\" class=\"dataframe\">\n",
              "  <thead>\n",
              "    <tr style=\"text-align: right;\">\n",
              "      <th></th>\n",
              "      <th>Text</th>\n",
              "      <th>punctuation</th>\n",
              "    </tr>\n",
              "  </thead>\n",
              "  <tbody>\n",
              "    <tr>\n",
              "      <th>0</th>\n",
              "      <td>I have bought several of the Vitality canned d...</td>\n",
              "      <td>3</td>\n",
              "    </tr>\n",
              "    <tr>\n",
              "      <th>1</th>\n",
              "      <td>Product arrived labeled as Jumbo Salted Peanut...</td>\n",
              "      <td>7</td>\n",
              "    </tr>\n",
              "    <tr>\n",
              "      <th>2</th>\n",
              "      <td>This is a confection that has been around a fe...</td>\n",
              "      <td>18</td>\n",
              "    </tr>\n",
              "    <tr>\n",
              "      <th>3</th>\n",
              "      <td>If you are looking for the secret ingredient i...</td>\n",
              "      <td>5</td>\n",
              "    </tr>\n",
              "    <tr>\n",
              "      <th>4</th>\n",
              "      <td>Great taffy at a great price.  There was a wid...</td>\n",
              "      <td>5</td>\n",
              "    </tr>\n",
              "  </tbody>\n",
              "</table>\n",
              "</div>"
            ],
            "text/plain": [
              "                                                Text  punctuation\n",
              "0  I have bought several of the Vitality canned d...            3\n",
              "1  Product arrived labeled as Jumbo Salted Peanut...            7\n",
              "2  This is a confection that has been around a fe...           18\n",
              "3  If you are looking for the secret ingredient i...            5\n",
              "4  Great taffy at a great price.  There was a wid...            5"
            ]
          },
          "metadata": {
            "tags": []
          },
          "execution_count": 12
        }
      ]
    },
    {
      "cell_type": "markdown",
      "metadata": {
        "id": "se2IozmTaOQf",
        "colab_type": "text"
      },
      "source": [
        "### 2) Number of hashtag characters\n",
        "\n",
        "One more interesting feature which we can extract from a review is calculating the number of hashtags or mentions present in it. This also helps in extracting extra information from our text data."
      ]
    },
    {
      "cell_type": "code",
      "metadata": {
        "id": "heKqiw6c9VG0",
        "colab_type": "code",
        "colab": {
          "base_uri": "https://localhost:8080/",
          "height": 206
        },
        "outputId": "97924133-d8ba-40d2-b391-403e2b9f8701"
      },
      "source": [
        "df['hastags'] = df['Text'].apply(lambda x: len([x for x in x.split() if x.startswith('#')]))\n",
        "df[['Text','hastags']].head()"
      ],
      "execution_count": null,
      "outputs": [
        {
          "output_type": "execute_result",
          "data": {
            "text/html": [
              "<div>\n",
              "<style scoped>\n",
              "    .dataframe tbody tr th:only-of-type {\n",
              "        vertical-align: middle;\n",
              "    }\n",
              "\n",
              "    .dataframe tbody tr th {\n",
              "        vertical-align: top;\n",
              "    }\n",
              "\n",
              "    .dataframe thead th {\n",
              "        text-align: right;\n",
              "    }\n",
              "</style>\n",
              "<table border=\"1\" class=\"dataframe\">\n",
              "  <thead>\n",
              "    <tr style=\"text-align: right;\">\n",
              "      <th></th>\n",
              "      <th>Text</th>\n",
              "      <th>hastags</th>\n",
              "    </tr>\n",
              "  </thead>\n",
              "  <tbody>\n",
              "    <tr>\n",
              "      <th>0</th>\n",
              "      <td>I have bought several of the Vitality canned d...</td>\n",
              "      <td>0</td>\n",
              "    </tr>\n",
              "    <tr>\n",
              "      <th>1</th>\n",
              "      <td>Product arrived labeled as Jumbo Salted Peanut...</td>\n",
              "      <td>0</td>\n",
              "    </tr>\n",
              "    <tr>\n",
              "      <th>2</th>\n",
              "      <td>This is a confection that has been around a fe...</td>\n",
              "      <td>0</td>\n",
              "    </tr>\n",
              "    <tr>\n",
              "      <th>3</th>\n",
              "      <td>If you are looking for the secret ingredient i...</td>\n",
              "      <td>0</td>\n",
              "    </tr>\n",
              "    <tr>\n",
              "      <th>4</th>\n",
              "      <td>Great taffy at a great price.  There was a wid...</td>\n",
              "      <td>0</td>\n",
              "    </tr>\n",
              "  </tbody>\n",
              "</table>\n",
              "</div>"
            ],
            "text/plain": [
              "                                                Text  hastags\n",
              "0  I have bought several of the Vitality canned d...        0\n",
              "1  Product arrived labeled as Jumbo Salted Peanut...        0\n",
              "2  This is a confection that has been around a fe...        0\n",
              "3  If you are looking for the secret ingredient i...        0\n",
              "4  Great taffy at a great price.  There was a wid...        0"
            ]
          },
          "metadata": {
            "tags": []
          },
          "execution_count": 13
        }
      ]
    },
    {
      "cell_type": "code",
      "metadata": {
        "id": "q3MbnNH1bA5H",
        "colab_type": "code",
        "colab": {
          "base_uri": "https://localhost:8080/",
          "height": 36
        },
        "outputId": "85f99f99-7a73-434c-df93-9b0284db2813"
      },
      "source": [
        "df.hastags.loc[df.hastags != 0].count()"
      ],
      "execution_count": null,
      "outputs": [
        {
          "output_type": "execute_result",
          "data": {
            "text/plain": [
              "1414"
            ]
          },
          "metadata": {
            "tags": []
          },
          "execution_count": 14
        }
      ]
    },
    {
      "cell_type": "markdown",
      "metadata": {
        "id": "UQ67amRYamFu",
        "colab_type": "text"
      },
      "source": [
        "### 3) Number of numerics\n",
        "Calculate the number of numerics which are present in the tweets can be useful. At least, it doesn't hurt to have such a data!"
      ]
    },
    {
      "cell_type": "code",
      "metadata": {
        "id": "-Sy3VyUNamhv",
        "colab_type": "code",
        "colab": {
          "base_uri": "https://localhost:8080/"
        },
        "outputId": "314385f9-b20c-4fb3-dcee-139104635e6b"
      },
      "source": [
        "df['numerics'] = df['Text'].apply(lambda x: len([x for x in x.split() if x.isdigit()]))\n",
        "df[['Text','numerics']].head()"
      ],
      "execution_count": null,
      "outputs": [
        {
          "output_type": "execute_result",
          "data": {
            "text/html": [
              "<div>\n",
              "<style scoped>\n",
              "    .dataframe tbody tr th:only-of-type {\n",
              "        vertical-align: middle;\n",
              "    }\n",
              "\n",
              "    .dataframe tbody tr th {\n",
              "        vertical-align: top;\n",
              "    }\n",
              "\n",
              "    .dataframe thead th {\n",
              "        text-align: right;\n",
              "    }\n",
              "</style>\n",
              "<table border=\"1\" class=\"dataframe\">\n",
              "  <thead>\n",
              "    <tr style=\"text-align: right;\">\n",
              "      <th></th>\n",
              "      <th>Text</th>\n",
              "      <th>numerics</th>\n",
              "    </tr>\n",
              "  </thead>\n",
              "  <tbody>\n",
              "    <tr>\n",
              "      <th>0</th>\n",
              "      <td>I have bought several of the Vitality canned d...</td>\n",
              "      <td>0</td>\n",
              "    </tr>\n",
              "    <tr>\n",
              "      <th>1</th>\n",
              "      <td>Product arrived labeled as Jumbo Salted Peanut...</td>\n",
              "      <td>0</td>\n",
              "    </tr>\n",
              "    <tr>\n",
              "      <th>2</th>\n",
              "      <td>This is a confection that has been around a fe...</td>\n",
              "      <td>0</td>\n",
              "    </tr>\n",
              "    <tr>\n",
              "      <th>3</th>\n",
              "      <td>If you are looking for the secret ingredient i...</td>\n",
              "      <td>0</td>\n",
              "    </tr>\n",
              "    <tr>\n",
              "      <th>4</th>\n",
              "      <td>Great taffy at a great price.  There was a wid...</td>\n",
              "      <td>0</td>\n",
              "    </tr>\n",
              "  </tbody>\n",
              "</table>\n",
              "</div>"
            ],
            "text/plain": [
              "                                                Text  numerics\n",
              "0  I have bought several of the Vitality canned d...         0\n",
              "1  Product arrived labeled as Jumbo Salted Peanut...         0\n",
              "2  This is a confection that has been around a fe...         0\n",
              "3  If you are looking for the secret ingredient i...         0\n",
              "4  Great taffy at a great price.  There was a wid...         0"
            ]
          },
          "metadata": {
            "tags": []
          },
          "execution_count": 15
        }
      ]
    },
    {
      "cell_type": "markdown",
      "metadata": {
        "id": "n0s4Y9KmaqvA",
        "colab_type": "text"
      },
      "source": [
        "### 4) Number of Uppercase words\n",
        "Anger or rage is quite often expressed by writing in UPPERCASE words which makes this a necessary operation to identify those words."
      ]
    },
    {
      "cell_type": "code",
      "metadata": {
        "id": "AI4aA43ka2Vo",
        "colab_type": "code",
        "colab": {
          "base_uri": "https://localhost:8080/"
        },
        "outputId": "0902c309-2889-4769-80ce-6cf2fc9e3adc"
      },
      "source": [
        "df['upper'] = df['Text'].apply(lambda x: len([x for x in x.split() if x.isupper()]))\n",
        "df[['Text','upper']].head()"
      ],
      "execution_count": null,
      "outputs": [
        {
          "output_type": "execute_result",
          "data": {
            "text/html": [
              "<div>\n",
              "<style scoped>\n",
              "    .dataframe tbody tr th:only-of-type {\n",
              "        vertical-align: middle;\n",
              "    }\n",
              "\n",
              "    .dataframe tbody tr th {\n",
              "        vertical-align: top;\n",
              "    }\n",
              "\n",
              "    .dataframe thead th {\n",
              "        text-align: right;\n",
              "    }\n",
              "</style>\n",
              "<table border=\"1\" class=\"dataframe\">\n",
              "  <thead>\n",
              "    <tr style=\"text-align: right;\">\n",
              "      <th></th>\n",
              "      <th>Text</th>\n",
              "      <th>upper</th>\n",
              "    </tr>\n",
              "  </thead>\n",
              "  <tbody>\n",
              "    <tr>\n",
              "      <th>0</th>\n",
              "      <td>I have bought several of the Vitality canned d...</td>\n",
              "      <td>1</td>\n",
              "    </tr>\n",
              "    <tr>\n",
              "      <th>1</th>\n",
              "      <td>Product arrived labeled as Jumbo Salted Peanut...</td>\n",
              "      <td>0</td>\n",
              "    </tr>\n",
              "    <tr>\n",
              "      <th>2</th>\n",
              "      <td>This is a confection that has been around a fe...</td>\n",
              "      <td>2</td>\n",
              "    </tr>\n",
              "    <tr>\n",
              "      <th>3</th>\n",
              "      <td>If you are looking for the secret ingredient i...</td>\n",
              "      <td>4</td>\n",
              "    </tr>\n",
              "    <tr>\n",
              "      <th>4</th>\n",
              "      <td>Great taffy at a great price.  There was a wid...</td>\n",
              "      <td>0</td>\n",
              "    </tr>\n",
              "  </tbody>\n",
              "</table>\n",
              "</div>"
            ],
            "text/plain": [
              "                                                Text  upper\n",
              "0  I have bought several of the Vitality canned d...      1\n",
              "1  Product arrived labeled as Jumbo Salted Peanut...      0\n",
              "2  This is a confection that has been around a fe...      2\n",
              "3  If you are looking for the secret ingredient i...      4\n",
              "4  Great taffy at a great price.  There was a wid...      0"
            ]
          },
          "metadata": {
            "tags": []
          },
          "execution_count": 16
        }
      ]
    },
    {
      "cell_type": "markdown",
      "metadata": {
        "id": "BTJuoOSjcP7P",
        "colab_type": "text"
      },
      "source": [
        "\n",
        "\n",
        "---\n",
        "\n",
        "\n",
        "\n",
        "---\n",
        "\n",
        "\n",
        "\n",
        "---\n",
        "\n"
      ]
    },
    {
      "cell_type": "markdown",
      "metadata": {
        "id": "dmLGGqN1a0_a",
        "colab_type": "text"
      },
      "source": [
        "# **Text cleaning techniques**"
      ]
    },
    {
      "cell_type": "markdown",
      "metadata": {
        "id": "PsQrL9pYcaCD",
        "colab_type": "text"
      },
      "source": [
        "### Make all text lower case"
      ]
    },
    {
      "cell_type": "markdown",
      "metadata": {
        "id": "rxgqwFY3ccu4",
        "colab_type": "text"
      },
      "source": [
        "The first pre-processing step which we will do is transform our reviews into lower case. This avoids having multiple copies of the same words. For example, while calculating the word count, ‘Analytics’ and ‘analytics’ will be taken as different words."
      ]
    },
    {
      "cell_type": "code",
      "metadata": {
        "id": "ypjQgucycSqE",
        "colab_type": "code",
        "colab": {
          "base_uri": "https://localhost:8080/",
          "height": 131
        },
        "outputId": "03ef3837-5236-4b32-91d1-046b73a5fc29"
      },
      "source": [
        "df['Text'] = df['Text'].apply(lambda x: \" \".join(x.lower() for x in x.split()))\n",
        "df['Text'].head()"
      ],
      "execution_count": null,
      "outputs": [
        {
          "output_type": "execute_result",
          "data": {
            "text/plain": [
              "0    i have bought several of the vitality canned d...\n",
              "1    product arrived labeled as jumbo salted peanut...\n",
              "2    this is a confection that has been around a fe...\n",
              "3    if you are looking for the secret ingredient i...\n",
              "4    great taffy at a great price. there was a wide...\n",
              "Name: Text, dtype: object"
            ]
          },
          "metadata": {
            "tags": []
          },
          "execution_count": 17
        }
      ]
    },
    {
      "cell_type": "markdown",
      "metadata": {
        "id": "oRuQsr1jcpyd",
        "colab_type": "text"
      },
      "source": [
        "### Removing Punctuation"
      ]
    },
    {
      "cell_type": "code",
      "metadata": {
        "id": "_XQbtgSpcYsw",
        "colab_type": "code",
        "colab": {
          "base_uri": "https://localhost:8080/",
          "height": 131
        },
        "outputId": "b2ca0d8a-6134-4988-f476-dcf471896494"
      },
      "source": [
        "df['Text'] = df['Text'].str.replace('[^\\w\\s]','')\n",
        "df['Text'].head()"
      ],
      "execution_count": null,
      "outputs": [
        {
          "output_type": "execute_result",
          "data": {
            "text/plain": [
              "0    i have bought several of the vitality canned d...\n",
              "1    product arrived labeled as jumbo salted peanut...\n",
              "2    this is a confection that has been around a fe...\n",
              "3    if you are looking for the secret ingredient i...\n",
              "4    great taffy at a great price there was a wide ...\n",
              "Name: Text, dtype: object"
            ]
          },
          "metadata": {
            "tags": []
          },
          "execution_count": 18
        }
      ]
    },
    {
      "cell_type": "markdown",
      "metadata": {
        "id": "cDNg_BGaenXo",
        "colab_type": "text"
      },
      "source": [
        "### Removal of Stop Words"
      ]
    },
    {
      "cell_type": "code",
      "metadata": {
        "id": "LpAwkZQMemjb",
        "colab_type": "code",
        "colab": {
          "base_uri": "https://localhost:8080/",
          "height": 226
        },
        "outputId": "f06b746a-349e-4dbc-dd03-226157e637a7"
      },
      "source": [
        "from nltk.corpus import stopwords\n",
        "stop = stopwords.words('english')\n",
        "df['Text'] = df['Text'].apply(lambda x: \" \".join(x for x in x.split() if x not in stop))\n",
        "df['Text'].sample(10)"
      ],
      "execution_count": null,
      "outputs": [
        {
          "output_type": "execute_result",
          "data": {
            "text/plain": [
              "524782    time realized tea nothing make nauseated 3 tea...\n",
              "346063    cider really good option sugar free better col...\n",
              "187558    cost lot shipped amazing cool pack arrives col...\n",
              "158972    cookies great flavor love texture filling 6 pk...\n",
              "274784    sadaf vinegar red wine 32oz seems watered vers...\n",
              "24060     delicious snacks tastedit amazing serving size...\n",
              "465953    im already big fan red leaf teas green apple m...\n",
              "506067    seeing glowing reviews matcha try trying mango...\n",
              "503433    like spicy ths use without ingredient make hot...\n",
              "179523    good stuff used find warehouse store dont stoc...\n",
              "Name: Text, dtype: object"
            ]
          },
          "metadata": {
            "tags": []
          },
          "execution_count": 19
        }
      ]
    },
    {
      "cell_type": "markdown",
      "metadata": {
        "id": "2MAvQ09NQ5As",
        "colab_type": "text"
      },
      "source": [
        "### Removing URLs"
      ]
    },
    {
      "cell_type": "code",
      "metadata": {
        "id": "kLJa1rgQQo8P",
        "colab_type": "code",
        "colab": {}
      },
      "source": [
        "def remove_url(text):\n",
        "    url = re.compile(r'https?://\\S+|www\\.\\S+')\n",
        "    return url.sub(r'', text)"
      ],
      "execution_count": null,
      "outputs": []
    },
    {
      "cell_type": "code",
      "metadata": {
        "id": "DkJYkkCNQsyj",
        "colab_type": "code",
        "colab": {}
      },
      "source": [
        "# remove all urls from df\n",
        "import re\n",
        "import string\n",
        "\n",
        "df['Text'] = df['Text'].apply(lambda x: remove_url(x))"
      ],
      "execution_count": null,
      "outputs": []
    },
    {
      "cell_type": "markdown",
      "metadata": {
        "id": "gnKhvH09ewO7",
        "colab_type": "text"
      },
      "source": [
        "### Remove html tags"
      ]
    },
    {
      "cell_type": "code",
      "metadata": {
        "id": "bRcdtF6EQ-HU",
        "colab_type": "code",
        "colab": {}
      },
      "source": [
        "def remove_html(text):\n",
        "    html=re.compile(r'<.*?>')\n",
        "    return html.sub(r'',text)"
      ],
      "execution_count": null,
      "outputs": []
    },
    {
      "cell_type": "code",
      "metadata": {
        "id": "pqKhOD-YRCer",
        "colab_type": "code",
        "colab": {}
      },
      "source": [
        "# remove all html tags from df\n",
        "df['Text'] = df['Text'].apply(lambda x: remove_html(x))"
      ],
      "execution_count": null,
      "outputs": []
    },
    {
      "cell_type": "markdown",
      "metadata": {
        "id": "dvQHrvdARMMK",
        "colab_type": "text"
      },
      "source": [
        " ### Removing Emojis\n",
        "Emojis can be indictor of some emotions that can be related to being customer satisfaction. Unfortunately, we need to remove the emojis in our text analysis"
      ]
    },
    {
      "cell_type": "code",
      "metadata": {
        "id": "r2YZxgFMRpDS",
        "colab_type": "code",
        "colab": {}
      },
      "source": [
        "# Reference : https://gist.github.com/slowkow/7a7f61f495e3dbb7e3d767f97bd7304b\n",
        "def remove_emoji(text):\n",
        "    emoji_pattern = re.compile(\"[\"\n",
        "                           u\"\\U0001F600-\\U0001F64F\"  # emoticons\n",
        "                           u\"\\U0001F300-\\U0001F5FF\"  # symbols & pictographs\n",
        "                           u\"\\U0001F680-\\U0001F6FF\"  # transport & map symbols\n",
        "                           u\"\\U0001F1E0-\\U0001F1FF\"  # flags \n",
        "                           u\"\\U00002702-\\U000027B0\"\n",
        "                           u\"\\U000024C2-\\U0001F251\"\n",
        "                           \"]+\", flags=re.UNICODE)\n",
        "    return emoji_pattern.sub(r'', text)"
      ],
      "execution_count": null,
      "outputs": []
    },
    {
      "cell_type": "code",
      "metadata": {
        "id": "V-0FGg4-RthN",
        "colab_type": "code",
        "colab": {
          "base_uri": "https://localhost:8080/"
        },
        "outputId": "b7a505e1-e111-4dc0-c49b-17dadaef7b5b"
      },
      "source": [
        "#Example\n",
        "remove_emoji(\"Omg another Earthquake 😔😔\")"
      ],
      "execution_count": null,
      "outputs": [
        {
          "output_type": "execute_result",
          "data": {
            "text/plain": [
              "'Omg another Earthquake '"
            ]
          },
          "metadata": {
            "tags": []
          },
          "execution_count": 25
        }
      ]
    },
    {
      "cell_type": "code",
      "metadata": {
        "id": "I0Qy59gKRxPY",
        "colab_type": "code",
        "colab": {}
      },
      "source": [
        "# remove all emojis from df\n",
        "df['Text'] = df['Text'].apply(lambda x: remove_emoji(x))"
      ],
      "execution_count": null,
      "outputs": []
    },
    {
      "cell_type": "markdown",
      "metadata": {
        "id": "wVqAJNvIUF9I",
        "colab_type": "text"
      },
      "source": [
        "###Remove Emoticons\n",
        "\n",
        "In previous steps, we have removed emoji. Now, going to remove emoticons. \n",
        "\n",
        "***What is the difference between emoji and emoticons?***\n",
        "\n",
        "*   :-) is an emoticon\n",
        "*   😜 → emoji."
      ]
    },
    {
      "cell_type": "code",
      "metadata": {
        "id": "PUMYo_l3VplO",
        "colab_type": "code",
        "colab": {
          "base_uri": "https://localhost:8080/",
          "height": 93
        },
        "outputId": "00aefcfb-532b-4d50-b998-7e34320f8685"
      },
      "source": [
        "!pip install emot"
      ],
      "execution_count": null,
      "outputs": [
        {
          "output_type": "stream",
          "text": [
            "Collecting emot\n",
            "  Downloading https://files.pythonhosted.org/packages/49/07/20001ade19873de611b7b66a4d5e5aabbf190d65abea337d5deeaa2bc3de/emot-2.1-py3-none-any.whl\n",
            "Installing collected packages: emot\n",
            "Successfully installed emot-2.1\n"
          ],
          "name": "stdout"
        }
      ]
    },
    {
      "cell_type": "code",
      "metadata": {
        "id": "OGXwq42UUKeh",
        "colab_type": "code",
        "colab": {}
      },
      "source": [
        "from emot.emo_unicode import UNICODE_EMO, EMOTICONS\n",
        "\n",
        "# Function for removing emoticons\n",
        "def remove_emoticons(text):\n",
        "    emoticon_pattern = re.compile(u'(' + u'|'.join(k for k in EMOTICONS) + u')')\n",
        "    return emoticon_pattern.sub(r'', text)"
      ],
      "execution_count": null,
      "outputs": []
    },
    {
      "cell_type": "code",
      "metadata": {
        "id": "GAQlHX3XUzH7",
        "colab_type": "code",
        "colab": {
          "base_uri": "https://localhost:8080/",
          "height": 36
        },
        "outputId": "85513e16-8bf5-4de5-f198-e9cdf7252085"
      },
      "source": [
        "#Example\n",
        "remove_emoticons(\"Hello :-)\")"
      ],
      "execution_count": null,
      "outputs": [
        {
          "output_type": "execute_result",
          "data": {
            "text/plain": [
              "'Hello '"
            ]
          },
          "metadata": {
            "tags": []
          },
          "execution_count": 29
        }
      ]
    },
    {
      "cell_type": "code",
      "metadata": {
        "id": "tHILrciOU_-O",
        "colab_type": "code",
        "colab": {}
      },
      "source": [
        "df['Text'] = df['Text'].apply(lambda x: remove_emoticons(x))"
      ],
      "execution_count": null,
      "outputs": []
    },
    {
      "cell_type": "markdown",
      "metadata": {
        "id": "Hp-rANfLe5dr",
        "colab_type": "text"
      },
      "source": [
        "### Spell Correction\n",
        "\n",
        "We’ve all seen tweets with a plethora of spelling mistakes. Our timelines are often filled with hastly sent tweets that are barely legible at times.\n",
        "\n",
        "In that regard, spelling correction is a useful pre-processing step because this also will help us in reducing multiple copies of words. For example, “Analytics” and “analytcs” will be treated as different words even if they are used in the same sense.\n",
        "\n",
        "To achieve this we will use the textblob library. "
      ]
    },
    {
      "cell_type": "code",
      "metadata": {
        "id": "AFMenvnHe6er",
        "colab_type": "code",
        "colab": {
          "base_uri": "https://localhost:8080/",
          "height": 131
        },
        "outputId": "1e79c968-287c-47c3-ba79-8dfb1b4bbff7"
      },
      "source": [
        "from textblob import TextBlob\n",
        "df['Text'][:5].apply(lambda x: str(TextBlob(x).correct()))"
      ],
      "execution_count": null,
      "outputs": [
        {
          "output_type": "execute_result",
          "data": {
            "text/plain": [
              "0    bought several vitality canned dog food produc...\n",
              "1    product arrived labelled lumbo halted peanutst...\n",
              "2    connection around centuries light pillow citie...\n",
              "3    looking secret ingredient robitussin believe f...\n",
              "4    great staff great price wide assortment mummy ...\n",
              "Name: Text, dtype: object"
            ]
          },
          "metadata": {
            "tags": []
          },
          "execution_count": 31
        }
      ]
    },
    {
      "cell_type": "code",
      "metadata": {
        "id": "yYQJwam5fFgW",
        "colab_type": "code",
        "colab": {}
      },
      "source": [
        "# We could do some of the cleaning steps as a sum of opreation like this:\n",
        "\n",
        "# Apply a first round of text cleaning techniques\n",
        "import re\n",
        "import string\n",
        "\n",
        "def clean_text_round1(text):\n",
        "    '''Make text lowercase, remove text in square brackets, remove punctuation and remove words containing numbers.'''\n",
        "    text = text.lower()\n",
        "    text = re.sub('\\[.*?\\]', '', text)\n",
        "    text = re.sub('[%s]' % re.escape(string.punctuation), '', text)\n",
        "    text = re.sub('\\w*\\d\\w*', '', text)\n",
        "    return text\n",
        "\n",
        "round1 = lambda x: clean_text_round1(x)"
      ],
      "execution_count": null,
      "outputs": []
    },
    {
      "cell_type": "code",
      "metadata": {
        "id": "mJGy_q3Af1fU",
        "colab_type": "code",
        "colab": {
          "base_uri": "https://localhost:8080/",
          "height": 245
        },
        "outputId": "5af5956b-734e-46b2-ac05-e84e21f7fae6"
      },
      "source": [
        "df['Text'] = df.Text.apply(round1)\n",
        "df.Text"
      ],
      "execution_count": null,
      "outputs": [
        {
          "output_type": "execute_result",
          "data": {
            "text/plain": [
              "0         bought several vitality canned dog food produc...\n",
              "1         product arrived labeled jumbo salted peanutsth...\n",
              "2         confection around centuries light pillowy citr...\n",
              "3         looking secret ingredient robitussin believe f...\n",
              "4         great taffy great price wide assortment yummy ...\n",
              "                                ...                        \n",
              "568449    great sesame chickenthis good better resturant...\n",
              "568450    im disappointed flavor chocolate notes especia...\n",
              "568451    stars small give  one training session tried t...\n",
              "568452    best treats training rewarding dog good groomi...\n",
              "568453    satisfied product advertised use cereal raw vi...\n",
              "Name: Text, Length: 568411, dtype: object"
            ]
          },
          "metadata": {
            "tags": []
          },
          "execution_count": 33
        }
      ]
    },
    {
      "cell_type": "code",
      "metadata": {
        "id": "x9pQHdIhFAoX",
        "colab_type": "code",
        "colab": {}
      },
      "source": [
        "# Apply a second round of cleaning\n",
        "def clean_text_round2(text):\n",
        "    '''Get rid of some additional punctuation and non-sensical text that was missed the first time around.'''\n",
        "    text = re.sub('[‘’“”…]', '', text)\n",
        "    text = re.sub('\\n', '', text)\n",
        "    return text\n",
        "\n",
        "round2 = lambda x: clean_text_round2(x)"
      ],
      "execution_count": null,
      "outputs": []
    },
    {
      "cell_type": "code",
      "metadata": {
        "id": "f3DTSvZwFGaB",
        "colab_type": "code",
        "colab": {
          "base_uri": "https://localhost:8080/",
          "height": 245
        },
        "outputId": "587729e0-6ee2-42a4-f44c-f47ca9ed5e34"
      },
      "source": [
        "df['Text'] = df.Text.apply(round2)\n",
        "df.Text"
      ],
      "execution_count": null,
      "outputs": [
        {
          "output_type": "execute_result",
          "data": {
            "text/plain": [
              "0         bought several vitality canned dog food produc...\n",
              "1         product arrived labeled jumbo salted peanutsth...\n",
              "2         confection around centuries light pillowy citr...\n",
              "3         looking secret ingredient robitussin believe f...\n",
              "4         great taffy great price wide assortment yummy ...\n",
              "                                ...                        \n",
              "568449    great sesame chickenthis good better resturant...\n",
              "568450    im disappointed flavor chocolate notes especia...\n",
              "568451    stars small give  one training session tried t...\n",
              "568452    best treats training rewarding dog good groomi...\n",
              "568453    satisfied product advertised use cereal raw vi...\n",
              "Name: Text, Length: 568411, dtype: object"
            ]
          },
          "metadata": {
            "tags": []
          },
          "execution_count": 35
        }
      ]
    },
    {
      "cell_type": "markdown",
      "metadata": {
        "id": "ZLM2wykAFO6c",
        "colab_type": "text"
      },
      "source": [
        "Let's check whether the frequent words make sense or not"
      ]
    },
    {
      "cell_type": "code",
      "metadata": {
        "id": "n7NhgmICFK8M",
        "colab_type": "code",
        "colab": {
          "base_uri": "https://localhost:8080/",
          "height": 417
        },
        "outputId": "765569d6-c92a-4c88-b057-e69ff99a133a"
      },
      "source": [
        "freq = pd.Series(' '.join(df['Text']).split()).value_counts()[:20]\n",
        "freq"
      ],
      "execution_count": null,
      "outputs": [
        {
          "output_type": "execute_result",
          "data": {
            "text/plain": [
              "br         264689\n",
              "like       251864\n",
              "good       195348\n",
              "one        172306\n",
              "taste      166572\n",
              "great      163560\n",
              "coffee     160180\n",
              "product    146439\n",
              "flavor     142442\n",
              "tea        133094\n",
              "love       126635\n",
              "food       123770\n",
              "would      123356\n",
              "get        108169\n",
              "really     100414\n",
              "dont        95555\n",
              "much        91906\n",
              "also        86099\n",
              "little      83197\n",
              "use         82743\n",
              "dtype: int64"
            ]
          },
          "metadata": {
            "tags": []
          },
          "execution_count": 36
        }
      ]
    },
    {
      "cell_type": "markdown",
      "metadata": {
        "id": "k_WoqQR9FXok",
        "colab_type": "text"
      },
      "source": [
        "# Basic Feature Extraction - 2"
      ]
    },
    {
      "cell_type": "markdown",
      "metadata": {
        "id": "aIXunJcIFbgg",
        "colab_type": "text"
      },
      "source": [
        "###  Number of Words"
      ]
    },
    {
      "cell_type": "code",
      "metadata": {
        "id": "RbIMvtdNFXEb",
        "colab_type": "code",
        "colab": {
          "base_uri": "https://localhost:8080/",
          "height": 206
        },
        "outputId": "ab6cea0f-45a4-4548-827a-583a2796893e"
      },
      "source": [
        "df['word_count'] = df['Text'].apply(lambda x: len(str(x).split(\" \")))\n",
        "df[['Text','word_count']].head()"
      ],
      "execution_count": null,
      "outputs": [
        {
          "output_type": "execute_result",
          "data": {
            "text/html": [
              "<div>\n",
              "<style scoped>\n",
              "    .dataframe tbody tr th:only-of-type {\n",
              "        vertical-align: middle;\n",
              "    }\n",
              "\n",
              "    .dataframe tbody tr th {\n",
              "        vertical-align: top;\n",
              "    }\n",
              "\n",
              "    .dataframe thead th {\n",
              "        text-align: right;\n",
              "    }\n",
              "</style>\n",
              "<table border=\"1\" class=\"dataframe\">\n",
              "  <thead>\n",
              "    <tr style=\"text-align: right;\">\n",
              "      <th></th>\n",
              "      <th>Text</th>\n",
              "      <th>word_count</th>\n",
              "    </tr>\n",
              "  </thead>\n",
              "  <tbody>\n",
              "    <tr>\n",
              "      <th>0</th>\n",
              "      <td>bought several vitality canned dog food produc...</td>\n",
              "      <td>23</td>\n",
              "    </tr>\n",
              "    <tr>\n",
              "      <th>1</th>\n",
              "      <td>product arrived labeled jumbo salted peanutsth...</td>\n",
              "      <td>18</td>\n",
              "    </tr>\n",
              "    <tr>\n",
              "      <th>2</th>\n",
              "      <td>confection around centuries light pillowy citr...</td>\n",
              "      <td>40</td>\n",
              "    </tr>\n",
              "    <tr>\n",
              "      <th>3</th>\n",
              "      <td>looking secret ingredient robitussin believe f...</td>\n",
              "      <td>18</td>\n",
              "    </tr>\n",
              "    <tr>\n",
              "      <th>4</th>\n",
              "      <td>great taffy great price wide assortment yummy ...</td>\n",
              "      <td>13</td>\n",
              "    </tr>\n",
              "  </tbody>\n",
              "</table>\n",
              "</div>"
            ],
            "text/plain": [
              "                                                Text  word_count\n",
              "0  bought several vitality canned dog food produc...          23\n",
              "1  product arrived labeled jumbo salted peanutsth...          18\n",
              "2  confection around centuries light pillowy citr...          40\n",
              "3  looking secret ingredient robitussin believe f...          18\n",
              "4  great taffy great price wide assortment yummy ...          13"
            ]
          },
          "metadata": {
            "tags": []
          },
          "execution_count": 37
        }
      ]
    },
    {
      "cell_type": "markdown",
      "metadata": {
        "id": "nqwX7mM_FyKd",
        "colab_type": "text"
      },
      "source": [
        "Again, let's check the data and number of null values"
      ]
    },
    {
      "cell_type": "code",
      "metadata": {
        "id": "qz_bkz3iFtQY",
        "colab_type": "code",
        "colab": {
          "base_uri": "https://localhost:8080/",
          "height": 551
        },
        "outputId": "88d1abbc-4883-47ec-b4f4-2bad84a374a6"
      },
      "source": [
        "null_values=df.isna().sum()\n",
        "null_values=pd.DataFrame(null_values,columns=['null'])\n",
        "sum_tot=len(df)\n",
        "null_values['percent']=null_values['null']/sum_tot*100\n",
        "round(null_values,3).sort_values('percent',ascending=False)"
      ],
      "execution_count": null,
      "outputs": [
        {
          "output_type": "execute_result",
          "data": {
            "text/html": [
              "<div>\n",
              "<style scoped>\n",
              "    .dataframe tbody tr th:only-of-type {\n",
              "        vertical-align: middle;\n",
              "    }\n",
              "\n",
              "    .dataframe tbody tr th {\n",
              "        vertical-align: top;\n",
              "    }\n",
              "\n",
              "    .dataframe thead th {\n",
              "        text-align: right;\n",
              "    }\n",
              "</style>\n",
              "<table border=\"1\" class=\"dataframe\">\n",
              "  <thead>\n",
              "    <tr style=\"text-align: right;\">\n",
              "      <th></th>\n",
              "      <th>null</th>\n",
              "      <th>percent</th>\n",
              "    </tr>\n",
              "  </thead>\n",
              "  <tbody>\n",
              "    <tr>\n",
              "      <th>Id</th>\n",
              "      <td>0</td>\n",
              "      <td>0.0</td>\n",
              "    </tr>\n",
              "    <tr>\n",
              "      <th>ProductId</th>\n",
              "      <td>0</td>\n",
              "      <td>0.0</td>\n",
              "    </tr>\n",
              "    <tr>\n",
              "      <th>UserId</th>\n",
              "      <td>0</td>\n",
              "      <td>0.0</td>\n",
              "    </tr>\n",
              "    <tr>\n",
              "      <th>ProfileName</th>\n",
              "      <td>0</td>\n",
              "      <td>0.0</td>\n",
              "    </tr>\n",
              "    <tr>\n",
              "      <th>HelpfulnessNumerator</th>\n",
              "      <td>0</td>\n",
              "      <td>0.0</td>\n",
              "    </tr>\n",
              "    <tr>\n",
              "      <th>HelpfulnessDenominator</th>\n",
              "      <td>0</td>\n",
              "      <td>0.0</td>\n",
              "    </tr>\n",
              "    <tr>\n",
              "      <th>Score</th>\n",
              "      <td>0</td>\n",
              "      <td>0.0</td>\n",
              "    </tr>\n",
              "    <tr>\n",
              "      <th>Time</th>\n",
              "      <td>0</td>\n",
              "      <td>0.0</td>\n",
              "    </tr>\n",
              "    <tr>\n",
              "      <th>Summary</th>\n",
              "      <td>0</td>\n",
              "      <td>0.0</td>\n",
              "    </tr>\n",
              "    <tr>\n",
              "      <th>Text</th>\n",
              "      <td>0</td>\n",
              "      <td>0.0</td>\n",
              "    </tr>\n",
              "    <tr>\n",
              "      <th>stopwords</th>\n",
              "      <td>0</td>\n",
              "      <td>0.0</td>\n",
              "    </tr>\n",
              "    <tr>\n",
              "      <th>punctuation</th>\n",
              "      <td>0</td>\n",
              "      <td>0.0</td>\n",
              "    </tr>\n",
              "    <tr>\n",
              "      <th>hastags</th>\n",
              "      <td>0</td>\n",
              "      <td>0.0</td>\n",
              "    </tr>\n",
              "    <tr>\n",
              "      <th>numerics</th>\n",
              "      <td>0</td>\n",
              "      <td>0.0</td>\n",
              "    </tr>\n",
              "    <tr>\n",
              "      <th>upper</th>\n",
              "      <td>0</td>\n",
              "      <td>0.0</td>\n",
              "    </tr>\n",
              "    <tr>\n",
              "      <th>word_count</th>\n",
              "      <td>0</td>\n",
              "      <td>0.0</td>\n",
              "    </tr>\n",
              "  </tbody>\n",
              "</table>\n",
              "</div>"
            ],
            "text/plain": [
              "                        null  percent\n",
              "Id                         0      0.0\n",
              "ProductId                  0      0.0\n",
              "UserId                     0      0.0\n",
              "ProfileName                0      0.0\n",
              "HelpfulnessNumerator       0      0.0\n",
              "HelpfulnessDenominator     0      0.0\n",
              "Score                      0      0.0\n",
              "Time                       0      0.0\n",
              "Summary                    0      0.0\n",
              "Text                       0      0.0\n",
              "stopwords                  0      0.0\n",
              "punctuation                0      0.0\n",
              "hastags                    0      0.0\n",
              "numerics                   0      0.0\n",
              "upper                      0      0.0\n",
              "word_count                 0      0.0"
            ]
          },
          "metadata": {
            "tags": []
          },
          "execution_count": 38
        }
      ]
    },
    {
      "cell_type": "markdown",
      "metadata": {
        "id": "ZlakthaIF7w0",
        "colab_type": "text"
      },
      "source": [
        "### Number of characters"
      ]
    },
    {
      "cell_type": "code",
      "metadata": {
        "id": "U6aAk1ZbF8GI",
        "colab_type": "code",
        "colab": {
          "base_uri": "https://localhost:8080/",
          "height": 206
        },
        "outputId": "b1731dfb-f32e-48fb-aaa1-59f9dbc963f4"
      },
      "source": [
        "df['char_count'] = df['Text'].str.len() ## this also includes spaces\n",
        "df[['Text','char_count']].head()"
      ],
      "execution_count": null,
      "outputs": [
        {
          "output_type": "execute_result",
          "data": {
            "text/html": [
              "<div>\n",
              "<style scoped>\n",
              "    .dataframe tbody tr th:only-of-type {\n",
              "        vertical-align: middle;\n",
              "    }\n",
              "\n",
              "    .dataframe tbody tr th {\n",
              "        vertical-align: top;\n",
              "    }\n",
              "\n",
              "    .dataframe thead th {\n",
              "        text-align: right;\n",
              "    }\n",
              "</style>\n",
              "<table border=\"1\" class=\"dataframe\">\n",
              "  <thead>\n",
              "    <tr style=\"text-align: right;\">\n",
              "      <th></th>\n",
              "      <th>Text</th>\n",
              "      <th>char_count</th>\n",
              "    </tr>\n",
              "  </thead>\n",
              "  <tbody>\n",
              "    <tr>\n",
              "      <th>0</th>\n",
              "      <td>bought several vitality canned dog food produc...</td>\n",
              "      <td>164</td>\n",
              "    </tr>\n",
              "    <tr>\n",
              "      <th>1</th>\n",
              "      <td>product arrived labeled jumbo salted peanutsth...</td>\n",
              "      <td>136</td>\n",
              "    </tr>\n",
              "    <tr>\n",
              "      <th>2</th>\n",
              "      <td>confection around centuries light pillowy citr...</td>\n",
              "      <td>285</td>\n",
              "    </tr>\n",
              "    <tr>\n",
              "      <th>3</th>\n",
              "      <td>looking secret ingredient robitussin believe f...</td>\n",
              "      <td>128</td>\n",
              "    </tr>\n",
              "    <tr>\n",
              "      <th>4</th>\n",
              "      <td>great taffy great price wide assortment yummy ...</td>\n",
              "      <td>83</td>\n",
              "    </tr>\n",
              "  </tbody>\n",
              "</table>\n",
              "</div>"
            ],
            "text/plain": [
              "                                                Text  char_count\n",
              "0  bought several vitality canned dog food produc...         164\n",
              "1  product arrived labeled jumbo salted peanutsth...         136\n",
              "2  confection around centuries light pillowy citr...         285\n",
              "3  looking secret ingredient robitussin believe f...         128\n",
              "4  great taffy great price wide assortment yummy ...          83"
            ]
          },
          "metadata": {
            "tags": []
          },
          "execution_count": 39
        }
      ]
    },
    {
      "cell_type": "markdown",
      "metadata": {
        "id": "3h8V9jEOGCpc",
        "colab_type": "text"
      },
      "source": [
        "### 3) Average Word Length"
      ]
    },
    {
      "cell_type": "code",
      "metadata": {
        "id": "ygPPuLWqF_jh",
        "colab_type": "code",
        "colab": {}
      },
      "source": [
        "def avg_word(sentence):\n",
        "  words = sentence.split()\n",
        "  return (sum(len(word) for word in words)/(len(words)+0.000001))"
      ],
      "execution_count": null,
      "outputs": []
    },
    {
      "cell_type": "code",
      "metadata": {
        "id": "KV066OIPGG_M",
        "colab_type": "code",
        "colab": {
          "base_uri": "https://localhost:8080/",
          "height": 206
        },
        "outputId": "701ef693-57fa-4283-d964-7f283498a30d"
      },
      "source": [
        "df['avg_word'] = df['Text'].apply(lambda x: avg_word(x)).round(1)\n",
        "df[['Text','avg_word']].head()"
      ],
      "execution_count": null,
      "outputs": [
        {
          "output_type": "execute_result",
          "data": {
            "text/html": [
              "<div>\n",
              "<style scoped>\n",
              "    .dataframe tbody tr th:only-of-type {\n",
              "        vertical-align: middle;\n",
              "    }\n",
              "\n",
              "    .dataframe tbody tr th {\n",
              "        vertical-align: top;\n",
              "    }\n",
              "\n",
              "    .dataframe thead th {\n",
              "        text-align: right;\n",
              "    }\n",
              "</style>\n",
              "<table border=\"1\" class=\"dataframe\">\n",
              "  <thead>\n",
              "    <tr style=\"text-align: right;\">\n",
              "      <th></th>\n",
              "      <th>Text</th>\n",
              "      <th>avg_word</th>\n",
              "    </tr>\n",
              "  </thead>\n",
              "  <tbody>\n",
              "    <tr>\n",
              "      <th>0</th>\n",
              "      <td>bought several vitality canned dog food produc...</td>\n",
              "      <td>6.2</td>\n",
              "    </tr>\n",
              "    <tr>\n",
              "      <th>1</th>\n",
              "      <td>product arrived labeled jumbo salted peanutsth...</td>\n",
              "      <td>6.6</td>\n",
              "    </tr>\n",
              "    <tr>\n",
              "      <th>2</th>\n",
              "      <td>confection around centuries light pillowy citr...</td>\n",
              "      <td>6.1</td>\n",
              "    </tr>\n",
              "    <tr>\n",
              "      <th>3</th>\n",
              "      <td>looking secret ingredient robitussin believe f...</td>\n",
              "      <td>6.2</td>\n",
              "    </tr>\n",
              "    <tr>\n",
              "      <th>4</th>\n",
              "      <td>great taffy great price wide assortment yummy ...</td>\n",
              "      <td>5.5</td>\n",
              "    </tr>\n",
              "  </tbody>\n",
              "</table>\n",
              "</div>"
            ],
            "text/plain": [
              "                                                Text  avg_word\n",
              "0  bought several vitality canned dog food produc...       6.2\n",
              "1  product arrived labeled jumbo salted peanutsth...       6.6\n",
              "2  confection around centuries light pillowy citr...       6.1\n",
              "3  looking secret ingredient robitussin believe f...       6.2\n",
              "4  great taffy great price wide assortment yummy ...       5.5"
            ]
          },
          "metadata": {
            "tags": []
          },
          "execution_count": 41
        }
      ]
    },
    {
      "cell_type": "code",
      "metadata": {
        "id": "tLtUDxmTGIBe",
        "colab_type": "code",
        "colab": {
          "base_uri": "https://localhost:8080/",
          "height": 164
        },
        "outputId": "37971937-bcd6-48f5-919c-7efd7943e1cf"
      },
      "source": [
        "df.sample(2)"
      ],
      "execution_count": null,
      "outputs": [
        {
          "output_type": "execute_result",
          "data": {
            "text/html": [
              "<div>\n",
              "<style scoped>\n",
              "    .dataframe tbody tr th:only-of-type {\n",
              "        vertical-align: middle;\n",
              "    }\n",
              "\n",
              "    .dataframe tbody tr th {\n",
              "        vertical-align: top;\n",
              "    }\n",
              "\n",
              "    .dataframe thead th {\n",
              "        text-align: right;\n",
              "    }\n",
              "</style>\n",
              "<table border=\"1\" class=\"dataframe\">\n",
              "  <thead>\n",
              "    <tr style=\"text-align: right;\">\n",
              "      <th></th>\n",
              "      <th>Id</th>\n",
              "      <th>ProductId</th>\n",
              "      <th>UserId</th>\n",
              "      <th>ProfileName</th>\n",
              "      <th>HelpfulnessNumerator</th>\n",
              "      <th>HelpfulnessDenominator</th>\n",
              "      <th>Score</th>\n",
              "      <th>Time</th>\n",
              "      <th>Summary</th>\n",
              "      <th>Text</th>\n",
              "      <th>stopwords</th>\n",
              "      <th>punctuation</th>\n",
              "      <th>hastags</th>\n",
              "      <th>numerics</th>\n",
              "      <th>upper</th>\n",
              "      <th>word_count</th>\n",
              "      <th>char_count</th>\n",
              "      <th>avg_word</th>\n",
              "    </tr>\n",
              "  </thead>\n",
              "  <tbody>\n",
              "    <tr>\n",
              "      <th>63390</th>\n",
              "      <td>63391</td>\n",
              "      <td>B002IEZJMA</td>\n",
              "      <td>A3OXHLG6DIBRW8</td>\n",
              "      <td>C. F. Hill \"CFH\"</td>\n",
              "      <td>0</td>\n",
              "      <td>0</td>\n",
              "      <td>3</td>\n",
              "      <td>1338422400</td>\n",
              "      <td>Strong But Bitter Coffee Taste</td>\n",
              "      <td>illy issimo caffe coffee drink strong coffee f...</td>\n",
              "      <td>34</td>\n",
              "      <td>21</td>\n",
              "      <td>0</td>\n",
              "      <td>0</td>\n",
              "      <td>3</td>\n",
              "      <td>39</td>\n",
              "      <td>240</td>\n",
              "      <td>5.2</td>\n",
              "    </tr>\n",
              "    <tr>\n",
              "      <th>97015</th>\n",
              "      <td>97016</td>\n",
              "      <td>B005A1LG7K</td>\n",
              "      <td>A16I008F7QY86T</td>\n",
              "      <td>G. White \"Booker\"</td>\n",
              "      <td>2</td>\n",
              "      <td>2</td>\n",
              "      <td>5</td>\n",
              "      <td>1310947200</td>\n",
              "      <td>Chicago Mix</td>\n",
              "      <td>love popcorn especially cheese popcorn caramel...</td>\n",
              "      <td>14</td>\n",
              "      <td>14</td>\n",
              "      <td>0</td>\n",
              "      <td>0</td>\n",
              "      <td>4</td>\n",
              "      <td>23</td>\n",
              "      <td>151</td>\n",
              "      <td>5.6</td>\n",
              "    </tr>\n",
              "  </tbody>\n",
              "</table>\n",
              "</div>"
            ],
            "text/plain": [
              "          Id   ProductId          UserId  ... word_count  char_count  avg_word\n",
              "63390  63391  B002IEZJMA  A3OXHLG6DIBRW8  ...         39         240       5.2\n",
              "97015  97016  B005A1LG7K  A16I008F7QY86T  ...         23         151       5.6\n",
              "\n",
              "[2 rows x 18 columns]"
            ]
          },
          "metadata": {
            "tags": []
          },
          "execution_count": 42
        }
      ]
    },
    {
      "cell_type": "markdown",
      "metadata": {
        "id": "KUiU-wlaMFMT",
        "colab_type": "text"
      },
      "source": [
        "**Let's convert the 'time' column to a meaningful format**  "
      ]
    },
    {
      "cell_type": "code",
      "metadata": {
        "id": "2-9FA4_JMEQf",
        "colab_type": "code",
        "colab": {}
      },
      "source": [
        "df['Time'] = pd.to_datetime(df['Time'],unit='s')"
      ],
      "execution_count": null,
      "outputs": []
    },
    {
      "cell_type": "code",
      "metadata": {
        "id": "6WuKgpjEMZFe",
        "colab_type": "code",
        "colab": {
          "base_uri": "https://localhost:8080/",
          "height": 484
        },
        "outputId": "8561d6f8-0195-467c-dbd0-f403443ca6c5"
      },
      "source": [
        "df.sample(5)"
      ],
      "execution_count": null,
      "outputs": [
        {
          "output_type": "execute_result",
          "data": {
            "text/html": [
              "<div>\n",
              "<style scoped>\n",
              "    .dataframe tbody tr th:only-of-type {\n",
              "        vertical-align: middle;\n",
              "    }\n",
              "\n",
              "    .dataframe tbody tr th {\n",
              "        vertical-align: top;\n",
              "    }\n",
              "\n",
              "    .dataframe thead th {\n",
              "        text-align: right;\n",
              "    }\n",
              "</style>\n",
              "<table border=\"1\" class=\"dataframe\">\n",
              "  <thead>\n",
              "    <tr style=\"text-align: right;\">\n",
              "      <th></th>\n",
              "      <th>Id</th>\n",
              "      <th>ProductId</th>\n",
              "      <th>UserId</th>\n",
              "      <th>ProfileName</th>\n",
              "      <th>HelpfulnessNumerator</th>\n",
              "      <th>HelpfulnessDenominator</th>\n",
              "      <th>Score</th>\n",
              "      <th>Time</th>\n",
              "      <th>Summary</th>\n",
              "      <th>Text</th>\n",
              "      <th>stopwords</th>\n",
              "      <th>punctuation</th>\n",
              "      <th>hastags</th>\n",
              "      <th>numerics</th>\n",
              "      <th>upper</th>\n",
              "      <th>word_count</th>\n",
              "      <th>char_count</th>\n",
              "      <th>avg_word</th>\n",
              "    </tr>\n",
              "  </thead>\n",
              "  <tbody>\n",
              "    <tr>\n",
              "      <th>385196</th>\n",
              "      <td>385197</td>\n",
              "      <td>B005VOOM5E</td>\n",
              "      <td>AKAZT5193KFR1</td>\n",
              "      <td>L. Samuelson \"L.W. Samuelson\"</td>\n",
              "      <td>3</td>\n",
              "      <td>6</td>\n",
              "      <td>4</td>\n",
              "      <td>2012-03-27</td>\n",
              "      <td>Use a French press</td>\n",
              "      <td>poured boiling water pod worked really well sp...</td>\n",
              "      <td>38</td>\n",
              "      <td>11</td>\n",
              "      <td>0</td>\n",
              "      <td>0</td>\n",
              "      <td>2</td>\n",
              "      <td>43</td>\n",
              "      <td>281</td>\n",
              "      <td>5.6</td>\n",
              "    </tr>\n",
              "    <tr>\n",
              "      <th>208682</th>\n",
              "      <td>208683</td>\n",
              "      <td>B0019VM5R0</td>\n",
              "      <td>A3KHDOLE6ERXDW</td>\n",
              "      <td>Carrie Ewoodie Smith \"butterfly\"</td>\n",
              "      <td>0</td>\n",
              "      <td>1</td>\n",
              "      <td>5</td>\n",
              "      <td>2010-11-11</td>\n",
              "      <td>MMMMMMMMMMM Good</td>\n",
              "      <td>shortbread fingers   cookies pack  cookies hi...</td>\n",
              "      <td>12</td>\n",
              "      <td>31</td>\n",
              "      <td>0</td>\n",
              "      <td>0</td>\n",
              "      <td>1</td>\n",
              "      <td>17</td>\n",
              "      <td>91</td>\n",
              "      <td>5.8</td>\n",
              "    </tr>\n",
              "    <tr>\n",
              "      <th>59780</th>\n",
              "      <td>59781</td>\n",
              "      <td>B000HIHE2W</td>\n",
              "      <td>A1APZPQ6QQ5SCW</td>\n",
              "      <td>Kristina \"kristinal\"</td>\n",
              "      <td>0</td>\n",
              "      <td>0</td>\n",
              "      <td>1</td>\n",
              "      <td>2011-12-20</td>\n",
              "      <td>CHECK THE EXPIRATION DATE</td>\n",
              "      <td>utilized amazons subscribe save option first t...</td>\n",
              "      <td>29</td>\n",
              "      <td>21</td>\n",
              "      <td>0</td>\n",
              "      <td>0</td>\n",
              "      <td>7</td>\n",
              "      <td>50</td>\n",
              "      <td>347</td>\n",
              "      <td>6.1</td>\n",
              "    </tr>\n",
              "    <tr>\n",
              "      <th>181315</th>\n",
              "      <td>181316</td>\n",
              "      <td>B0002SQ4HS</td>\n",
              "      <td>A1GAZ691MAL3R2</td>\n",
              "      <td>Skye Goddess</td>\n",
              "      <td>3</td>\n",
              "      <td>3</td>\n",
              "      <td>5</td>\n",
              "      <td>2011-03-29</td>\n",
              "      <td>Good for your cats!</td>\n",
              "      <td>love cat food four rescue kitties love feel mu...</td>\n",
              "      <td>34</td>\n",
              "      <td>12</td>\n",
              "      <td>0</td>\n",
              "      <td>1</td>\n",
              "      <td>5</td>\n",
              "      <td>44</td>\n",
              "      <td>269</td>\n",
              "      <td>5.3</td>\n",
              "    </tr>\n",
              "    <tr>\n",
              "      <th>541719</th>\n",
              "      <td>541720</td>\n",
              "      <td>B001BM4RC8</td>\n",
              "      <td>A265Z64JO5KNSH</td>\n",
              "      <td>Tyler F.</td>\n",
              "      <td>0</td>\n",
              "      <td>0</td>\n",
              "      <td>5</td>\n",
              "      <td>2012-02-28</td>\n",
              "      <td>Blue, no salt added -- amazing!!</td>\n",
              "      <td>ive subscriber blue chips salt added year love...</td>\n",
              "      <td>35</td>\n",
              "      <td>26</td>\n",
              "      <td>0</td>\n",
              "      <td>0</td>\n",
              "      <td>2</td>\n",
              "      <td>42</td>\n",
              "      <td>265</td>\n",
              "      <td>5.3</td>\n",
              "    </tr>\n",
              "  </tbody>\n",
              "</table>\n",
              "</div>"
            ],
            "text/plain": [
              "            Id   ProductId          UserId  ... word_count  char_count  avg_word\n",
              "385196  385197  B005VOOM5E   AKAZT5193KFR1  ...         43         281       5.6\n",
              "208682  208683  B0019VM5R0  A3KHDOLE6ERXDW  ...         17          91       5.8\n",
              "59780    59781  B000HIHE2W  A1APZPQ6QQ5SCW  ...         50         347       6.1\n",
              "181315  181316  B0002SQ4HS  A1GAZ691MAL3R2  ...         44         269       5.3\n",
              "541719  541720  B001BM4RC8  A265Z64JO5KNSH  ...         42         265       5.3\n",
              "\n",
              "[5 rows x 18 columns]"
            ]
          },
          "metadata": {
            "tags": []
          },
          "execution_count": 44
        }
      ]
    },
    {
      "cell_type": "markdown",
      "metadata": {
        "id": "fgsPZK9sGxf8",
        "colab_type": "text"
      },
      "source": [
        "Lastly, we don't need 'ProfileName' feature because we already have 'UserId'. Therefore, we can drop 'ProfileName'"
      ]
    },
    {
      "cell_type": "code",
      "metadata": {
        "id": "bN-LVDp1HFX6",
        "colab_type": "code",
        "colab": {}
      },
      "source": [
        "df= df.drop('ProfileName', axis= 1)"
      ],
      "execution_count": null,
      "outputs": []
    },
    {
      "cell_type": "code",
      "metadata": {
        "id": "Dj-dFcLnHhSS",
        "colab_type": "code",
        "colab": {
          "base_uri": "https://localhost:8080/",
          "height": 341
        },
        "outputId": "0106ad41-2df1-493d-ad05-ae23140afcde"
      },
      "source": [
        "list(df)"
      ],
      "execution_count": null,
      "outputs": [
        {
          "output_type": "execute_result",
          "data": {
            "text/plain": [
              "['Id',\n",
              " 'ProductId',\n",
              " 'UserId',\n",
              " 'HelpfulnessNumerator',\n",
              " 'HelpfulnessDenominator',\n",
              " 'Score',\n",
              " 'Time',\n",
              " 'Summary',\n",
              " 'Text',\n",
              " 'stopwords',\n",
              " 'punctuation',\n",
              " 'hastags',\n",
              " 'numerics',\n",
              " 'upper',\n",
              " 'word_count',\n",
              " 'char_count',\n",
              " 'avg_word']"
            ]
          },
          "metadata": {
            "tags": []
          },
          "execution_count": 46
        }
      ]
    },
    {
      "cell_type": "code",
      "metadata": {
        "id": "-fit5NF3KG0n",
        "colab_type": "code",
        "colab": {
          "base_uri": "https://localhost:8080/",
          "height": 293
        },
        "outputId": "64e09f9c-1b24-4831-cc9a-8675dd3c771d"
      },
      "source": [
        "df.sample(5)"
      ],
      "execution_count": null,
      "outputs": [
        {
          "output_type": "execute_result",
          "data": {
            "text/html": [
              "<div>\n",
              "<style scoped>\n",
              "    .dataframe tbody tr th:only-of-type {\n",
              "        vertical-align: middle;\n",
              "    }\n",
              "\n",
              "    .dataframe tbody tr th {\n",
              "        vertical-align: top;\n",
              "    }\n",
              "\n",
              "    .dataframe thead th {\n",
              "        text-align: right;\n",
              "    }\n",
              "</style>\n",
              "<table border=\"1\" class=\"dataframe\">\n",
              "  <thead>\n",
              "    <tr style=\"text-align: right;\">\n",
              "      <th></th>\n",
              "      <th>Id</th>\n",
              "      <th>ProductId</th>\n",
              "      <th>UserId</th>\n",
              "      <th>HelpfulnessNumerator</th>\n",
              "      <th>HelpfulnessDenominator</th>\n",
              "      <th>Score</th>\n",
              "      <th>Time</th>\n",
              "      <th>Summary</th>\n",
              "      <th>Text</th>\n",
              "      <th>stopwords</th>\n",
              "      <th>punctuation</th>\n",
              "      <th>hastags</th>\n",
              "      <th>numerics</th>\n",
              "      <th>upper</th>\n",
              "      <th>word_count</th>\n",
              "      <th>char_count</th>\n",
              "      <th>avg_word</th>\n",
              "    </tr>\n",
              "  </thead>\n",
              "  <tbody>\n",
              "    <tr>\n",
              "      <th>305941</th>\n",
              "      <td>305942</td>\n",
              "      <td>B008BY7O9W</td>\n",
              "      <td>A236H3QQ015FKK</td>\n",
              "      <td>0</td>\n",
              "      <td>0</td>\n",
              "      <td>5</td>\n",
              "      <td>2012-09-27</td>\n",
              "      <td>Great Product if Jiff is Excluded from One's Diet</td>\n",
              "      <td>november  downloaded livestrong app began maki...</td>\n",
              "      <td>90</td>\n",
              "      <td>25</td>\n",
              "      <td>0</td>\n",
              "      <td>0</td>\n",
              "      <td>19</td>\n",
              "      <td>135</td>\n",
              "      <td>900</td>\n",
              "      <td>6.0</td>\n",
              "    </tr>\n",
              "    <tr>\n",
              "      <th>162969</th>\n",
              "      <td>162970</td>\n",
              "      <td>B000R4HQPG</td>\n",
              "      <td>A23GQ96F3P8HG7</td>\n",
              "      <td>0</td>\n",
              "      <td>0</td>\n",
              "      <td>2</td>\n",
              "      <td>2011-01-18</td>\n",
              "      <td>Could be better</td>\n",
              "      <td>im normally fan bigelow green teas blueberry f...</td>\n",
              "      <td>11</td>\n",
              "      <td>13</td>\n",
              "      <td>0</td>\n",
              "      <td>0</td>\n",
              "      <td>1</td>\n",
              "      <td>19</td>\n",
              "      <td>144</td>\n",
              "      <td>6.6</td>\n",
              "    </tr>\n",
              "    <tr>\n",
              "      <th>34093</th>\n",
              "      <td>34094</td>\n",
              "      <td>B004N8LMFM</td>\n",
              "      <td>A24Q3XPYXWTQRY</td>\n",
              "      <td>14</td>\n",
              "      <td>15</td>\n",
              "      <td>5</td>\n",
              "      <td>2011-05-09</td>\n",
              "      <td>Entertaining</td>\n",
              "      <td>popin cooking fun enjoyed arrived  days early ...</td>\n",
              "      <td>17</td>\n",
              "      <td>16</td>\n",
              "      <td>0</td>\n",
              "      <td>1</td>\n",
              "      <td>1</td>\n",
              "      <td>26</td>\n",
              "      <td>155</td>\n",
              "      <td>5.2</td>\n",
              "    </tr>\n",
              "    <tr>\n",
              "      <th>325877</th>\n",
              "      <td>325878</td>\n",
              "      <td>B000G35K6A</td>\n",
              "      <td>A2X36IYVJM49XN</td>\n",
              "      <td>0</td>\n",
              "      <td>4</td>\n",
              "      <td>1</td>\n",
              "      <td>2007-02-13</td>\n",
              "      <td>RECEIVED ONLY ONE BOTTLE -- TWICE</td>\n",
              "      <td>beware sent one bottle  contacted amazon said ...</td>\n",
              "      <td>0</td>\n",
              "      <td>12</td>\n",
              "      <td>0</td>\n",
              "      <td>0</td>\n",
              "      <td>37</td>\n",
              "      <td>20</td>\n",
              "      <td>126</td>\n",
              "      <td>5.6</td>\n",
              "    </tr>\n",
              "    <tr>\n",
              "      <th>147715</th>\n",
              "      <td>147716</td>\n",
              "      <td>B001D0IZBM</td>\n",
              "      <td>A3S25S0HFAIHPH</td>\n",
              "      <td>0</td>\n",
              "      <td>1</td>\n",
              "      <td>5</td>\n",
              "      <td>2009-02-27</td>\n",
              "      <td>Emeril's K-cups, Big Easy Bold</td>\n",
              "      <td>sorry say coffee ok didnt buy emerils kcups bi...</td>\n",
              "      <td>8</td>\n",
              "      <td>10</td>\n",
              "      <td>0</td>\n",
              "      <td>1</td>\n",
              "      <td>3</td>\n",
              "      <td>16</td>\n",
              "      <td>76</td>\n",
              "      <td>4.4</td>\n",
              "    </tr>\n",
              "  </tbody>\n",
              "</table>\n",
              "</div>"
            ],
            "text/plain": [
              "            Id   ProductId          UserId  ...  word_count  char_count  avg_word\n",
              "305941  305942  B008BY7O9W  A236H3QQ015FKK  ...         135         900       6.0\n",
              "162969  162970  B000R4HQPG  A23GQ96F3P8HG7  ...          19         144       6.6\n",
              "34093    34094  B004N8LMFM  A24Q3XPYXWTQRY  ...          26         155       5.2\n",
              "325877  325878  B000G35K6A  A2X36IYVJM49XN  ...          20         126       5.6\n",
              "147715  147716  B001D0IZBM  A3S25S0HFAIHPH  ...          16          76       4.4\n",
              "\n",
              "[5 rows x 17 columns]"
            ]
          },
          "metadata": {
            "tags": []
          },
          "execution_count": 47
        }
      ]
    },
    {
      "cell_type": "markdown",
      "metadata": {
        "id": "sxN2Ifh_M2qM",
        "colab_type": "text"
      },
      "source": [
        "\n",
        "\n",
        "---\n",
        "##**Now, let's apply round 1 and round 2 data cleaning processes on 'Summary' column**\n"
      ]
    },
    {
      "cell_type": "markdown",
      "metadata": {
        "id": "_QVdtbLrNR-f",
        "colab_type": "text"
      },
      "source": [
        "Keep in mind that round1 operations make text lowercase, remove text in square brackets, remove punctuation and remove words containing numbers."
      ]
    },
    {
      "cell_type": "code",
      "metadata": {
        "id": "t_CdpuzhNGiP",
        "colab_type": "code",
        "colab": {
          "base_uri": "https://localhost:8080/",
          "height": 245
        },
        "outputId": "ccbb84a0-979a-46f7-8804-140c330c8a27"
      },
      "source": [
        "df['Summary'] = df.Summary.apply(round1)\n",
        "df.Summary"
      ],
      "execution_count": null,
      "outputs": [
        {
          "output_type": "execute_result",
          "data": {
            "text/plain": [
              "0                      good quality dog food\n",
              "1                          not as advertised\n",
              "2                        delight says it all\n",
              "3                             cough medicine\n",
              "4                                great taffy\n",
              "                         ...                \n",
              "568449                   will not do without\n",
              "568450                          disappointed\n",
              "568451              perfect for our maltipoo\n",
              "568452    favorite training and reward treat\n",
              "568453                           great honey\n",
              "Name: Summary, Length: 568411, dtype: object"
            ]
          },
          "metadata": {
            "tags": []
          },
          "execution_count": 48
        }
      ]
    },
    {
      "cell_type": "markdown",
      "metadata": {
        "id": "vtMJedmlNTtn",
        "colab_type": "text"
      },
      "source": [
        "And, round2 operations get rid of some additional punctuation and non-sensical text that was missed the first time around."
      ]
    },
    {
      "cell_type": "code",
      "metadata": {
        "id": "hS6ks3u9NT26",
        "colab_type": "code",
        "colab": {
          "base_uri": "https://localhost:8080/",
          "height": 245
        },
        "outputId": "92d0c9b0-b208-4353-924b-c4a8c518e233"
      },
      "source": [
        "df['Summary'] = df.Summary.apply(round2)\n",
        "df.Summary"
      ],
      "execution_count": null,
      "outputs": [
        {
          "output_type": "execute_result",
          "data": {
            "text/plain": [
              "0                      good quality dog food\n",
              "1                          not as advertised\n",
              "2                        delight says it all\n",
              "3                             cough medicine\n",
              "4                                great taffy\n",
              "                         ...                \n",
              "568449                   will not do without\n",
              "568450                          disappointed\n",
              "568451              perfect for our maltipoo\n",
              "568452    favorite training and reward treat\n",
              "568453                           great honey\n",
              "Name: Summary, Length: 568411, dtype: object"
            ]
          },
          "metadata": {
            "tags": []
          },
          "execution_count": 49
        }
      ]
    },
    {
      "cell_type": "markdown",
      "metadata": {
        "id": "s16YIKS0qh7m",
        "colab_type": "text"
      },
      "source": [
        "Let's check whether most frequent words make make. We can add our own stopwords depending on it"
      ]
    },
    {
      "cell_type": "code",
      "metadata": {
        "id": "hMEiy3cYqylo",
        "colab_type": "code",
        "colab": {
          "base_uri": "https://localhost:8080/",
          "height": 988
        },
        "outputId": "ef860e74-e7de-4008-e2d8-b7040575e7bd"
      },
      "source": [
        "freq = pd.Series(' '.join(df['Text']).split()).value_counts()[:50]\n",
        "freq"
      ],
      "execution_count": null,
      "outputs": [
        {
          "output_type": "execute_result",
          "data": {
            "text/plain": [
              "br           264689\n",
              "like         251864\n",
              "good         195348\n",
              "one          172306\n",
              "taste        166572\n",
              "great        163560\n",
              "coffee       160180\n",
              "product      146439\n",
              "flavor       142442\n",
              "tea          133094\n",
              "love         126635\n",
              "food         123770\n",
              "would        123356\n",
              "get          108169\n",
              "really       100414\n",
              "dont          95555\n",
              "much          91906\n",
              "also          86099\n",
              "little        83197\n",
              "use           82743\n",
              "time          80813\n",
              "amazon        78312\n",
              "buy           76200\n",
              "tried         75818\n",
              "best          75371\n",
              "im            75265\n",
              "even          74168\n",
              "price         73469\n",
              "find          73082\n",
              "ive           72153\n",
              "make          71412\n",
              "well          70149\n",
              "better        68827\n",
              "try           67800\n",
              "eat           66611\n",
              "dog           66050\n",
              "first         61370\n",
              "water         58802\n",
              "chocolate     58678\n",
              "bag           55284\n",
              "used          53932\n",
              "found         53774\n",
              "sugar         51845\n",
              "cup           50632\n",
              "drink         49927\n",
              "sweet         49808\n",
              "made          49755\n",
              "bought        49699\n",
              "think         48846\n",
              "box           48504\n",
              "dtype: int64"
            ]
          },
          "metadata": {
            "tags": []
          },
          "execution_count": 50
        }
      ]
    },
    {
      "cell_type": "markdown",
      "metadata": {
        "id": "vHMdbivzx2nu",
        "colab_type": "text"
      },
      "source": [
        "#Adding own stopwords"
      ]
    },
    {
      "cell_type": "code",
      "metadata": {
        "id": "hNiadYLxqhX2",
        "colab_type": "code",
        "colab": {}
      },
      "source": [
        "# Adding common words from our document to stop_words\n",
        "\n",
        "add_words = [\"br\",     \n",
        "\"also\",     \n",
        "\"im\",      \n",
        "\"ive\",      \n",
        "]\n",
        "\n",
        "stop_words = set(stopwords.words(\"english\"))\n",
        "stop_added = stop_words.union(add_words)"
      ],
      "execution_count": null,
      "outputs": []
    },
    {
      "cell_type": "code",
      "metadata": {
        "id": "THFDe1ctrqmt",
        "colab_type": "code",
        "colab": {
          "base_uri": "https://localhost:8080/",
          "height": 226
        },
        "outputId": "4f45366a-6b96-4b5b-c13c-b4830f8c0646"
      },
      "source": [
        "df['Text'] = df['Text'].apply(lambda x: \" \".join(x for x in x.split() if x not in stop_added))\n",
        "df['Text'].sample(10)"
      ],
      "execution_count": null,
      "outputs": [
        {
          "output_type": "execute_result",
          "data": {
            "text/plain": [
              "457478    may best pretzels around think taste great gf ...\n",
              "406219    reason cant find stores youngstown ohio area m...\n",
              "239872    southwest instant veggie burger mix nutritious...\n",
              "553778    good beans fair price drinking coffee large vo...\n",
              "485165    every cat owned loved balls local stores stopp...\n",
              "350071    calories serving tastes great quite sensitive ...\n",
              "256684    start saying never enthusiastic fan tinned tun...\n",
              "424962    huge fan curry dishes excited try disappointed...\n",
              "131446    mms texture malted milk ball salty crunchy cen...\n",
              "332619    product delivered within promised time frame s...\n",
              "Name: Text, dtype: object"
            ]
          },
          "metadata": {
            "tags": []
          },
          "execution_count": 52
        }
      ]
    },
    {
      "cell_type": "code",
      "metadata": {
        "id": "YXIflGp5YbMw",
        "colab_type": "code",
        "colab": {}
      },
      "source": [
        "df1= df"
      ],
      "execution_count": null,
      "outputs": []
    },
    {
      "cell_type": "code",
      "metadata": {
        "id": "FXqsBVeGvJDV",
        "colab_type": "code",
        "colab": {}
      },
      "source": [
        "mask = df1.Text.str.endswith('br') \n",
        "df1.loc[mask, 'Text'] = df1.loc[mask, 'Text'].str[:-2]"
      ],
      "execution_count": null,
      "outputs": []
    },
    {
      "cell_type": "code",
      "metadata": {
        "id": "Y8AhhLGRkP4q",
        "colab_type": "code",
        "colab": {}
      },
      "source": [
        "df1['Text'] = df1['Text'].str.rstrip('tty')"
      ],
      "execution_count": null,
      "outputs": []
    },
    {
      "cell_type": "code",
      "metadata": {
        "id": "zMevwHjdm8xx",
        "colab_type": "code",
        "colab": {
          "base_uri": "https://localhost:8080/",
          "height": 245
        },
        "outputId": "b84b9884-bb4f-429e-a7d4-6264bf55504a"
      },
      "source": [
        "df1['Text'].apply(lambda x: x[:-2] if x.endswith('tty') else x)"
      ],
      "execution_count": null,
      "outputs": [
        {
          "output_type": "execute_result",
          "data": {
            "text/plain": [
              "0         bought several vitality canned dog food produc...\n",
              "1         product arrived labeled jumbo salted peanutsth...\n",
              "2         confection around centuries light pillowy citr...\n",
              "3         looking secret ingredient robitussin believe f...\n",
              "4         great taffy great price wide assortment yummy ...\n",
              "                                ...                        \n",
              "568449    great sesame chickenthis good better resturant...\n",
              "568450    disappointed flavor chocolate notes especially...\n",
              "568451    stars small give one training session tried tr...\n",
              "568452    best treats training rewarding dog good groomi...\n",
              "568453    satisfied product advertised use cereal raw vi...\n",
              "Name: Text, Length: 568411, dtype: object"
            ]
          },
          "metadata": {
            "tags": []
          },
          "execution_count": 58
        }
      ]
    },
    {
      "cell_type": "code",
      "metadata": {
        "id": "mS-2xaZCmN7j",
        "colab_type": "code",
        "colab": {
          "base_uri": "https://localhost:8080/",
          "height": 36
        },
        "outputId": "7ffbe3e7-5ff6-476b-b976-ccb9215888f5"
      },
      "source": [
        "df1.loc[df1.Text.str.endswith('br'), 'Text']"
      ],
      "execution_count": null,
      "outputs": [
        {
          "output_type": "execute_result",
          "data": {
            "text/plain": [
              "Series([], Name: Text, dtype: object)"
            ]
          },
          "metadata": {
            "tags": []
          },
          "execution_count": 57
        }
      ]
    },
    {
      "cell_type": "code",
      "metadata": {
        "id": "JlOI_uqLmsie",
        "colab_type": "code",
        "colab": {
          "base_uri": "https://localhost:8080/",
          "height": 227
        },
        "outputId": "12f0b212-a1a3-4b5e-c882-3208809d20bd"
      },
      "source": [
        "df1.loc[df1.punctuation >= 1000].Text.tolist()"
      ],
      "execution_count": null,
      "outputs": [
        {
          "output_type": "execute_result",
          "data": {
            "text/plain": [
              "['note amazoncombr pretty please put liver subscribe save beef liver beef available ss liver yet thank muchbr reviewbr cat slowly switching newmans beef products wellness brand cat food great brand still reserved treats occasionally ecstatic totally grainandno fillers organic cat food could feed year old cat prone crystal formation bladder plaque build teeth even though brush outer teeth every eveningbr far tried beef liver liver loves ordered beef today sure hell love toobr product thick concentrated beef liver alone consistency concentrated pate beef liver consistency gelatinous thick beefy oatmeal scoop bowl blend bit hot water product warm fats make gravy prefers eat food bit warm anyhow barely wants nibble wellness brand cat food four years guess means hes one sold cat might unusual cat love beef much cat goes crazy beef especially make steak afford find organic grain beef based line cat food made day one nine lives doubtbr anyway know cat already loves beef beef liver heshe probably peachy keen productbr ingredients list newmans canned beef cat productsbr beefbr organic beef organic beef broth minerals calcium carbonate zinc proteinate iron carbonate copper proteinate manganese iodate calcium iodate sodium selenite taurine vitamins vitamin e e k supplements choline niacin pantothenic acid riboflavin thiamine pyridoxine folic acid biotinbr guaranteed analysisbr crude minbr crude minbr crude maxbr maxbr maxbr maxbr minbr caloric valuebr fed liverbr organic beef liver organic liver broth minerals calcium carbonate zinc proteinate iron carbonate copper proteinate manganese iodate calcium iodate sodium selenite taurine vitamins vitamin e e k supplements choline niacin pantothenic acid riboflavin thiamine pyridoxine folic acid biotinbr guaranteed analysisbr crude minbr crude minbr crude maxbr maxbr maxbr maxbr minbr caloric valuebr fed beef liverbr organic beef organic beef liver organic beef broth minerals calcium carbonate zinc proteinate iron carbonate copper proteinate manganese iodate calcium iodate sodium selenite taurine vitamins vitamin e e k supplements choline niacin pantothenic acid riboflavin thiamine pyridoxine folic acid biotinbr guaranteed analysisbr crude minbr crude minbr crude maxbr maxbr maxbr maxbr minbr caloric valuebr fed heres kittys health',\n",
              " 'update read update first thanks june august actively anyway four cats two normals eat anything one kidney disease crfckd accompanying reduced appetite one picky weird tastes process trying find appetite stimulant momcat crfckd tried several products others kids wellbr results less scientific definitive surveybr drsfostersmith shrimp snappies treats ground powderall refusedbr freezedried powders prowl ziwi peakno effect one ms picky ate thembr seafood juices tuna oyster sardine etcno effect one ate thembr dry ground powder cat food halo evo blue fuffalo etcno effect ditto acceptancebr canned cat food gourmet brands renal dietsdittobr hairball tube lubes usual suspects cat grassdittobr markchappells de furrums treatsdittobr calming chews liquid pet naturalsditto except ms picky acceptedbr brewers yeastpowderdulled appetites bit acceptedbr barley cat greenfoods powdereffective momcat others liked exceptbr drsfostersmith tuna treats ground powdereffective momcat others likedbr bonito sprinkles catmandooeven effective dittobr dingo anchovy fillets ground powderditto effect acceptancebr tropical fish food sergeants atlantisditto except ms picky liked normals notbr purina whisker lickins tender moments chicken flavorbest effect acceptancebr whiskas temptations treats crumbled handbest effect acceptancebr products accepted cats appetites helped noticeably found last seven barley cat separate review drsfs tuna treats catmandoo bonito sprinkles reviewed dingo anchovy fillets tropical fish food test regular beta ingredients similar loaded fillers dyes reason suspect brand critical purina whisker lickins tender moments whiskas temptations treats regular salmon chicken flavors tested whiskas temptations effective point bringing cats appetites back relish enthusiastic stage none products perfect lacking degree effectiveness acceptance regular whiskas temptations natural versions lacking quality ingredients difficult crush hand avoided brands like whiskas years nutritional ethical grounds reluctantly use flavor enchancer role find suitable alternative three four cats weird responses tropical fish flakes two normals absolutely repulsed ms picky licked bowl clean go figurebr catmandoo cmd sprinkles bought healthypetscom bit less price amazon dehydrated bonito sprinkles form tuna dash product expensive could find bonito products typically large flakes expensive although cmd product comes shaker jar sprinkles form like salt pepper shake easily evenly sprinkles still flakes lot smaller decide reduce size products necessary pulverize fine powder generally come shaker container little uniformly left slightly course whiskas treats soft center best crumbled hand whiskas products present best value servings sale petco bit less walmart purina whisker lickens come several flavor varieties though equally effective contain servings expensive even amazons best terms multipack free shipping purina wl oz would sell per pack shelf free shipping competitive found several products drsfs sergeants purina wl whiskas discount store biglots among dried fish products cmd sprinkles offer good value per ounce shipping taxes provide many servings could attempt count even estimate pet gets turned cmd prodigious number servings cmd could better value word caution cmd quantity listings ads stated sprinkles jar contains oz true company used fluid ounce volume measure rather weight measure particular product sprinkles jar contains least oz weight even price still beats brands bonito tuna products ran across credit company however since packed jar full possible responded positively complaint choice measures confirmed labels ads marketing materials changed asap state oz weight measure pack jar tight catmandoo introducing chicken sprinkles product oz size wonder would ms picky take thatbr conclusion effective appetite enhancers probably one matches pickiestweirdest tastes problem discovered finding far tell logic rhyme reason use guide individual differences among cats seems norm consistency preferences appear evolutionary value cases point ms picky like flavors meat fish loved food flakes fish normals rarely refuse anything sorely offended offering personally reasonably priced goto flavor enhancers cats whiskas temptations back ups catmandoo sprinkles well even ms pickybr side note powdered combined dingo anchovy product catmandoo sprinkles suggests closely effective products may mixed successfully use anchovies since relatively expensive probably would purchase full retail pricebr tastes change longer actively searching appetite boosters hope review helps products ideas anyone else even dog companions still searching pet appetite enhancerbr update tastes changerepeatedly acquired whole new perspective trying four dozen flavor additives past year two approaches restimulating pet appetites food pet outside inside taking wrong approach assuming find right product add cats food valla problem solved following personal conclusions many months conversations several vetsbr diminished appetite may difficult distinguish strong preferences pickypicky preference changesbr normally healthy pets experience swings appetite like seasonal hairball buildup need extra appetite stimulants treats although would never guess explosion treats pet food aisles even pets play perform expect approval attention affection everyday pet feed provide adequate level sensory interest find appropriate formula mix brands wetdry affordability may issue treats cheap done math get fix pricepoint treats would become expensive event offtheshelf enhancerstreats may role case genetic agerelated sensory loss shortterm aid palliative rough experienceday last resortbr pets known suspected medical issues may need insideout approach additive appetite enhancers may much help reduction appetite due medical case short term benefit even best appetite additives anywhere one meal several months may long enough keep going underlying medical issues related appetite symptoms resolved insideout rx appetite enhancers may work shortterm maybe weeks others may work administered continually best typical outcome would jumpstart pets natural appetitebr pets special diet like calorie restriction rx fewer choices feed may benefit added outsidein appetite enhancers even palatable available special diet formulas expect short term results anticipate cycle various enhancer products frequentlybr one reason loss magic appetite enhancers pet intelligence may eventually figure cherry pick tasty additive leave relatively unappetizing food wait first offering anticipation tastier followup offerings flavor additives work better sprinkles tend lose magic mixed food found case even marianated regular food flavor enhancer water prior mealsbr used phrases flavor enhancer appetite stimulant interchangeably probably substantive difference interest end result hearty interest meals increased consumptionbr readers interested lists products tried set items researchedused since last report organized little differently hopefully useful fashion besides specific items may find list helpful generating ideas experiment unless noted otherwise offthe shelf products crumbled pulverized already powder form prior consultation vet would advisable required insideout types may prove helpful venturing even realm offtheshelf diy flavor enhancersbr insideout types depend senses work internally stimulate appetitebr vitamin dexamethasone rx injectable steriodbr probiotics depomedrol rx injectable antiinflammatory prebiotics mirtazipine rx antidepressant pillsbr exercise cyproheptadine rx antihistamineserotonin pills compounded liquidbr charcoal medicalfood grades cerenia rx antinausiainflammatory pillbr pepcid ac zantacbr oral electrolytes nonrx fluids like pedialyte caravet ions petsvets diy recipesbr rx injectable electrolytes subq fluidsbr rx oral electrolytes like rebound oesbr outsidein types depend mainly senses smelltaste get attention appetitebr hills science diet ad rx pet vitamins sargeantsbr dental gel liver raw sauteed chicken beefbr garmon vetclassics cranberry chews crumbledliver humangrade dessicateddehydrated capsulespowderedbr cranberry liquidhairball treatsbr beefeaters cod freeze dried puffsmilkbr cat milk whiskas chicken freeze dried puffsbr clinicare rf canned pet food regular rx searedbrowned crumbledbr lactulose foster smithboutique canned food like fancy feastbr spirulina st jon naturalsvienna sausagechicken meat brothbr vita gravy pet naturals calming chews tabs liquidbr friskies crispies mars crave treatsbr pounce treats jrbfoods catty shack treats walmartbr super redsgreens human powder bench field treatsbr petmates dry food powdered fostersmith joint care powderbr catnip kookamunga catnip spraybr catsure liquid dietrebound liquid dietbr cheerios breakfast cereal crumbled kmr liquidbr vanilla extract alcoholpet greens freezedried liver puffsbr natural balance platefullssardines pureed little lion salmonbr natural balance perfect bites rabbit evo wild cravingsbr vetsbest right bites health management dogs mixins variety pet foodsbr purebites pure treats incfreezedried liver puffs mostleast effective rx products differences best sorted vetbr effective nonrx productsbr addition better ones according cats noted original list barley cat thru whiskas temptations add best classbr dessicateddehydrated liver human grade capsulespowder go easy may cause runsbr searedbrowned canned pet food regular rxbr vienna sausage chicked meat brothbr catty shack treats crumbledbr natural balance platefullssardinesbr pet greens freeze dried puffs liverbr natural balance perfect bites rabbitbr little lion salmonbr evo wild cravings herring salmonbr vetsbest right bites health management dogsbr mixins variety pet foodsbr least effective nonrx productsbr addition originally listed ineffective ones unscientific poll cats fs shrimp snappies thru brewers yeast powder add thesebr vita gravy petsmartbr bench field treats trader joesbr nonrx productsbr accepted four cats particularly effective appetite stimulants trials pets especially healthy ones may respond favorablybr starting would supplementing perspective points main tips get know pets taste preferences advance need check medical causes medical issues switch form drywet pets regular food try flavor enhancer topping andor substitute try warming browning wet version pets regular food next best choice treat supplement pets favorite flavor used topping one liver taste barley cat pet greens freeze dried catmando bonito sprinkles natural balance platefuls catty shack treats purina whisker lickins whiskas temptations product meets initial acceptance withhold judgment effectiveness meals worth experiences forego trying hundreds treats search one work gone thru best shots medical issues consider offtheshelf rx appetite stimulants singly combination liquid meal substitute called consider rebound clinicare rf catsure kmr last resort human versions liquid renal failure products acceptance point likely major issue least tryingbr apologies awkward columns could figure neat way compress information hope helps good luck',\n",
              " 'note amazoncombr pretty please put liver subscribe save beef liver beef available ss liver yet thank muchbr reviewbr cat slowly switching newmans beef products wellness brand cat food great brand still reserved treats occasionally ecstatic totally grainandno fillers organic cat food could feed year old cat prone crystal formation bladder plaque build teeth even though brush outer teeth every eveningbr far tried beef liver liver loves ordered beef today sure hell love toobr product thick concentrated beef liver alone consistency concentrated pate beef liver consistency gelatinous thick beefy oatmeal scoop bowl blend bit hot water product warm fats make gravy prefers eat food bit warm anyhow barely wants nibble wellness brand cat food four years guess means hes one sold cat might unusual cat love beef much cat goes crazy beef especially make steak afford find organic grain beef based line cat food made day one nine lives doubtbr anyway know cat already loves beef beef liver heshe probably peachy keen productbr ingredients list newmans canned beef cat productsbr beefbr organic beef organic beef broth minerals calcium carbonate zinc proteinate iron carbonate copper proteinate manganese iodate calcium iodate sodium selenite taurine vitamins vitamin e e k supplements choline niacin pantothenic acid riboflavin thiamine pyridoxine folic acid biotinbr guaranteed analysisbr crude minbr crude minbr crude maxbr maxbr maxbr maxbr minbr caloric valuebr fed liverbr organic beef liver organic liver broth minerals calcium carbonate zinc proteinate iron carbonate copper proteinate manganese iodate calcium iodate sodium selenite taurine vitamins vitamin e e k supplements choline niacin pantothenic acid riboflavin thiamine pyridoxine folic acid biotinbr guaranteed analysisbr crude minbr crude minbr crude maxbr maxbr maxbr maxbr minbr caloric valuebr fed beef liverbr organic beef organic beef liver organic beef broth minerals calcium carbonate zinc proteinate iron carbonate copper proteinate manganese iodate calcium iodate sodium selenite taurine vitamins vitamin e e k supplements choline niacin pantothenic acid riboflavin thiamine pyridoxine folic acid biotinbr guaranteed analysisbr crude minbr crude minbr crude maxbr maxbr maxbr maxbr minbr caloric valuebr fed heres kittys health',\n",
              " 'note amazoncombr pretty please put liver subscribe save beef liver beef available ss liver yet thank muchbr reviewbr cat slowly switching newmans beef products wellness brand cat food great brand still reserved treats occasionally ecstatic totally grainandno fillers organic cat food could feed year old cat prone crystal formation bladder plaque build teeth even though brush outer teeth every eveningbr far tried beef liver liver loves ordered beef today sure hell love toobr product thick concentrated beef liver alone consistency concentrated pate beef liver consistency gelatinous thick beefy oatmeal scoop bowl blend bit hot water product warm fats make gravy prefers eat food bit warm anyhow barely wants nibble wellness brand cat food four years guess means hes one sold cat might unusual cat love beef much cat goes crazy beef especially make steak afford find organic grain beef based line cat food made day one nine lives doubtbr anyway know cat already loves beef beef liver heshe probably peachy keen productbr ingredients list newmans canned beef cat productsbr beefbr organic beef organic beef broth minerals calcium carbonate zinc proteinate iron carbonate copper proteinate manganese iodate calcium iodate sodium selenite taurine vitamins vitamin e e k supplements choline niacin pantothenic acid riboflavin thiamine pyridoxine folic acid biotinbr guaranteed analysisbr crude minbr crude minbr crude maxbr maxbr maxbr maxbr minbr caloric valuebr fed liverbr organic beef liver organic liver broth minerals calcium carbonate zinc proteinate iron carbonate copper proteinate manganese iodate calcium iodate sodium selenite taurine vitamins vitamin e e k supplements choline niacin pantothenic acid riboflavin thiamine pyridoxine folic acid biotinbr guaranteed analysisbr crude minbr crude minbr crude maxbr maxbr maxbr maxbr minbr caloric valuebr fed beef liverbr organic beef organic beef liver organic beef broth minerals calcium carbonate zinc proteinate iron carbonate copper proteinate manganese iodate calcium iodate sodium selenite taurine vitamins vitamin e e k supplements choline niacin pantothenic acid riboflavin thiamine pyridoxine folic acid biotinbr guaranteed analysisbr crude minbr crude minbr crude maxbr maxbr maxbr maxbr minbr caloric valuebr fed heres kittys health',\n",
              " 'note amazoncombr pretty please put liver subscribe save beef liver beef available ss liver yet thank muchbr reviewbr cat slowly switching newmans beef products wellness brand cat food great brand still reserved treats occasionally ecstatic totally grainandno fillers organic cat food could feed year old cat prone crystal formation bladder plaque build teeth even though brush outer teeth every eveningbr far tried beef liver liver loves ordered beef today sure hell love toobr product thick concentrated beef liver alone consistency concentrated pate beef liver consistency gelatinous thick beefy oatmeal scoop bowl blend bit hot water product warm fats make gravy prefers eat food bit warm anyhow barely wants nibble wellness brand cat food four years guess means hes one sold cat might unusual cat love beef much cat goes crazy beef especially make steak afford find organic grain beef based line cat food made day one nine lives doubtbr anyway know cat already loves beef beef liver heshe probably peachy keen productbr ingredients list newmans canned beef cat productsbr beefbr organic beef organic beef broth minerals calcium carbonate zinc proteinate iron carbonate copper proteinate manganese iodate calcium iodate sodium selenite taurine vitamins vitamin e e k supplements choline niacin pantothenic acid riboflavin thiamine pyridoxine folic acid biotinbr guaranteed analysisbr crude minbr crude minbr crude maxbr maxbr maxbr maxbr minbr caloric valuebr fed liverbr organic beef liver organic liver broth minerals calcium carbonate zinc proteinate iron carbonate copper proteinate manganese iodate calcium iodate sodium selenite taurine vitamins vitamin e e k supplements choline niacin pantothenic acid riboflavin thiamine pyridoxine folic acid biotinbr guaranteed analysisbr crude minbr crude minbr crude maxbr maxbr maxbr maxbr minbr caloric valuebr fed beef liverbr organic beef organic beef liver organic beef broth minerals calcium carbonate zinc proteinate iron carbonate copper proteinate manganese iodate calcium iodate sodium selenite taurine vitamins vitamin e e k supplements choline niacin pantothenic acid riboflavin thiamine pyridoxine folic acid biotinbr guaranteed analysisbr crude minbr crude minbr crude maxbr maxbr maxbr maxbr minbr caloric valuebr fed heres kittys health',\n",
              " 'note amazoncombr pretty please put liver subscribe save beef liver beef available ss liver yet thank muchbr reviewbr cat slowly switching newmans beef products wellness brand cat food great brand still reserved treats occasionally ecstatic totally grainandno fillers organic cat food could feed year old cat prone crystal formation bladder plaque build teeth even though brush outer teeth every eveningbr far tried beef liver liver loves ordered beef today sure hell love toobr product thick concentrated beef liver alone consistency concentrated pate beef liver consistency gelatinous thick beefy oatmeal scoop bowl blend bit hot water product warm fats make gravy prefers eat food bit warm anyhow barely wants nibble wellness brand cat food four years guess means hes one sold cat might unusual cat love beef much cat goes crazy beef especially make steak afford find organic grain beef based line cat food made day one nine lives doubtbr anyway know cat already loves beef beef liver heshe probably peachy keen productbr ingredients list newmans canned beef cat productsbr beefbr organic beef organic beef broth minerals calcium carbonate zinc proteinate iron carbonate copper proteinate manganese iodate calcium iodate sodium selenite taurine vitamins vitamin e e k supplements choline niacin pantothenic acid riboflavin thiamine pyridoxine folic acid biotinbr guaranteed analysisbr crude minbr crude minbr crude maxbr maxbr maxbr maxbr minbr caloric valuebr fed liverbr organic beef liver organic liver broth minerals calcium carbonate zinc proteinate iron carbonate copper proteinate manganese iodate calcium iodate sodium selenite taurine vitamins vitamin e e k supplements choline niacin pantothenic acid riboflavin thiamine pyridoxine folic acid biotinbr guaranteed analysisbr crude minbr crude minbr crude maxbr maxbr maxbr maxbr minbr caloric valuebr fed beef liverbr organic beef organic beef liver organic beef broth minerals calcium carbonate zinc proteinate iron carbonate copper proteinate manganese iodate calcium iodate sodium selenite taurine vitamins vitamin e e k supplements choline niacin pantothenic acid riboflavin thiamine pyridoxine folic acid biotinbr guaranteed analysisbr crude minbr crude minbr crude maxbr maxbr maxbr maxbr minbr caloric valuebr fed heres kittys health',\n",
              " 'note amazoncombr pretty please put liver subscribe save beef liver beef available ss liver yet thank muchbr reviewbr cat slowly switching newmans beef products wellness brand cat food great brand still reserved treats occasionally ecstatic totally grainandno fillers organic cat food could feed year old cat prone crystal formation bladder plaque build teeth even though brush outer teeth every eveningbr far tried beef liver liver loves ordered beef today sure hell love toobr product thick concentrated beef liver alone consistency concentrated pate beef liver consistency gelatinous thick beefy oatmeal scoop bowl blend bit hot water product warm fats make gravy prefers eat food bit warm anyhow barely wants nibble wellness brand cat food four years guess means hes one sold cat might unusual cat love beef much cat goes crazy beef especially make steak afford find organic grain beef based line cat food made day one nine lives doubtbr anyway know cat already loves beef beef liver heshe probably peachy keen productbr ingredients list newmans canned beef cat productsbr beefbr organic beef organic beef broth minerals calcium carbonate zinc proteinate iron carbonate copper proteinate manganese iodate calcium iodate sodium selenite taurine vitamins vitamin e e k supplements choline niacin pantothenic acid riboflavin thiamine pyridoxine folic acid biotinbr guaranteed analysisbr crude minbr crude minbr crude maxbr maxbr maxbr maxbr minbr caloric valuebr fed liverbr organic beef liver organic liver broth minerals calcium carbonate zinc proteinate iron carbonate copper proteinate manganese iodate calcium iodate sodium selenite taurine vitamins vitamin e e k supplements choline niacin pantothenic acid riboflavin thiamine pyridoxine folic acid biotinbr guaranteed analysisbr crude minbr crude minbr crude maxbr maxbr maxbr maxbr minbr caloric valuebr fed beef liverbr organic beef organic beef liver organic beef broth minerals calcium carbonate zinc proteinate iron carbonate copper proteinate manganese iodate calcium iodate sodium selenite taurine vitamins vitamin e e k supplements choline niacin pantothenic acid riboflavin thiamine pyridoxine folic acid biotinbr guaranteed analysisbr crude minbr crude minbr crude maxbr maxbr maxbr maxbr minbr caloric valuebr fed heres kittys health',\n",
              " 'note amazoncombr pretty please put liver subscribe save beef liver beef available ss liver yet thank muchbr reviewbr cat slowly switching newmans beef products wellness brand cat food great brand still reserved treats occasionally ecstatic totally grainandno fillers organic cat food could feed year old cat prone crystal formation bladder plaque build teeth even though brush outer teeth every eveningbr far tried beef liver liver loves ordered beef today sure hell love toobr product thick concentrated beef liver alone consistency concentrated pate beef liver consistency gelatinous thick beefy oatmeal scoop bowl blend bit hot water product warm fats make gravy prefers eat food bit warm anyhow barely wants nibble wellness brand cat food four years guess means hes one sold cat might unusual cat love beef much cat goes crazy beef especially make steak afford find organic grain beef based line cat food made day one nine lives doubtbr anyway know cat already loves beef beef liver heshe probably peachy keen productbr ingredients list newmans canned beef cat productsbr beefbr organic beef organic beef broth minerals calcium carbonate zinc proteinate iron carbonate copper proteinate manganese iodate calcium iodate sodium selenite taurine vitamins vitamin e e k supplements choline niacin pantothenic acid riboflavin thiamine pyridoxine folic acid biotinbr guaranteed analysisbr crude minbr crude minbr crude maxbr maxbr maxbr maxbr minbr caloric valuebr fed liverbr organic beef liver organic liver broth minerals calcium carbonate zinc proteinate iron carbonate copper proteinate manganese iodate calcium iodate sodium selenite taurine vitamins vitamin e e k supplements choline niacin pantothenic acid riboflavin thiamine pyridoxine folic acid biotinbr guaranteed analysisbr crude minbr crude minbr crude maxbr maxbr maxbr maxbr minbr caloric valuebr fed beef liverbr organic beef organic beef liver organic beef broth minerals calcium carbonate zinc proteinate iron carbonate copper proteinate manganese iodate calcium iodate sodium selenite taurine vitamins vitamin e e k supplements choline niacin pantothenic acid riboflavin thiamine pyridoxine folic acid biotinbr guaranteed analysisbr crude minbr crude minbr crude maxbr maxbr maxbr maxbr minbr caloric valuebr fed heres kittys health',\n",
              " 'note amazoncombr pretty please put liver subscribe save beef liver beef available ss liver yet thank muchbr reviewbr cat slowly switching newmans beef products wellness brand cat food great brand still reserved treats occasionally ecstatic totally grainandno fillers organic cat food could feed year old cat prone crystal formation bladder plaque build teeth even though brush outer teeth every eveningbr far tried beef liver liver loves ordered beef today sure hell love toobr product thick concentrated beef liver alone consistency concentrated pate beef liver consistency gelatinous thick beefy oatmeal scoop bowl blend bit hot water product warm fats make gravy prefers eat food bit warm anyhow barely wants nibble wellness brand cat food four years guess means hes one sold cat might unusual cat love beef much cat goes crazy beef especially make steak afford find organic grain beef based line cat food made day one nine lives doubtbr anyway know cat already loves beef beef liver heshe probably peachy keen productbr ingredients list newmans canned beef cat productsbr beefbr organic beef organic beef broth minerals calcium carbonate zinc proteinate iron carbonate copper proteinate manganese iodate calcium iodate sodium selenite taurine vitamins vitamin e e k supplements choline niacin pantothenic acid riboflavin thiamine pyridoxine folic acid biotinbr guaranteed analysisbr crude minbr crude minbr crude maxbr maxbr maxbr maxbr minbr caloric valuebr fed liverbr organic beef liver organic liver broth minerals calcium carbonate zinc proteinate iron carbonate copper proteinate manganese iodate calcium iodate sodium selenite taurine vitamins vitamin e e k supplements choline niacin pantothenic acid riboflavin thiamine pyridoxine folic acid biotinbr guaranteed analysisbr crude minbr crude minbr crude maxbr maxbr maxbr maxbr minbr caloric valuebr fed beef liverbr organic beef organic beef liver organic beef broth minerals calcium carbonate zinc proteinate iron carbonate copper proteinate manganese iodate calcium iodate sodium selenite taurine vitamins vitamin e e k supplements choline niacin pantothenic acid riboflavin thiamine pyridoxine folic acid biotinbr guaranteed analysisbr crude minbr crude minbr crude maxbr maxbr maxbr maxbr minbr caloric valuebr fed heres kittys health',\n",
              " 'note amazoncombr pretty please put liver subscribe save beef liver beef available ss liver yet thank muchbr reviewbr cat slowly switching newmans beef products wellness brand cat food great brand still reserved treats occasionally ecstatic totally grainandno fillers organic cat food could feed year old cat prone crystal formation bladder plaque build teeth even though brush outer teeth every eveningbr far tried beef liver liver loves ordered beef today sure hell love toobr product thick concentrated beef liver alone consistency concentrated pate beef liver consistency gelatinous thick beefy oatmeal scoop bowl blend bit hot water product warm fats make gravy prefers eat food bit warm anyhow barely wants nibble wellness brand cat food four years guess means hes one sold cat might unusual cat love beef much cat goes crazy beef especially make steak afford find organic grain beef based line cat food made day one nine lives doubtbr anyway know cat already loves beef beef liver heshe probably peachy keen productbr ingredients list newmans canned beef cat productsbr beefbr organic beef organic beef broth minerals calcium carbonate zinc proteinate iron carbonate copper proteinate manganese iodate calcium iodate sodium selenite taurine vitamins vitamin e e k supplements choline niacin pantothenic acid riboflavin thiamine pyridoxine folic acid biotinbr guaranteed analysisbr crude minbr crude minbr crude maxbr maxbr maxbr maxbr minbr caloric valuebr fed liverbr organic beef liver organic liver broth minerals calcium carbonate zinc proteinate iron carbonate copper proteinate manganese iodate calcium iodate sodium selenite taurine vitamins vitamin e e k supplements choline niacin pantothenic acid riboflavin thiamine pyridoxine folic acid biotinbr guaranteed analysisbr crude minbr crude minbr crude maxbr maxbr maxbr maxbr minbr caloric valuebr fed beef liverbr organic beef organic beef liver organic beef broth minerals calcium carbonate zinc proteinate iron carbonate copper proteinate manganese iodate calcium iodate sodium selenite taurine vitamins vitamin e e k supplements choline niacin pantothenic acid riboflavin thiamine pyridoxine folic acid biotinbr guaranteed analysisbr crude minbr crude minbr crude maxbr maxbr maxbr maxbr minbr caloric valuebr fed heres kittys health']"
            ]
          },
          "metadata": {
            "tags": []
          },
          "execution_count": 59
        }
      ]
    },
    {
      "cell_type": "code",
      "metadata": {
        "id": "7zSIpcicmd9-",
        "colab_type": "code",
        "colab": {
          "base_uri": "https://localhost:8080/",
          "height": 227
        },
        "outputId": "c903a655-92a4-4246-cf56-d54e125f37b9"
      },
      "source": [
        "df.loc[df.punctuation >= 1000].Text.tolist()"
      ],
      "execution_count": null,
      "outputs": [
        {
          "output_type": "execute_result",
          "data": {
            "text/plain": [
              "['note amazoncombr pretty please put liver subscribe save beef liver beef available ss liver yet thank muchbr reviewbr cat slowly switching newmans beef products wellness brand cat food great brand still reserved treats occasionally ecstatic totally grainandno fillers organic cat food could feed year old cat prone crystal formation bladder plaque build teeth even though brush outer teeth every eveningbr far tried beef liver liver loves ordered beef today sure hell love toobr product thick concentrated beef liver alone consistency concentrated pate beef liver consistency gelatinous thick beefy oatmeal scoop bowl blend bit hot water product warm fats make gravy prefers eat food bit warm anyhow barely wants nibble wellness brand cat food four years guess means hes one sold cat might unusual cat love beef much cat goes crazy beef especially make steak afford find organic grain beef based line cat food made day one nine lives doubtbr anyway know cat already loves beef beef liver heshe probably peachy keen productbr ingredients list newmans canned beef cat productsbr beefbr organic beef organic beef broth minerals calcium carbonate zinc proteinate iron carbonate copper proteinate manganese iodate calcium iodate sodium selenite taurine vitamins vitamin e e k supplements choline niacin pantothenic acid riboflavin thiamine pyridoxine folic acid biotinbr guaranteed analysisbr crude minbr crude minbr crude maxbr maxbr maxbr maxbr minbr caloric valuebr fed liverbr organic beef liver organic liver broth minerals calcium carbonate zinc proteinate iron carbonate copper proteinate manganese iodate calcium iodate sodium selenite taurine vitamins vitamin e e k supplements choline niacin pantothenic acid riboflavin thiamine pyridoxine folic acid biotinbr guaranteed analysisbr crude minbr crude minbr crude maxbr maxbr maxbr maxbr minbr caloric valuebr fed beef liverbr organic beef organic beef liver organic beef broth minerals calcium carbonate zinc proteinate iron carbonate copper proteinate manganese iodate calcium iodate sodium selenite taurine vitamins vitamin e e k supplements choline niacin pantothenic acid riboflavin thiamine pyridoxine folic acid biotinbr guaranteed analysisbr crude minbr crude minbr crude maxbr maxbr maxbr maxbr minbr caloric valuebr fed heres kittys health',\n",
              " 'update read update first thanks june august actively anyway four cats two normals eat anything one kidney disease crfckd accompanying reduced appetite one picky weird tastes process trying find appetite stimulant momcat crfckd tried several products others kids wellbr results less scientific definitive surveybr drsfostersmith shrimp snappies treats ground powderall refusedbr freezedried powders prowl ziwi peakno effect one ms picky ate thembr seafood juices tuna oyster sardine etcno effect one ate thembr dry ground powder cat food halo evo blue fuffalo etcno effect ditto acceptancebr canned cat food gourmet brands renal dietsdittobr hairball tube lubes usual suspects cat grassdittobr markchappells de furrums treatsdittobr calming chews liquid pet naturalsditto except ms picky acceptedbr brewers yeastpowderdulled appetites bit acceptedbr barley cat greenfoods powdereffective momcat others liked exceptbr drsfostersmith tuna treats ground powdereffective momcat others likedbr bonito sprinkles catmandooeven effective dittobr dingo anchovy fillets ground powderditto effect acceptancebr tropical fish food sergeants atlantisditto except ms picky liked normals notbr purina whisker lickins tender moments chicken flavorbest effect acceptancebr whiskas temptations treats crumbled handbest effect acceptancebr products accepted cats appetites helped noticeably found last seven barley cat separate review drsfs tuna treats catmandoo bonito sprinkles reviewed dingo anchovy fillets tropical fish food test regular beta ingredients similar loaded fillers dyes reason suspect brand critical purina whisker lickins tender moments whiskas temptations treats regular salmon chicken flavors tested whiskas temptations effective point bringing cats appetites back relish enthusiastic stage none products perfect lacking degree effectiveness acceptance regular whiskas temptations natural versions lacking quality ingredients difficult crush hand avoided brands like whiskas years nutritional ethical grounds reluctantly use flavor enchancer role find suitable alternative three four cats weird responses tropical fish flakes two normals absolutely repulsed ms picky licked bowl clean go figurebr catmandoo cmd sprinkles bought healthypetscom bit less price amazon dehydrated bonito sprinkles form tuna dash product expensive could find bonito products typically large flakes expensive although cmd product comes shaker jar sprinkles form like salt pepper shake easily evenly sprinkles still flakes lot smaller decide reduce size products necessary pulverize fine powder generally come shaker container little uniformly left slightly course whiskas treats soft center best crumbled hand whiskas products present best value servings sale petco bit less walmart purina whisker lickens come several flavor varieties though equally effective contain servings expensive even amazons best terms multipack free shipping purina wl oz would sell per pack shelf free shipping competitive found several products drsfs sergeants purina wl whiskas discount store biglots among dried fish products cmd sprinkles offer good value per ounce shipping taxes provide many servings could attempt count even estimate pet gets turned cmd prodigious number servings cmd could better value word caution cmd quantity listings ads stated sprinkles jar contains oz true company used fluid ounce volume measure rather weight measure particular product sprinkles jar contains least oz weight even price still beats brands bonito tuna products ran across credit company however since packed jar full possible responded positively complaint choice measures confirmed labels ads marketing materials changed asap state oz weight measure pack jar tight catmandoo introducing chicken sprinkles product oz size wonder would ms picky take thatbr conclusion effective appetite enhancers probably one matches pickiestweirdest tastes problem discovered finding far tell logic rhyme reason use guide individual differences among cats seems norm consistency preferences appear evolutionary value cases point ms picky like flavors meat fish loved food flakes fish normals rarely refuse anything sorely offended offering personally reasonably priced goto flavor enhancers cats whiskas temptations back ups catmandoo sprinkles well even ms pickybr side note powdered combined dingo anchovy product catmandoo sprinkles suggests closely effective products may mixed successfully use anchovies since relatively expensive probably would purchase full retail pricebr tastes change longer actively searching appetite boosters hope review helps products ideas anyone else even dog companions still searching pet appetite enhancerbr update tastes changerepeatedly acquired whole new perspective trying four dozen flavor additives past year two approaches restimulating pet appetites food pet outside inside taking wrong approach assuming find right product add cats food valla problem solved following personal conclusions many months conversations several vetsbr diminished appetite may difficult distinguish strong preferences pickypicky preference changesbr normally healthy pets experience swings appetite like seasonal hairball buildup need extra appetite stimulants treats although would never guess explosion treats pet food aisles even pets play perform expect approval attention affection everyday pet feed provide adequate level sensory interest find appropriate formula mix brands wetdry affordability may issue treats cheap done math get fix pricepoint treats would become expensive event offtheshelf enhancerstreats may role case genetic agerelated sensory loss shortterm aid palliative rough experienceday last resortbr pets known suspected medical issues may need insideout approach additive appetite enhancers may much help reduction appetite due medical case short term benefit even best appetite additives anywhere one meal several months may long enough keep going underlying medical issues related appetite symptoms resolved insideout rx appetite enhancers may work shortterm maybe weeks others may work administered continually best typical outcome would jumpstart pets natural appetitebr pets special diet like calorie restriction rx fewer choices feed may benefit added outsidein appetite enhancers even palatable available special diet formulas expect short term results anticipate cycle various enhancer products frequentlybr one reason loss magic appetite enhancers pet intelligence may eventually figure cherry pick tasty additive leave relatively unappetizing food wait first offering anticipation tastier followup offerings flavor additives work better sprinkles tend lose magic mixed food found case even marianated regular food flavor enhancer water prior mealsbr used phrases flavor enhancer appetite stimulant interchangeably probably substantive difference interest end result hearty interest meals increased consumptionbr readers interested lists products tried set items researchedused since last report organized little differently hopefully useful fashion besides specific items may find list helpful generating ideas experiment unless noted otherwise offthe shelf products crumbled pulverized already powder form prior consultation vet would advisable required insideout types may prove helpful venturing even realm offtheshelf diy flavor enhancersbr insideout types depend senses work internally stimulate appetitebr vitamin dexamethasone rx injectable steriodbr probiotics depomedrol rx injectable antiinflammatory prebiotics mirtazipine rx antidepressant pillsbr exercise cyproheptadine rx antihistamineserotonin pills compounded liquidbr charcoal medicalfood grades cerenia rx antinausiainflammatory pillbr pepcid ac zantacbr oral electrolytes nonrx fluids like pedialyte caravet ions petsvets diy recipesbr rx injectable electrolytes subq fluidsbr rx oral electrolytes like rebound oesbr outsidein types depend mainly senses smelltaste get attention appetitebr hills science diet ad rx pet vitamins sargeantsbr dental gel liver raw sauteed chicken beefbr garmon vetclassics cranberry chews crumbledliver humangrade dessicateddehydrated capsulespowderedbr cranberry liquidhairball treatsbr beefeaters cod freeze dried puffsmilkbr cat milk whiskas chicken freeze dried puffsbr clinicare rf canned pet food regular rx searedbrowned crumbledbr lactulose foster smithboutique canned food like fancy feastbr spirulina st jon naturalsvienna sausagechicken meat brothbr vita gravy pet naturals calming chews tabs liquidbr friskies crispies mars crave treatsbr pounce treats jrbfoods catty shack treats walmartbr super redsgreens human powder bench field treatsbr petmates dry food powdered fostersmith joint care powderbr catnip kookamunga catnip spraybr catsure liquid dietrebound liquid dietbr cheerios breakfast cereal crumbled kmr liquidbr vanilla extract alcoholpet greens freezedried liver puffsbr natural balance platefullssardines pureed little lion salmonbr natural balance perfect bites rabbit evo wild cravingsbr vetsbest right bites health management dogs mixins variety pet foodsbr purebites pure treats incfreezedried liver puffs mostleast effective rx products differences best sorted vetbr effective nonrx productsbr addition better ones according cats noted original list barley cat thru whiskas temptations add best classbr dessicateddehydrated liver human grade capsulespowder go easy may cause runsbr searedbrowned canned pet food regular rxbr vienna sausage chicked meat brothbr catty shack treats crumbledbr natural balance platefullssardinesbr pet greens freeze dried puffs liverbr natural balance perfect bites rabbitbr little lion salmonbr evo wild cravings herring salmonbr vetsbest right bites health management dogsbr mixins variety pet foodsbr least effective nonrx productsbr addition originally listed ineffective ones unscientific poll cats fs shrimp snappies thru brewers yeast powder add thesebr vita gravy petsmartbr bench field treats trader joesbr nonrx productsbr accepted four cats particularly effective appetite stimulants trials pets especially healthy ones may respond favorablybr starting would supplementing perspective points main tips get know pets taste preferences advance need check medical causes medical issues switch form drywet pets regular food try flavor enhancer topping andor substitute try warming browning wet version pets regular food next best choice treat supplement pets favorite flavor used topping one liver taste barley cat pet greens freeze dried catmando bonito sprinkles natural balance platefuls catty shack treats purina whisker lickins whiskas temptations product meets initial acceptance withhold judgment effectiveness meals worth experiences forego trying hundreds treats search one work gone thru best shots medical issues consider offtheshelf rx appetite stimulants singly combination liquid meal substitute called consider rebound clinicare rf catsure kmr last resort human versions liquid renal failure products acceptance point likely major issue least tryingbr apologies awkward columns could figure neat way compress information hope helps good luck',\n",
              " 'note amazoncombr pretty please put liver subscribe save beef liver beef available ss liver yet thank muchbr reviewbr cat slowly switching newmans beef products wellness brand cat food great brand still reserved treats occasionally ecstatic totally grainandno fillers organic cat food could feed year old cat prone crystal formation bladder plaque build teeth even though brush outer teeth every eveningbr far tried beef liver liver loves ordered beef today sure hell love toobr product thick concentrated beef liver alone consistency concentrated pate beef liver consistency gelatinous thick beefy oatmeal scoop bowl blend bit hot water product warm fats make gravy prefers eat food bit warm anyhow barely wants nibble wellness brand cat food four years guess means hes one sold cat might unusual cat love beef much cat goes crazy beef especially make steak afford find organic grain beef based line cat food made day one nine lives doubtbr anyway know cat already loves beef beef liver heshe probably peachy keen productbr ingredients list newmans canned beef cat productsbr beefbr organic beef organic beef broth minerals calcium carbonate zinc proteinate iron carbonate copper proteinate manganese iodate calcium iodate sodium selenite taurine vitamins vitamin e e k supplements choline niacin pantothenic acid riboflavin thiamine pyridoxine folic acid biotinbr guaranteed analysisbr crude minbr crude minbr crude maxbr maxbr maxbr maxbr minbr caloric valuebr fed liverbr organic beef liver organic liver broth minerals calcium carbonate zinc proteinate iron carbonate copper proteinate manganese iodate calcium iodate sodium selenite taurine vitamins vitamin e e k supplements choline niacin pantothenic acid riboflavin thiamine pyridoxine folic acid biotinbr guaranteed analysisbr crude minbr crude minbr crude maxbr maxbr maxbr maxbr minbr caloric valuebr fed beef liverbr organic beef organic beef liver organic beef broth minerals calcium carbonate zinc proteinate iron carbonate copper proteinate manganese iodate calcium iodate sodium selenite taurine vitamins vitamin e e k supplements choline niacin pantothenic acid riboflavin thiamine pyridoxine folic acid biotinbr guaranteed analysisbr crude minbr crude minbr crude maxbr maxbr maxbr maxbr minbr caloric valuebr fed heres kittys health',\n",
              " 'note amazoncombr pretty please put liver subscribe save beef liver beef available ss liver yet thank muchbr reviewbr cat slowly switching newmans beef products wellness brand cat food great brand still reserved treats occasionally ecstatic totally grainandno fillers organic cat food could feed year old cat prone crystal formation bladder plaque build teeth even though brush outer teeth every eveningbr far tried beef liver liver loves ordered beef today sure hell love toobr product thick concentrated beef liver alone consistency concentrated pate beef liver consistency gelatinous thick beefy oatmeal scoop bowl blend bit hot water product warm fats make gravy prefers eat food bit warm anyhow barely wants nibble wellness brand cat food four years guess means hes one sold cat might unusual cat love beef much cat goes crazy beef especially make steak afford find organic grain beef based line cat food made day one nine lives doubtbr anyway know cat already loves beef beef liver heshe probably peachy keen productbr ingredients list newmans canned beef cat productsbr beefbr organic beef organic beef broth minerals calcium carbonate zinc proteinate iron carbonate copper proteinate manganese iodate calcium iodate sodium selenite taurine vitamins vitamin e e k supplements choline niacin pantothenic acid riboflavin thiamine pyridoxine folic acid biotinbr guaranteed analysisbr crude minbr crude minbr crude maxbr maxbr maxbr maxbr minbr caloric valuebr fed liverbr organic beef liver organic liver broth minerals calcium carbonate zinc proteinate iron carbonate copper proteinate manganese iodate calcium iodate sodium selenite taurine vitamins vitamin e e k supplements choline niacin pantothenic acid riboflavin thiamine pyridoxine folic acid biotinbr guaranteed analysisbr crude minbr crude minbr crude maxbr maxbr maxbr maxbr minbr caloric valuebr fed beef liverbr organic beef organic beef liver organic beef broth minerals calcium carbonate zinc proteinate iron carbonate copper proteinate manganese iodate calcium iodate sodium selenite taurine vitamins vitamin e e k supplements choline niacin pantothenic acid riboflavin thiamine pyridoxine folic acid biotinbr guaranteed analysisbr crude minbr crude minbr crude maxbr maxbr maxbr maxbr minbr caloric valuebr fed heres kittys health',\n",
              " 'note amazoncombr pretty please put liver subscribe save beef liver beef available ss liver yet thank muchbr reviewbr cat slowly switching newmans beef products wellness brand cat food great brand still reserved treats occasionally ecstatic totally grainandno fillers organic cat food could feed year old cat prone crystal formation bladder plaque build teeth even though brush outer teeth every eveningbr far tried beef liver liver loves ordered beef today sure hell love toobr product thick concentrated beef liver alone consistency concentrated pate beef liver consistency gelatinous thick beefy oatmeal scoop bowl blend bit hot water product warm fats make gravy prefers eat food bit warm anyhow barely wants nibble wellness brand cat food four years guess means hes one sold cat might unusual cat love beef much cat goes crazy beef especially make steak afford find organic grain beef based line cat food made day one nine lives doubtbr anyway know cat already loves beef beef liver heshe probably peachy keen productbr ingredients list newmans canned beef cat productsbr beefbr organic beef organic beef broth minerals calcium carbonate zinc proteinate iron carbonate copper proteinate manganese iodate calcium iodate sodium selenite taurine vitamins vitamin e e k supplements choline niacin pantothenic acid riboflavin thiamine pyridoxine folic acid biotinbr guaranteed analysisbr crude minbr crude minbr crude maxbr maxbr maxbr maxbr minbr caloric valuebr fed liverbr organic beef liver organic liver broth minerals calcium carbonate zinc proteinate iron carbonate copper proteinate manganese iodate calcium iodate sodium selenite taurine vitamins vitamin e e k supplements choline niacin pantothenic acid riboflavin thiamine pyridoxine folic acid biotinbr guaranteed analysisbr crude minbr crude minbr crude maxbr maxbr maxbr maxbr minbr caloric valuebr fed beef liverbr organic beef organic beef liver organic beef broth minerals calcium carbonate zinc proteinate iron carbonate copper proteinate manganese iodate calcium iodate sodium selenite taurine vitamins vitamin e e k supplements choline niacin pantothenic acid riboflavin thiamine pyridoxine folic acid biotinbr guaranteed analysisbr crude minbr crude minbr crude maxbr maxbr maxbr maxbr minbr caloric valuebr fed heres kittys health',\n",
              " 'note amazoncombr pretty please put liver subscribe save beef liver beef available ss liver yet thank muchbr reviewbr cat slowly switching newmans beef products wellness brand cat food great brand still reserved treats occasionally ecstatic totally grainandno fillers organic cat food could feed year old cat prone crystal formation bladder plaque build teeth even though brush outer teeth every eveningbr far tried beef liver liver loves ordered beef today sure hell love toobr product thick concentrated beef liver alone consistency concentrated pate beef liver consistency gelatinous thick beefy oatmeal scoop bowl blend bit hot water product warm fats make gravy prefers eat food bit warm anyhow barely wants nibble wellness brand cat food four years guess means hes one sold cat might unusual cat love beef much cat goes crazy beef especially make steak afford find organic grain beef based line cat food made day one nine lives doubtbr anyway know cat already loves beef beef liver heshe probably peachy keen productbr ingredients list newmans canned beef cat productsbr beefbr organic beef organic beef broth minerals calcium carbonate zinc proteinate iron carbonate copper proteinate manganese iodate calcium iodate sodium selenite taurine vitamins vitamin e e k supplements choline niacin pantothenic acid riboflavin thiamine pyridoxine folic acid biotinbr guaranteed analysisbr crude minbr crude minbr crude maxbr maxbr maxbr maxbr minbr caloric valuebr fed liverbr organic beef liver organic liver broth minerals calcium carbonate zinc proteinate iron carbonate copper proteinate manganese iodate calcium iodate sodium selenite taurine vitamins vitamin e e k supplements choline niacin pantothenic acid riboflavin thiamine pyridoxine folic acid biotinbr guaranteed analysisbr crude minbr crude minbr crude maxbr maxbr maxbr maxbr minbr caloric valuebr fed beef liverbr organic beef organic beef liver organic beef broth minerals calcium carbonate zinc proteinate iron carbonate copper proteinate manganese iodate calcium iodate sodium selenite taurine vitamins vitamin e e k supplements choline niacin pantothenic acid riboflavin thiamine pyridoxine folic acid biotinbr guaranteed analysisbr crude minbr crude minbr crude maxbr maxbr maxbr maxbr minbr caloric valuebr fed heres kittys health',\n",
              " 'note amazoncombr pretty please put liver subscribe save beef liver beef available ss liver yet thank muchbr reviewbr cat slowly switching newmans beef products wellness brand cat food great brand still reserved treats occasionally ecstatic totally grainandno fillers organic cat food could feed year old cat prone crystal formation bladder plaque build teeth even though brush outer teeth every eveningbr far tried beef liver liver loves ordered beef today sure hell love toobr product thick concentrated beef liver alone consistency concentrated pate beef liver consistency gelatinous thick beefy oatmeal scoop bowl blend bit hot water product warm fats make gravy prefers eat food bit warm anyhow barely wants nibble wellness brand cat food four years guess means hes one sold cat might unusual cat love beef much cat goes crazy beef especially make steak afford find organic grain beef based line cat food made day one nine lives doubtbr anyway know cat already loves beef beef liver heshe probably peachy keen productbr ingredients list newmans canned beef cat productsbr beefbr organic beef organic beef broth minerals calcium carbonate zinc proteinate iron carbonate copper proteinate manganese iodate calcium iodate sodium selenite taurine vitamins vitamin e e k supplements choline niacin pantothenic acid riboflavin thiamine pyridoxine folic acid biotinbr guaranteed analysisbr crude minbr crude minbr crude maxbr maxbr maxbr maxbr minbr caloric valuebr fed liverbr organic beef liver organic liver broth minerals calcium carbonate zinc proteinate iron carbonate copper proteinate manganese iodate calcium iodate sodium selenite taurine vitamins vitamin e e k supplements choline niacin pantothenic acid riboflavin thiamine pyridoxine folic acid biotinbr guaranteed analysisbr crude minbr crude minbr crude maxbr maxbr maxbr maxbr minbr caloric valuebr fed beef liverbr organic beef organic beef liver organic beef broth minerals calcium carbonate zinc proteinate iron carbonate copper proteinate manganese iodate calcium iodate sodium selenite taurine vitamins vitamin e e k supplements choline niacin pantothenic acid riboflavin thiamine pyridoxine folic acid biotinbr guaranteed analysisbr crude minbr crude minbr crude maxbr maxbr maxbr maxbr minbr caloric valuebr fed heres kittys health',\n",
              " 'note amazoncombr pretty please put liver subscribe save beef liver beef available ss liver yet thank muchbr reviewbr cat slowly switching newmans beef products wellness brand cat food great brand still reserved treats occasionally ecstatic totally grainandno fillers organic cat food could feed year old cat prone crystal formation bladder plaque build teeth even though brush outer teeth every eveningbr far tried beef liver liver loves ordered beef today sure hell love toobr product thick concentrated beef liver alone consistency concentrated pate beef liver consistency gelatinous thick beefy oatmeal scoop bowl blend bit hot water product warm fats make gravy prefers eat food bit warm anyhow barely wants nibble wellness brand cat food four years guess means hes one sold cat might unusual cat love beef much cat goes crazy beef especially make steak afford find organic grain beef based line cat food made day one nine lives doubtbr anyway know cat already loves beef beef liver heshe probably peachy keen productbr ingredients list newmans canned beef cat productsbr beefbr organic beef organic beef broth minerals calcium carbonate zinc proteinate iron carbonate copper proteinate manganese iodate calcium iodate sodium selenite taurine vitamins vitamin e e k supplements choline niacin pantothenic acid riboflavin thiamine pyridoxine folic acid biotinbr guaranteed analysisbr crude minbr crude minbr crude maxbr maxbr maxbr maxbr minbr caloric valuebr fed liverbr organic beef liver organic liver broth minerals calcium carbonate zinc proteinate iron carbonate copper proteinate manganese iodate calcium iodate sodium selenite taurine vitamins vitamin e e k supplements choline niacin pantothenic acid riboflavin thiamine pyridoxine folic acid biotinbr guaranteed analysisbr crude minbr crude minbr crude maxbr maxbr maxbr maxbr minbr caloric valuebr fed beef liverbr organic beef organic beef liver organic beef broth minerals calcium carbonate zinc proteinate iron carbonate copper proteinate manganese iodate calcium iodate sodium selenite taurine vitamins vitamin e e k supplements choline niacin pantothenic acid riboflavin thiamine pyridoxine folic acid biotinbr guaranteed analysisbr crude minbr crude minbr crude maxbr maxbr maxbr maxbr minbr caloric valuebr fed heres kittys health',\n",
              " 'note amazoncombr pretty please put liver subscribe save beef liver beef available ss liver yet thank muchbr reviewbr cat slowly switching newmans beef products wellness brand cat food great brand still reserved treats occasionally ecstatic totally grainandno fillers organic cat food could feed year old cat prone crystal formation bladder plaque build teeth even though brush outer teeth every eveningbr far tried beef liver liver loves ordered beef today sure hell love toobr product thick concentrated beef liver alone consistency concentrated pate beef liver consistency gelatinous thick beefy oatmeal scoop bowl blend bit hot water product warm fats make gravy prefers eat food bit warm anyhow barely wants nibble wellness brand cat food four years guess means hes one sold cat might unusual cat love beef much cat goes crazy beef especially make steak afford find organic grain beef based line cat food made day one nine lives doubtbr anyway know cat already loves beef beef liver heshe probably peachy keen productbr ingredients list newmans canned beef cat productsbr beefbr organic beef organic beef broth minerals calcium carbonate zinc proteinate iron carbonate copper proteinate manganese iodate calcium iodate sodium selenite taurine vitamins vitamin e e k supplements choline niacin pantothenic acid riboflavin thiamine pyridoxine folic acid biotinbr guaranteed analysisbr crude minbr crude minbr crude maxbr maxbr maxbr maxbr minbr caloric valuebr fed liverbr organic beef liver organic liver broth minerals calcium carbonate zinc proteinate iron carbonate copper proteinate manganese iodate calcium iodate sodium selenite taurine vitamins vitamin e e k supplements choline niacin pantothenic acid riboflavin thiamine pyridoxine folic acid biotinbr guaranteed analysisbr crude minbr crude minbr crude maxbr maxbr maxbr maxbr minbr caloric valuebr fed beef liverbr organic beef organic beef liver organic beef broth minerals calcium carbonate zinc proteinate iron carbonate copper proteinate manganese iodate calcium iodate sodium selenite taurine vitamins vitamin e e k supplements choline niacin pantothenic acid riboflavin thiamine pyridoxine folic acid biotinbr guaranteed analysisbr crude minbr crude minbr crude maxbr maxbr maxbr maxbr minbr caloric valuebr fed heres kittys health',\n",
              " 'note amazoncombr pretty please put liver subscribe save beef liver beef available ss liver yet thank muchbr reviewbr cat slowly switching newmans beef products wellness brand cat food great brand still reserved treats occasionally ecstatic totally grainandno fillers organic cat food could feed year old cat prone crystal formation bladder plaque build teeth even though brush outer teeth every eveningbr far tried beef liver liver loves ordered beef today sure hell love toobr product thick concentrated beef liver alone consistency concentrated pate beef liver consistency gelatinous thick beefy oatmeal scoop bowl blend bit hot water product warm fats make gravy prefers eat food bit warm anyhow barely wants nibble wellness brand cat food four years guess means hes one sold cat might unusual cat love beef much cat goes crazy beef especially make steak afford find organic grain beef based line cat food made day one nine lives doubtbr anyway know cat already loves beef beef liver heshe probably peachy keen productbr ingredients list newmans canned beef cat productsbr beefbr organic beef organic beef broth minerals calcium carbonate zinc proteinate iron carbonate copper proteinate manganese iodate calcium iodate sodium selenite taurine vitamins vitamin e e k supplements choline niacin pantothenic acid riboflavin thiamine pyridoxine folic acid biotinbr guaranteed analysisbr crude minbr crude minbr crude maxbr maxbr maxbr maxbr minbr caloric valuebr fed liverbr organic beef liver organic liver broth minerals calcium carbonate zinc proteinate iron carbonate copper proteinate manganese iodate calcium iodate sodium selenite taurine vitamins vitamin e e k supplements choline niacin pantothenic acid riboflavin thiamine pyridoxine folic acid biotinbr guaranteed analysisbr crude minbr crude minbr crude maxbr maxbr maxbr maxbr minbr caloric valuebr fed beef liverbr organic beef organic beef liver organic beef broth minerals calcium carbonate zinc proteinate iron carbonate copper proteinate manganese iodate calcium iodate sodium selenite taurine vitamins vitamin e e k supplements choline niacin pantothenic acid riboflavin thiamine pyridoxine folic acid biotinbr guaranteed analysisbr crude minbr crude minbr crude maxbr maxbr maxbr maxbr minbr caloric valuebr fed heres kittys health']"
            ]
          },
          "metadata": {
            "tags": []
          },
          "execution_count": 61
        }
      ]
    },
    {
      "cell_type": "code",
      "metadata": {
        "id": "7LjnxDCtxuQB",
        "colab_type": "code",
        "colab": {
          "base_uri": "https://localhost:8080/",
          "height": 988
        },
        "outputId": "9cc0b834-9130-419a-ae35-47d8a2997da7"
      },
      "source": [
        "freq = pd.Series(' '.join(df['Text']).split()).value_counts()[:50]\n",
        "freq"
      ],
      "execution_count": null,
      "outputs": [
        {
          "output_type": "execute_result",
          "data": {
            "text/plain": [
              "like         251864\n",
              "good         195348\n",
              "one          172306\n",
              "taste        166572\n",
              "great        163560\n",
              "coffee       160180\n",
              "product      146439\n",
              "flavor       142442\n",
              "tea          133094\n",
              "love         126635\n",
              "food         123770\n",
              "would        123356\n",
              "get          108169\n",
              "really       100414\n",
              "dont          95555\n",
              "much          91906\n",
              "little        83197\n",
              "use           82743\n",
              "time          80813\n",
              "amazon        78312\n",
              "buy           76200\n",
              "tried         75818\n",
              "best          75371\n",
              "even          74168\n",
              "price         73469\n",
              "find          73082\n",
              "make          71412\n",
              "well          70149\n",
              "better        68827\n",
              "try           67800\n",
              "eat           66611\n",
              "dog           66050\n",
              "first         61370\n",
              "water         58802\n",
              "chocolate     58678\n",
              "bag           55284\n",
              "used          53932\n",
              "found         53774\n",
              "sugar         51845\n",
              "cup           50632\n",
              "drink         49927\n",
              "sweet         49808\n",
              "made          49755\n",
              "bought        49699\n",
              "think         48846\n",
              "box           48504\n",
              "way           48236\n",
              "two           48178\n",
              "since         46079\n",
              "day           45310\n",
              "dtype: int64"
            ]
          },
          "metadata": {
            "tags": []
          },
          "execution_count": 53
        }
      ]
    },
    {
      "cell_type": "markdown",
      "metadata": {
        "id": "1IsIT-gjJHC-",
        "colab_type": "text"
      },
      "source": [
        "**Now, let's save this clened processed data as CSV file** "
      ]
    },
    {
      "cell_type": "code",
      "metadata": {
        "id": "W33GaarNHljs",
        "colab_type": "code",
        "colab": {}
      },
      "source": [
        "df.to_csv('Amazon_reviews_processed.csv', index=False)"
      ],
      "execution_count": null,
      "outputs": []
    }
  ]
}