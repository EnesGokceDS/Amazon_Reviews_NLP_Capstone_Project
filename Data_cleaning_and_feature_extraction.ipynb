{
  "nbformat": 4,
  "nbformat_minor": 0,
  "metadata": {
    "colab": {
      "name": "Data_cleaning_and_feature_extraction.ipynb",
      "provenance": [],
      "authorship_tag": "ABX9TyP+bF3Uqu9cXAXn33qyvsMD",
      "include_colab_link": true
    },
    "kernelspec": {
      "name": "python3",
      "display_name": "Python 3"
    }
  },
  "cells": [
    {
      "cell_type": "markdown",
      "metadata": {
        "id": "view-in-github",
        "colab_type": "text"
      },
      "source": [
        "<a href=\"https://colab.research.google.com/github/EnesGokceDS/Amazon_Reviews_NLP_Capstone_Project/blob/master/Data_cleaning_and_feature_extraction.ipynb\" target=\"_parent\"><img src=\"https://colab.research.google.com/assets/colab-badge.svg\" alt=\"Open In Colab\"/></a>"
      ]
    },
    {
      "cell_type": "code",
      "metadata": {
        "id": "FgkpYR4g6Bvg",
        "colab_type": "code",
        "outputId": "15a42b09-1ca9-4fc4-f261-c93bf35a36ca",
        "colab": {
          "base_uri": "https://localhost:8080/",
          "height": 144
        }
      },
      "source": [
        "import subprocess as sp\n",
        "import sys,os,shutil,pickle,time\n",
        "from os.path import join\n",
        "# mount Google Drive\n",
        "from os.path import expanduser\n",
        "gd_path=join(expanduser(\"~\"),'gd')\n",
        "if not os.path.isdir(gd_path):\n",
        "    try:\n",
        "        # load Google Drive\n",
        "        from google.colab import drive,files\n",
        "        drive.mount('/drive')\n",
        "        sp.call('ln -s /drive/My\\ Drive '+gd_path, shell=True)\n",
        "    except:\n",
        "        print('unable to find Google Drive Folder')\n",
        "os.chdir(gd_path+'/MachineLearning/NLP_capstone_data')\n",
        "os.listdir('.')"
      ],
      "execution_count": 1,
      "outputs": [
        {
          "output_type": "stream",
          "text": [
            "Go to this URL in a browser: https://accounts.google.com/o/oauth2/auth?client_id=947318989803-6bn6qk8qdgf4n4g3pfee6491hc0brc4i.apps.googleusercontent.com&redirect_uri=urn%3aietf%3awg%3aoauth%3a2.0%3aoob&response_type=code&scope=email%20https%3a%2f%2fwww.googleapis.com%2fauth%2fdocs.test%20https%3a%2f%2fwww.googleapis.com%2fauth%2fdrive%20https%3a%2f%2fwww.googleapis.com%2fauth%2fdrive.photos.readonly%20https%3a%2f%2fwww.googleapis.com%2fauth%2fpeopleapi.readonly\n",
            "\n",
            "Enter your authorization code:\n",
            "··········\n",
            "Mounted at /drive\n"
          ],
          "name": "stdout"
        },
        {
          "output_type": "execute_result",
          "data": {
            "text/plain": [
              "['Reviews.csv']"
            ]
          },
          "metadata": {
            "tags": []
          },
          "execution_count": 1
        }
      ]
    },
    {
      "cell_type": "code",
      "metadata": {
        "id": "N3atGC5iSK7L",
        "colab_type": "code",
        "colab": {}
      },
      "source": [
        "import pandas as pd\n",
        "import numpy as np"
      ],
      "execution_count": 0,
      "outputs": []
    },
    {
      "cell_type": "code",
      "metadata": {
        "id": "iuSRbmjVSLeF",
        "colab_type": "code",
        "outputId": "0f54e81e-e2dc-4051-840d-8fefa41f41a2",
        "colab": {
          "base_uri": "https://localhost:8080/",
          "height": 206
        }
      },
      "source": [
        "df = pd.read_csv('Reviews.csv')\n",
        "df.head(5)"
      ],
      "execution_count": 3,
      "outputs": [
        {
          "output_type": "execute_result",
          "data": {
            "text/html": [
              "<div>\n",
              "<style scoped>\n",
              "    .dataframe tbody tr th:only-of-type {\n",
              "        vertical-align: middle;\n",
              "    }\n",
              "\n",
              "    .dataframe tbody tr th {\n",
              "        vertical-align: top;\n",
              "    }\n",
              "\n",
              "    .dataframe thead th {\n",
              "        text-align: right;\n",
              "    }\n",
              "</style>\n",
              "<table border=\"1\" class=\"dataframe\">\n",
              "  <thead>\n",
              "    <tr style=\"text-align: right;\">\n",
              "      <th></th>\n",
              "      <th>Id</th>\n",
              "      <th>ProductId</th>\n",
              "      <th>UserId</th>\n",
              "      <th>ProfileName</th>\n",
              "      <th>HelpfulnessNumerator</th>\n",
              "      <th>HelpfulnessDenominator</th>\n",
              "      <th>Score</th>\n",
              "      <th>Time</th>\n",
              "      <th>Summary</th>\n",
              "      <th>Text</th>\n",
              "    </tr>\n",
              "  </thead>\n",
              "  <tbody>\n",
              "    <tr>\n",
              "      <th>0</th>\n",
              "      <td>1</td>\n",
              "      <td>B001E4KFG0</td>\n",
              "      <td>A3SGXH7AUHU8GW</td>\n",
              "      <td>delmartian</td>\n",
              "      <td>1</td>\n",
              "      <td>1</td>\n",
              "      <td>5</td>\n",
              "      <td>1303862400</td>\n",
              "      <td>Good Quality Dog Food</td>\n",
              "      <td>I have bought several of the Vitality canned d...</td>\n",
              "    </tr>\n",
              "    <tr>\n",
              "      <th>1</th>\n",
              "      <td>2</td>\n",
              "      <td>B00813GRG4</td>\n",
              "      <td>A1D87F6ZCVE5NK</td>\n",
              "      <td>dll pa</td>\n",
              "      <td>0</td>\n",
              "      <td>0</td>\n",
              "      <td>1</td>\n",
              "      <td>1346976000</td>\n",
              "      <td>Not as Advertised</td>\n",
              "      <td>Product arrived labeled as Jumbo Salted Peanut...</td>\n",
              "    </tr>\n",
              "    <tr>\n",
              "      <th>2</th>\n",
              "      <td>3</td>\n",
              "      <td>B000LQOCH0</td>\n",
              "      <td>ABXLMWJIXXAIN</td>\n",
              "      <td>Natalia Corres \"Natalia Corres\"</td>\n",
              "      <td>1</td>\n",
              "      <td>1</td>\n",
              "      <td>4</td>\n",
              "      <td>1219017600</td>\n",
              "      <td>\"Delight\" says it all</td>\n",
              "      <td>This is a confection that has been around a fe...</td>\n",
              "    </tr>\n",
              "    <tr>\n",
              "      <th>3</th>\n",
              "      <td>4</td>\n",
              "      <td>B000UA0QIQ</td>\n",
              "      <td>A395BORC6FGVXV</td>\n",
              "      <td>Karl</td>\n",
              "      <td>3</td>\n",
              "      <td>3</td>\n",
              "      <td>2</td>\n",
              "      <td>1307923200</td>\n",
              "      <td>Cough Medicine</td>\n",
              "      <td>If you are looking for the secret ingredient i...</td>\n",
              "    </tr>\n",
              "    <tr>\n",
              "      <th>4</th>\n",
              "      <td>5</td>\n",
              "      <td>B006K2ZZ7K</td>\n",
              "      <td>A1UQRSCLF8GW1T</td>\n",
              "      <td>Michael D. Bigham \"M. Wassir\"</td>\n",
              "      <td>0</td>\n",
              "      <td>0</td>\n",
              "      <td>5</td>\n",
              "      <td>1350777600</td>\n",
              "      <td>Great taffy</td>\n",
              "      <td>Great taffy at a great price.  There was a wid...</td>\n",
              "    </tr>\n",
              "  </tbody>\n",
              "</table>\n",
              "</div>"
            ],
            "text/plain": [
              "   Id  ...                                               Text\n",
              "0   1  ...  I have bought several of the Vitality canned d...\n",
              "1   2  ...  Product arrived labeled as Jumbo Salted Peanut...\n",
              "2   3  ...  This is a confection that has been around a fe...\n",
              "3   4  ...  If you are looking for the secret ingredient i...\n",
              "4   5  ...  Great taffy at a great price.  There was a wid...\n",
              "\n",
              "[5 rows x 10 columns]"
            ]
          },
          "metadata": {
            "tags": []
          },
          "execution_count": 3
        }
      ]
    },
    {
      "cell_type": "code",
      "metadata": {
        "id": "2GYBRwiySVwX",
        "colab_type": "code",
        "outputId": "f2681ca7-36d5-4372-9238-2858916f1842",
        "colab": {
          "base_uri": "https://localhost:8080/",
          "height": 321
        }
      },
      "source": [
        "df.info()"
      ],
      "execution_count": 4,
      "outputs": [
        {
          "output_type": "stream",
          "text": [
            "<class 'pandas.core.frame.DataFrame'>\n",
            "RangeIndex: 568454 entries, 0 to 568453\n",
            "Data columns (total 10 columns):\n",
            " #   Column                  Non-Null Count   Dtype \n",
            "---  ------                  --------------   ----- \n",
            " 0   Id                      568454 non-null  int64 \n",
            " 1   ProductId               568454 non-null  object\n",
            " 2   UserId                  568454 non-null  object\n",
            " 3   ProfileName             568438 non-null  object\n",
            " 4   HelpfulnessNumerator    568454 non-null  int64 \n",
            " 5   HelpfulnessDenominator  568454 non-null  int64 \n",
            " 6   Score                   568454 non-null  int64 \n",
            " 7   Time                    568454 non-null  int64 \n",
            " 8   Summary                 568427 non-null  object\n",
            " 9   Text                    568454 non-null  object\n",
            "dtypes: int64(5), object(5)\n",
            "memory usage: 43.4+ MB\n"
          ],
          "name": "stdout"
        }
      ]
    },
    {
      "cell_type": "code",
      "metadata": {
        "id": "CWybHT2yS0qk",
        "colab_type": "code",
        "outputId": "552c54ff-a597-4651-9f46-46ed002f8da1",
        "colab": {
          "base_uri": "https://localhost:8080/",
          "height": 300
        }
      },
      "source": [
        "df.describe().round(1)"
      ],
      "execution_count": 5,
      "outputs": [
        {
          "output_type": "execute_result",
          "data": {
            "text/html": [
              "<div>\n",
              "<style scoped>\n",
              "    .dataframe tbody tr th:only-of-type {\n",
              "        vertical-align: middle;\n",
              "    }\n",
              "\n",
              "    .dataframe tbody tr th {\n",
              "        vertical-align: top;\n",
              "    }\n",
              "\n",
              "    .dataframe thead th {\n",
              "        text-align: right;\n",
              "    }\n",
              "</style>\n",
              "<table border=\"1\" class=\"dataframe\">\n",
              "  <thead>\n",
              "    <tr style=\"text-align: right;\">\n",
              "      <th></th>\n",
              "      <th>Id</th>\n",
              "      <th>HelpfulnessNumerator</th>\n",
              "      <th>HelpfulnessDenominator</th>\n",
              "      <th>Score</th>\n",
              "      <th>Time</th>\n",
              "    </tr>\n",
              "  </thead>\n",
              "  <tbody>\n",
              "    <tr>\n",
              "      <th>count</th>\n",
              "      <td>568454.0</td>\n",
              "      <td>568454.0</td>\n",
              "      <td>568454.0</td>\n",
              "      <td>568454.0</td>\n",
              "      <td>5.684540e+05</td>\n",
              "    </tr>\n",
              "    <tr>\n",
              "      <th>mean</th>\n",
              "      <td>284227.5</td>\n",
              "      <td>1.7</td>\n",
              "      <td>2.2</td>\n",
              "      <td>4.2</td>\n",
              "      <td>1.296257e+09</td>\n",
              "    </tr>\n",
              "    <tr>\n",
              "      <th>std</th>\n",
              "      <td>164098.7</td>\n",
              "      <td>7.6</td>\n",
              "      <td>8.3</td>\n",
              "      <td>1.3</td>\n",
              "      <td>4.804331e+07</td>\n",
              "    </tr>\n",
              "    <tr>\n",
              "      <th>min</th>\n",
              "      <td>1.0</td>\n",
              "      <td>0.0</td>\n",
              "      <td>0.0</td>\n",
              "      <td>1.0</td>\n",
              "      <td>9.393408e+08</td>\n",
              "    </tr>\n",
              "    <tr>\n",
              "      <th>25%</th>\n",
              "      <td>142114.2</td>\n",
              "      <td>0.0</td>\n",
              "      <td>0.0</td>\n",
              "      <td>4.0</td>\n",
              "      <td>1.271290e+09</td>\n",
              "    </tr>\n",
              "    <tr>\n",
              "      <th>50%</th>\n",
              "      <td>284227.5</td>\n",
              "      <td>0.0</td>\n",
              "      <td>1.0</td>\n",
              "      <td>5.0</td>\n",
              "      <td>1.311120e+09</td>\n",
              "    </tr>\n",
              "    <tr>\n",
              "      <th>75%</th>\n",
              "      <td>426340.8</td>\n",
              "      <td>2.0</td>\n",
              "      <td>2.0</td>\n",
              "      <td>5.0</td>\n",
              "      <td>1.332720e+09</td>\n",
              "    </tr>\n",
              "    <tr>\n",
              "      <th>max</th>\n",
              "      <td>568454.0</td>\n",
              "      <td>866.0</td>\n",
              "      <td>923.0</td>\n",
              "      <td>5.0</td>\n",
              "      <td>1.351210e+09</td>\n",
              "    </tr>\n",
              "  </tbody>\n",
              "</table>\n",
              "</div>"
            ],
            "text/plain": [
              "             Id  HelpfulnessNumerator  ...     Score          Time\n",
              "count  568454.0              568454.0  ...  568454.0  5.684540e+05\n",
              "mean   284227.5                   1.7  ...       4.2  1.296257e+09\n",
              "std    164098.7                   7.6  ...       1.3  4.804331e+07\n",
              "min         1.0                   0.0  ...       1.0  9.393408e+08\n",
              "25%    142114.2                   0.0  ...       4.0  1.271290e+09\n",
              "50%    284227.5                   0.0  ...       5.0  1.311120e+09\n",
              "75%    426340.8                   2.0  ...       5.0  1.332720e+09\n",
              "max    568454.0                 866.0  ...       5.0  1.351210e+09\n",
              "\n",
              "[8 rows x 5 columns]"
            ]
          },
          "metadata": {
            "tags": []
          },
          "execution_count": 5
        }
      ]
    },
    {
      "cell_type": "code",
      "metadata": {
        "id": "VYpgB2tPS9uR",
        "colab_type": "code",
        "outputId": "0baadc36-7093-4b51-f3f0-4d180cdfbe0b",
        "colab": {
          "base_uri": "https://localhost:8080/",
          "height": 363
        }
      },
      "source": [
        "# Determine how many missing values exist in the collection, in which case you can use .sum() chained onto is.na()\n",
        "null_values=df.isna().sum()\n",
        "null_values=pd.DataFrame(null_values,columns=['null'])\n",
        "sum_tot=len(df)\n",
        "null_values['percent']=null_values['null']/sum_tot*100\n",
        "round(null_values,3).sort_values('percent',ascending=False)"
      ],
      "execution_count": 6,
      "outputs": [
        {
          "output_type": "execute_result",
          "data": {
            "text/html": [
              "<div>\n",
              "<style scoped>\n",
              "    .dataframe tbody tr th:only-of-type {\n",
              "        vertical-align: middle;\n",
              "    }\n",
              "\n",
              "    .dataframe tbody tr th {\n",
              "        vertical-align: top;\n",
              "    }\n",
              "\n",
              "    .dataframe thead th {\n",
              "        text-align: right;\n",
              "    }\n",
              "</style>\n",
              "<table border=\"1\" class=\"dataframe\">\n",
              "  <thead>\n",
              "    <tr style=\"text-align: right;\">\n",
              "      <th></th>\n",
              "      <th>null</th>\n",
              "      <th>percent</th>\n",
              "    </tr>\n",
              "  </thead>\n",
              "  <tbody>\n",
              "    <tr>\n",
              "      <th>Summary</th>\n",
              "      <td>27</td>\n",
              "      <td>0.005</td>\n",
              "    </tr>\n",
              "    <tr>\n",
              "      <th>ProfileName</th>\n",
              "      <td>16</td>\n",
              "      <td>0.003</td>\n",
              "    </tr>\n",
              "    <tr>\n",
              "      <th>Id</th>\n",
              "      <td>0</td>\n",
              "      <td>0.000</td>\n",
              "    </tr>\n",
              "    <tr>\n",
              "      <th>ProductId</th>\n",
              "      <td>0</td>\n",
              "      <td>0.000</td>\n",
              "    </tr>\n",
              "    <tr>\n",
              "      <th>UserId</th>\n",
              "      <td>0</td>\n",
              "      <td>0.000</td>\n",
              "    </tr>\n",
              "    <tr>\n",
              "      <th>HelpfulnessNumerator</th>\n",
              "      <td>0</td>\n",
              "      <td>0.000</td>\n",
              "    </tr>\n",
              "    <tr>\n",
              "      <th>HelpfulnessDenominator</th>\n",
              "      <td>0</td>\n",
              "      <td>0.000</td>\n",
              "    </tr>\n",
              "    <tr>\n",
              "      <th>Score</th>\n",
              "      <td>0</td>\n",
              "      <td>0.000</td>\n",
              "    </tr>\n",
              "    <tr>\n",
              "      <th>Time</th>\n",
              "      <td>0</td>\n",
              "      <td>0.000</td>\n",
              "    </tr>\n",
              "    <tr>\n",
              "      <th>Text</th>\n",
              "      <td>0</td>\n",
              "      <td>0.000</td>\n",
              "    </tr>\n",
              "  </tbody>\n",
              "</table>\n",
              "</div>"
            ],
            "text/plain": [
              "                        null  percent\n",
              "Summary                   27    0.005\n",
              "ProfileName               16    0.003\n",
              "Id                         0    0.000\n",
              "ProductId                  0    0.000\n",
              "UserId                     0    0.000\n",
              "HelpfulnessNumerator       0    0.000\n",
              "HelpfulnessDenominator     0    0.000\n",
              "Score                      0    0.000\n",
              "Time                       0    0.000\n",
              "Text                       0    0.000"
            ]
          },
          "metadata": {
            "tags": []
          },
          "execution_count": 6
        }
      ]
    },
    {
      "cell_type": "markdown",
      "metadata": {
        "colab_type": "text",
        "id": "f9Pj6bFjZk_K"
      },
      "source": [
        "We have small number of missing values. We can drop them completely."
      ]
    },
    {
      "cell_type": "code",
      "metadata": {
        "id": "wSlkx8rBY4q1",
        "colab_type": "code",
        "outputId": "350d5a69-fced-47a4-a163-15873c3f8437",
        "colab": {
          "base_uri": "https://localhost:8080/",
          "height": 35
        }
      },
      "source": [
        "df= df.dropna()\n",
        "df.shape"
      ],
      "execution_count": 7,
      "outputs": [
        {
          "output_type": "execute_result",
          "data": {
            "text/plain": [
              "(568411, 10)"
            ]
          },
          "metadata": {
            "tags": []
          },
          "execution_count": 7
        }
      ]
    },
    {
      "cell_type": "markdown",
      "metadata": {
        "id": "uMQnlxMoZrCC",
        "colab_type": "text"
      },
      "source": [
        "# Basic Feature Extraction - 1"
      ]
    },
    {
      "cell_type": "markdown",
      "metadata": {
        "id": "3qzq7Z2XZt4v",
        "colab_type": "text"
      },
      "source": [
        "Normally, I tried to make data cleaning first. Then, I realized that while making data cleaning, I am losing some of characters that can help data cleaning. Therefore, there will be two part of feature extraction. Here, I will extract features that can't be exracted after data cleaning."
      ]
    },
    {
      "cell_type": "markdown",
      "metadata": {
        "id": "AyuO7pdDZznX",
        "colab_type": "text"
      },
      "source": [
        "### 1) Number of stopwords"
      ]
    },
    {
      "cell_type": "code",
      "metadata": {
        "id": "FXCED1U_ZzCD",
        "colab_type": "code",
        "outputId": "274288e9-f97e-438d-b3ff-d2b69c2a8ab8",
        "colab": {
          "base_uri": "https://localhost:8080/",
          "height": 178
        }
      },
      "source": [
        "!pip install -q wordcloud\n",
        "import wordcloud\n",
        "from nltk.corpus import stopwords\n",
        "import nltk\n",
        "import string\n",
        "nltk.download('stopwords')\n",
        "nltk.download('wordnet')\n",
        "nltk.download('punkt')\n",
        "nltk.download('averaged_perceptron_tagger')\n",
        "stop = stopwords.words('english')"
      ],
      "execution_count": 8,
      "outputs": [
        {
          "output_type": "stream",
          "text": [
            "[nltk_data] Downloading package stopwords to /root/nltk_data...\n",
            "[nltk_data]   Unzipping corpora/stopwords.zip.\n",
            "[nltk_data] Downloading package wordnet to /root/nltk_data...\n",
            "[nltk_data]   Unzipping corpora/wordnet.zip.\n",
            "[nltk_data] Downloading package punkt to /root/nltk_data...\n",
            "[nltk_data]   Unzipping tokenizers/punkt.zip.\n",
            "[nltk_data] Downloading package averaged_perceptron_tagger to\n",
            "[nltk_data]     /root/nltk_data...\n",
            "[nltk_data]   Unzipping taggers/averaged_perceptron_tagger.zip.\n"
          ],
          "name": "stdout"
        }
      ]
    },
    {
      "cell_type": "code",
      "metadata": {
        "id": "I-aTbPcnSUfP",
        "colab_type": "code",
        "outputId": "f74ffe3d-a15b-4826-cd33-55d1ced588f6",
        "colab": {
          "base_uri": "https://localhost:8080/",
          "height": 206
        }
      },
      "source": [
        "df['stopwords'] = df['Text'].apply(lambda x: len([x for x in x.split() if x in stop]))\n",
        "df[['Text','stopwords']].head()"
      ],
      "execution_count": 9,
      "outputs": [
        {
          "output_type": "execute_result",
          "data": {
            "text/html": [
              "<div>\n",
              "<style scoped>\n",
              "    .dataframe tbody tr th:only-of-type {\n",
              "        vertical-align: middle;\n",
              "    }\n",
              "\n",
              "    .dataframe tbody tr th {\n",
              "        vertical-align: top;\n",
              "    }\n",
              "\n",
              "    .dataframe thead th {\n",
              "        text-align: right;\n",
              "    }\n",
              "</style>\n",
              "<table border=\"1\" class=\"dataframe\">\n",
              "  <thead>\n",
              "    <tr style=\"text-align: right;\">\n",
              "      <th></th>\n",
              "      <th>Text</th>\n",
              "      <th>stopwords</th>\n",
              "    </tr>\n",
              "  </thead>\n",
              "  <tbody>\n",
              "    <tr>\n",
              "      <th>0</th>\n",
              "      <td>I have bought several of the Vitality canned d...</td>\n",
              "      <td>21</td>\n",
              "    </tr>\n",
              "    <tr>\n",
              "      <th>1</th>\n",
              "      <td>Product arrived labeled as Jumbo Salted Peanut...</td>\n",
              "      <td>12</td>\n",
              "    </tr>\n",
              "    <tr>\n",
              "      <th>2</th>\n",
              "      <td>This is a confection that has been around a fe...</td>\n",
              "      <td>42</td>\n",
              "    </tr>\n",
              "    <tr>\n",
              "      <th>3</th>\n",
              "      <td>If you are looking for the secret ingredient i...</td>\n",
              "      <td>15</td>\n",
              "    </tr>\n",
              "    <tr>\n",
              "      <th>4</th>\n",
              "      <td>Great taffy at a great price.  There was a wid...</td>\n",
              "      <td>12</td>\n",
              "    </tr>\n",
              "  </tbody>\n",
              "</table>\n",
              "</div>"
            ],
            "text/plain": [
              "                                                Text  stopwords\n",
              "0  I have bought several of the Vitality canned d...         21\n",
              "1  Product arrived labeled as Jumbo Salted Peanut...         12\n",
              "2  This is a confection that has been around a fe...         42\n",
              "3  If you are looking for the secret ingredient i...         15\n",
              "4  Great taffy at a great price.  There was a wid...         12"
            ]
          },
          "metadata": {
            "tags": []
          },
          "execution_count": 9
        }
      ]
    },
    {
      "cell_type": "code",
      "metadata": {
        "id": "lRtk9lil9VCx",
        "colab_type": "code",
        "colab": {}
      },
      "source": [
        "def count_punct(text):\n",
        "    count = sum([1 for char in text if char in string.punctuation])\n",
        "    return count\n",
        "\n",
        "df['punctuation'] = df['Text'].apply(lambda x: count_punct(x))"
      ],
      "execution_count": 0,
      "outputs": []
    },
    {
      "cell_type": "code",
      "metadata": {
        "id": "Rwdr0fiRa6i1",
        "colab_type": "code",
        "outputId": "95f9dd60-6f24-4037-b6f8-347595300b70",
        "colab": {
          "base_uri": "https://localhost:8080/",
          "height": 206
        }
      },
      "source": [
        "df[['Text','punctuation']].head()"
      ],
      "execution_count": 11,
      "outputs": [
        {
          "output_type": "execute_result",
          "data": {
            "text/html": [
              "<div>\n",
              "<style scoped>\n",
              "    .dataframe tbody tr th:only-of-type {\n",
              "        vertical-align: middle;\n",
              "    }\n",
              "\n",
              "    .dataframe tbody tr th {\n",
              "        vertical-align: top;\n",
              "    }\n",
              "\n",
              "    .dataframe thead th {\n",
              "        text-align: right;\n",
              "    }\n",
              "</style>\n",
              "<table border=\"1\" class=\"dataframe\">\n",
              "  <thead>\n",
              "    <tr style=\"text-align: right;\">\n",
              "      <th></th>\n",
              "      <th>Text</th>\n",
              "      <th>punctuation</th>\n",
              "    </tr>\n",
              "  </thead>\n",
              "  <tbody>\n",
              "    <tr>\n",
              "      <th>0</th>\n",
              "      <td>I have bought several of the Vitality canned d...</td>\n",
              "      <td>3</td>\n",
              "    </tr>\n",
              "    <tr>\n",
              "      <th>1</th>\n",
              "      <td>Product arrived labeled as Jumbo Salted Peanut...</td>\n",
              "      <td>7</td>\n",
              "    </tr>\n",
              "    <tr>\n",
              "      <th>2</th>\n",
              "      <td>This is a confection that has been around a fe...</td>\n",
              "      <td>18</td>\n",
              "    </tr>\n",
              "    <tr>\n",
              "      <th>3</th>\n",
              "      <td>If you are looking for the secret ingredient i...</td>\n",
              "      <td>5</td>\n",
              "    </tr>\n",
              "    <tr>\n",
              "      <th>4</th>\n",
              "      <td>Great taffy at a great price.  There was a wid...</td>\n",
              "      <td>5</td>\n",
              "    </tr>\n",
              "  </tbody>\n",
              "</table>\n",
              "</div>"
            ],
            "text/plain": [
              "                                                Text  punctuation\n",
              "0  I have bought several of the Vitality canned d...            3\n",
              "1  Product arrived labeled as Jumbo Salted Peanut...            7\n",
              "2  This is a confection that has been around a fe...           18\n",
              "3  If you are looking for the secret ingredient i...            5\n",
              "4  Great taffy at a great price.  There was a wid...            5"
            ]
          },
          "metadata": {
            "tags": []
          },
          "execution_count": 11
        }
      ]
    },
    {
      "cell_type": "markdown",
      "metadata": {
        "id": "se2IozmTaOQf",
        "colab_type": "text"
      },
      "source": [
        "### 2) Number of hastag characters\n",
        "\n",
        "One more interesting feature which we can extract from a review is calculating the number of hashtags or mentions present in it. This also helps in extracting extra information from our text data."
      ]
    },
    {
      "cell_type": "code",
      "metadata": {
        "id": "heKqiw6c9VG0",
        "colab_type": "code",
        "outputId": "31930792-be35-4055-8686-477b21d8efe0",
        "colab": {
          "base_uri": "https://localhost:8080/",
          "height": 206
        }
      },
      "source": [
        "df['hastags'] = df['Text'].apply(lambda x: len([x for x in x.split() if x.startswith('#')]))\n",
        "df[['Text','hastags']].head()"
      ],
      "execution_count": 12,
      "outputs": [
        {
          "output_type": "execute_result",
          "data": {
            "text/html": [
              "<div>\n",
              "<style scoped>\n",
              "    .dataframe tbody tr th:only-of-type {\n",
              "        vertical-align: middle;\n",
              "    }\n",
              "\n",
              "    .dataframe tbody tr th {\n",
              "        vertical-align: top;\n",
              "    }\n",
              "\n",
              "    .dataframe thead th {\n",
              "        text-align: right;\n",
              "    }\n",
              "</style>\n",
              "<table border=\"1\" class=\"dataframe\">\n",
              "  <thead>\n",
              "    <tr style=\"text-align: right;\">\n",
              "      <th></th>\n",
              "      <th>Text</th>\n",
              "      <th>hastags</th>\n",
              "    </tr>\n",
              "  </thead>\n",
              "  <tbody>\n",
              "    <tr>\n",
              "      <th>0</th>\n",
              "      <td>I have bought several of the Vitality canned d...</td>\n",
              "      <td>0</td>\n",
              "    </tr>\n",
              "    <tr>\n",
              "      <th>1</th>\n",
              "      <td>Product arrived labeled as Jumbo Salted Peanut...</td>\n",
              "      <td>0</td>\n",
              "    </tr>\n",
              "    <tr>\n",
              "      <th>2</th>\n",
              "      <td>This is a confection that has been around a fe...</td>\n",
              "      <td>0</td>\n",
              "    </tr>\n",
              "    <tr>\n",
              "      <th>3</th>\n",
              "      <td>If you are looking for the secret ingredient i...</td>\n",
              "      <td>0</td>\n",
              "    </tr>\n",
              "    <tr>\n",
              "      <th>4</th>\n",
              "      <td>Great taffy at a great price.  There was a wid...</td>\n",
              "      <td>0</td>\n",
              "    </tr>\n",
              "  </tbody>\n",
              "</table>\n",
              "</div>"
            ],
            "text/plain": [
              "                                                Text  hastags\n",
              "0  I have bought several of the Vitality canned d...        0\n",
              "1  Product arrived labeled as Jumbo Salted Peanut...        0\n",
              "2  This is a confection that has been around a fe...        0\n",
              "3  If you are looking for the secret ingredient i...        0\n",
              "4  Great taffy at a great price.  There was a wid...        0"
            ]
          },
          "metadata": {
            "tags": []
          },
          "execution_count": 12
        }
      ]
    },
    {
      "cell_type": "code",
      "metadata": {
        "id": "q3MbnNH1bA5H",
        "colab_type": "code",
        "outputId": "ebf1196b-c5dd-4928-fe53-1610daddfe3d",
        "colab": {
          "base_uri": "https://localhost:8080/",
          "height": 35
        }
      },
      "source": [
        "df.hastags.loc[df.hastags != 0].count()"
      ],
      "execution_count": 13,
      "outputs": [
        {
          "output_type": "execute_result",
          "data": {
            "text/plain": [
              "1414"
            ]
          },
          "metadata": {
            "tags": []
          },
          "execution_count": 13
        }
      ]
    },
    {
      "cell_type": "markdown",
      "metadata": {
        "id": "UQ67amRYamFu",
        "colab_type": "text"
      },
      "source": [
        "### 3) Number of numerics\n",
        "Calculate the number of numerics which are present in the tweets can be useful. At least, it doesn't hurt to have such a data!"
      ]
    },
    {
      "cell_type": "code",
      "metadata": {
        "id": "-Sy3VyUNamhv",
        "colab_type": "code",
        "outputId": "86cfca7b-18f9-46b1-dbb6-69f845fc1e29",
        "colab": {
          "base_uri": "https://localhost:8080/",
          "height": 206
        }
      },
      "source": [
        "df['numerics'] = df['Text'].apply(lambda x: len([x for x in x.split() if x.isdigit()]))\n",
        "df[['Text','numerics']].head()"
      ],
      "execution_count": 14,
      "outputs": [
        {
          "output_type": "execute_result",
          "data": {
            "text/html": [
              "<div>\n",
              "<style scoped>\n",
              "    .dataframe tbody tr th:only-of-type {\n",
              "        vertical-align: middle;\n",
              "    }\n",
              "\n",
              "    .dataframe tbody tr th {\n",
              "        vertical-align: top;\n",
              "    }\n",
              "\n",
              "    .dataframe thead th {\n",
              "        text-align: right;\n",
              "    }\n",
              "</style>\n",
              "<table border=\"1\" class=\"dataframe\">\n",
              "  <thead>\n",
              "    <tr style=\"text-align: right;\">\n",
              "      <th></th>\n",
              "      <th>Text</th>\n",
              "      <th>numerics</th>\n",
              "    </tr>\n",
              "  </thead>\n",
              "  <tbody>\n",
              "    <tr>\n",
              "      <th>0</th>\n",
              "      <td>I have bought several of the Vitality canned d...</td>\n",
              "      <td>0</td>\n",
              "    </tr>\n",
              "    <tr>\n",
              "      <th>1</th>\n",
              "      <td>Product arrived labeled as Jumbo Salted Peanut...</td>\n",
              "      <td>0</td>\n",
              "    </tr>\n",
              "    <tr>\n",
              "      <th>2</th>\n",
              "      <td>This is a confection that has been around a fe...</td>\n",
              "      <td>0</td>\n",
              "    </tr>\n",
              "    <tr>\n",
              "      <th>3</th>\n",
              "      <td>If you are looking for the secret ingredient i...</td>\n",
              "      <td>0</td>\n",
              "    </tr>\n",
              "    <tr>\n",
              "      <th>4</th>\n",
              "      <td>Great taffy at a great price.  There was a wid...</td>\n",
              "      <td>0</td>\n",
              "    </tr>\n",
              "  </tbody>\n",
              "</table>\n",
              "</div>"
            ],
            "text/plain": [
              "                                                Text  numerics\n",
              "0  I have bought several of the Vitality canned d...         0\n",
              "1  Product arrived labeled as Jumbo Salted Peanut...         0\n",
              "2  This is a confection that has been around a fe...         0\n",
              "3  If you are looking for the secret ingredient i...         0\n",
              "4  Great taffy at a great price.  There was a wid...         0"
            ]
          },
          "metadata": {
            "tags": []
          },
          "execution_count": 14
        }
      ]
    },
    {
      "cell_type": "markdown",
      "metadata": {
        "id": "n0s4Y9KmaqvA",
        "colab_type": "text"
      },
      "source": [
        "### 4) Number of Uppercase words\n",
        "Anger or rage is quite often expressed by writing in UPPERCASE words which makes this a necessary operation to identify those words."
      ]
    },
    {
      "cell_type": "code",
      "metadata": {
        "id": "AI4aA43ka2Vo",
        "colab_type": "code",
        "outputId": "7e0aff7a-d949-47b9-ee42-bb8547fc285a",
        "colab": {
          "base_uri": "https://localhost:8080/",
          "height": 206
        }
      },
      "source": [
        "df['upper'] = df['Text'].apply(lambda x: len([x for x in x.split() if x.isupper()]))\n",
        "df[['Text','upper']].head()"
      ],
      "execution_count": 15,
      "outputs": [
        {
          "output_type": "execute_result",
          "data": {
            "text/html": [
              "<div>\n",
              "<style scoped>\n",
              "    .dataframe tbody tr th:only-of-type {\n",
              "        vertical-align: middle;\n",
              "    }\n",
              "\n",
              "    .dataframe tbody tr th {\n",
              "        vertical-align: top;\n",
              "    }\n",
              "\n",
              "    .dataframe thead th {\n",
              "        text-align: right;\n",
              "    }\n",
              "</style>\n",
              "<table border=\"1\" class=\"dataframe\">\n",
              "  <thead>\n",
              "    <tr style=\"text-align: right;\">\n",
              "      <th></th>\n",
              "      <th>Text</th>\n",
              "      <th>upper</th>\n",
              "    </tr>\n",
              "  </thead>\n",
              "  <tbody>\n",
              "    <tr>\n",
              "      <th>0</th>\n",
              "      <td>I have bought several of the Vitality canned d...</td>\n",
              "      <td>1</td>\n",
              "    </tr>\n",
              "    <tr>\n",
              "      <th>1</th>\n",
              "      <td>Product arrived labeled as Jumbo Salted Peanut...</td>\n",
              "      <td>0</td>\n",
              "    </tr>\n",
              "    <tr>\n",
              "      <th>2</th>\n",
              "      <td>This is a confection that has been around a fe...</td>\n",
              "      <td>2</td>\n",
              "    </tr>\n",
              "    <tr>\n",
              "      <th>3</th>\n",
              "      <td>If you are looking for the secret ingredient i...</td>\n",
              "      <td>4</td>\n",
              "    </tr>\n",
              "    <tr>\n",
              "      <th>4</th>\n",
              "      <td>Great taffy at a great price.  There was a wid...</td>\n",
              "      <td>0</td>\n",
              "    </tr>\n",
              "  </tbody>\n",
              "</table>\n",
              "</div>"
            ],
            "text/plain": [
              "                                                Text  upper\n",
              "0  I have bought several of the Vitality canned d...      1\n",
              "1  Product arrived labeled as Jumbo Salted Peanut...      0\n",
              "2  This is a confection that has been around a fe...      2\n",
              "3  If you are looking for the secret ingredient i...      4\n",
              "4  Great taffy at a great price.  There was a wid...      0"
            ]
          },
          "metadata": {
            "tags": []
          },
          "execution_count": 15
        }
      ]
    },
    {
      "cell_type": "markdown",
      "metadata": {
        "id": "BTJuoOSjcP7P",
        "colab_type": "text"
      },
      "source": [
        "\n",
        "\n",
        "---\n",
        "\n",
        "\n",
        "\n",
        "---\n",
        "\n",
        "\n",
        "\n",
        "---\n",
        "\n"
      ]
    },
    {
      "cell_type": "markdown",
      "metadata": {
        "id": "dmLGGqN1a0_a",
        "colab_type": "text"
      },
      "source": [
        "# **Text cleaning techniques**"
      ]
    },
    {
      "cell_type": "markdown",
      "metadata": {
        "id": "PsQrL9pYcaCD",
        "colab_type": "text"
      },
      "source": [
        "### Make all text lower case"
      ]
    },
    {
      "cell_type": "markdown",
      "metadata": {
        "id": "rxgqwFY3ccu4",
        "colab_type": "text"
      },
      "source": [
        "The first pre-processing step which we will do is transform our reviews into lower case. This avoids having multiple copies of the same words. For example, while calculating the word count, ‘Analytics’ and ‘analytics’ will be taken as different words."
      ]
    },
    {
      "cell_type": "code",
      "metadata": {
        "id": "ypjQgucycSqE",
        "colab_type": "code",
        "outputId": "96b68cb2-9aa7-4ce3-b19a-7cc5b4e18c4e",
        "colab": {
          "base_uri": "https://localhost:8080/",
          "height": 124
        }
      },
      "source": [
        "df['Text'] = df['Text'].apply(lambda x: \" \".join(x.lower() for x in x.split()))\n",
        "df['Text'].head()"
      ],
      "execution_count": 16,
      "outputs": [
        {
          "output_type": "execute_result",
          "data": {
            "text/plain": [
              "0    i have bought several of the vitality canned d...\n",
              "1    product arrived labeled as jumbo salted peanut...\n",
              "2    this is a confection that has been around a fe...\n",
              "3    if you are looking for the secret ingredient i...\n",
              "4    great taffy at a great price. there was a wide...\n",
              "Name: Text, dtype: object"
            ]
          },
          "metadata": {
            "tags": []
          },
          "execution_count": 16
        }
      ]
    },
    {
      "cell_type": "markdown",
      "metadata": {
        "id": "oRuQsr1jcpyd",
        "colab_type": "text"
      },
      "source": [
        "### Removing Punctuation"
      ]
    },
    {
      "cell_type": "code",
      "metadata": {
        "id": "_XQbtgSpcYsw",
        "colab_type": "code",
        "outputId": "3821b620-51c5-4057-ef1c-c2e6919984b5",
        "colab": {
          "base_uri": "https://localhost:8080/",
          "height": 124
        }
      },
      "source": [
        "df['Text'] = df['Text'].str.replace('[^\\w\\s]','')\n",
        "df['Text'].head()"
      ],
      "execution_count": 17,
      "outputs": [
        {
          "output_type": "execute_result",
          "data": {
            "text/plain": [
              "0    i have bought several of the vitality canned d...\n",
              "1    product arrived labeled as jumbo salted peanut...\n",
              "2    this is a confection that has been around a fe...\n",
              "3    if you are looking for the secret ingredient i...\n",
              "4    great taffy at a great price there was a wide ...\n",
              "Name: Text, dtype: object"
            ]
          },
          "metadata": {
            "tags": []
          },
          "execution_count": 17
        }
      ]
    },
    {
      "cell_type": "markdown",
      "metadata": {
        "id": "cDNg_BGaenXo",
        "colab_type": "text"
      },
      "source": [
        "### Removal of Stop Words"
      ]
    },
    {
      "cell_type": "code",
      "metadata": {
        "id": "LpAwkZQMemjb",
        "colab_type": "code",
        "outputId": "4dee4096-0454-4f4d-f66d-1cc11c00852c",
        "colab": {
          "base_uri": "https://localhost:8080/",
          "height": 214
        }
      },
      "source": [
        "from nltk.corpus import stopwords\n",
        "stop = stopwords.words('english')\n",
        "df['Text'] = df['Text'].apply(lambda x: \" \".join(x for x in x.split() if x not in stop))\n",
        "df['Text'].sample(10)"
      ],
      "execution_count": 18,
      "outputs": [
        {
          "output_type": "execute_result",
          "data": {
            "text/plain": [
              "315141    unless affinity dayold used coffee grounds try...\n",
              "485299    love popchips however like flavor garlic flavo...\n",
              "291344    tried many hot sauces years tapatio salsa pica...\n",
              "354799    get diet taste non diet soda enough saidbr use...\n",
              "201942    grew tulsa bays english muffins around least h...\n",
              "566118    sceptical stuff great quite peanut butter clos...\n",
              "550754    long story short tasty purchased number flavor...\n",
              "357529    careful research best dry food dogs diet chose...\n",
              "248056    researched many chai tea products deciding one...\n",
              "19701     really wish toddler liked seems high quality w...\n",
              "Name: Text, dtype: object"
            ]
          },
          "metadata": {
            "tags": []
          },
          "execution_count": 18
        }
      ]
    },
    {
      "cell_type": "markdown",
      "metadata": {
        "id": "gnKhvH09ewO7",
        "colab_type": "text"
      },
      "source": [
        "### Remove html tags"
      ]
    },
    {
      "cell_type": "code",
      "metadata": {
        "id": "R1NV6kDfemzd",
        "colab_type": "code",
        "colab": {
          "base_uri": "https://localhost:8080/",
          "height": 35
        },
        "outputId": "2568d3ea-0d79-4423-f0ad-e41fa387ba25"
      },
      "source": [
        "from bs4 import BeautifulSoup\n",
        "\n",
        "def strip_html_tags(text):\n",
        "    soup = BeautifulSoup(text, \"html.parser\")\n",
        "    stripped_text = soup.get_text()\n",
        "    return stripped_text\n",
        "\n",
        "strip_html_tags('sdasdasdasd http://t.co/7AzE4IoGMe Risk Assessmen ')\n",
        "\n",
        "# I will come back to this later"
      ],
      "execution_count": 19,
      "outputs": [
        {
          "output_type": "execute_result",
          "data": {
            "text/plain": [
              "'sdasdasdasd http://t.co/7AzE4IoGMe Risk Assessmen '"
            ]
          },
          "metadata": {
            "tags": []
          },
          "execution_count": 19
        }
      ]
    },
    {
      "cell_type": "markdown",
      "metadata": {
        "id": "Hp-rANfLe5dr",
        "colab_type": "text"
      },
      "source": [
        "### Spell Correction\n",
        "\n",
        "We’ve all seen tweets with a plethora of spelling mistakes. Our timelines are often filled with hastly sent tweets that are barely legible at times.\n",
        "\n",
        "In that regard, spelling correction is a useful pre-processing step because this also will help us in reducing multiple copies of words. For example, “Analytics” and “analytcs” will be treated as different words even if they are used in the same sense.\n",
        "\n",
        "To achieve this we will use the textblob library. "
      ]
    },
    {
      "cell_type": "code",
      "metadata": {
        "id": "AFMenvnHe6er",
        "colab_type": "code",
        "outputId": "cfcf97e8-08f3-4f6b-c9ac-983e3a11488a",
        "colab": {
          "base_uri": "https://localhost:8080/",
          "height": 124
        }
      },
      "source": [
        "from textblob import TextBlob\n",
        "df['Text'][:5].apply(lambda x: str(TextBlob(x).correct()))"
      ],
      "execution_count": 20,
      "outputs": [
        {
          "output_type": "execute_result",
          "data": {
            "text/plain": [
              "0    bought several vitality canned dog food produc...\n",
              "1    product arrived labelled lumbo halted peanutst...\n",
              "2    connection around centuries light pillow citie...\n",
              "3    looking secret ingredient robitussin believe f...\n",
              "4    great staff great price wide assortment mummy ...\n",
              "Name: Text, dtype: object"
            ]
          },
          "metadata": {
            "tags": []
          },
          "execution_count": 20
        }
      ]
    },
    {
      "cell_type": "code",
      "metadata": {
        "id": "yYQJwam5fFgW",
        "colab_type": "code",
        "colab": {}
      },
      "source": [
        "# Apply a first round of text cleaning techniques\n",
        "import re\n",
        "import string\n",
        "\n",
        "def clean_text_round1(text):\n",
        "    '''Make text lowercase, remove text in square brackets, remove punctuation and remove words containing numbers.'''\n",
        "    text = text.lower()\n",
        "    text = re.sub('\\[.*?\\]', '', text)\n",
        "    text = re.sub('[%s]' % re.escape(string.punctuation), '', text)\n",
        "    text = re.sub('\\w*\\d\\w*', '', text)\n",
        "    return text\n",
        "\n",
        "round1 = lambda x: clean_text_round1(x)"
      ],
      "execution_count": 0,
      "outputs": []
    },
    {
      "cell_type": "code",
      "metadata": {
        "id": "mJGy_q3Af1fU",
        "colab_type": "code",
        "outputId": "df42779b-a29d-43f0-96d1-39edf5e3a222",
        "colab": {
          "base_uri": "https://localhost:8080/",
          "height": 231
        }
      },
      "source": [
        "df['Text'] = df.Text.apply(round1)\n",
        "df.Text"
      ],
      "execution_count": 22,
      "outputs": [
        {
          "output_type": "execute_result",
          "data": {
            "text/plain": [
              "0         bought several vitality canned dog food produc...\n",
              "1         product arrived labeled jumbo salted peanutsth...\n",
              "2         confection around centuries light pillowy citr...\n",
              "3         looking secret ingredient robitussin believe f...\n",
              "4         great taffy great price wide assortment yummy ...\n",
              "                                ...                        \n",
              "568449    great sesame chickenthis good better resturant...\n",
              "568450    im disappointed flavor chocolate notes especia...\n",
              "568451    stars small give  one training session tried t...\n",
              "568452    best treats training rewarding dog good groomi...\n",
              "568453    satisfied product advertised use cereal raw vi...\n",
              "Name: Text, Length: 568411, dtype: object"
            ]
          },
          "metadata": {
            "tags": []
          },
          "execution_count": 22
        }
      ]
    },
    {
      "cell_type": "code",
      "metadata": {
        "id": "x9pQHdIhFAoX",
        "colab_type": "code",
        "colab": {}
      },
      "source": [
        "# Apply a second round of cleaning\n",
        "def clean_text_round2(text):\n",
        "    '''Get rid of some additional punctuation and non-sensical text that was missed the first time around.'''\n",
        "    text = re.sub('[‘’“”…]', '', text)\n",
        "    text = re.sub('\\n', '', text)\n",
        "    return text\n",
        "\n",
        "round2 = lambda x: clean_text_round2(x)"
      ],
      "execution_count": 0,
      "outputs": []
    },
    {
      "cell_type": "code",
      "metadata": {
        "id": "f3DTSvZwFGaB",
        "colab_type": "code",
        "colab": {
          "base_uri": "https://localhost:8080/",
          "height": 231
        },
        "outputId": "1606cd7f-194c-4297-bf7d-bca1b00c493c"
      },
      "source": [
        "df['Text'] = df.Text.apply(round2)\n",
        "df.Text"
      ],
      "execution_count": 24,
      "outputs": [
        {
          "output_type": "execute_result",
          "data": {
            "text/plain": [
              "0         bought several vitality canned dog food produc...\n",
              "1         product arrived labeled jumbo salted peanutsth...\n",
              "2         confection around centuries light pillowy citr...\n",
              "3         looking secret ingredient robitussin believe f...\n",
              "4         great taffy great price wide assortment yummy ...\n",
              "                                ...                        \n",
              "568449    great sesame chickenthis good better resturant...\n",
              "568450    im disappointed flavor chocolate notes especia...\n",
              "568451    stars small give  one training session tried t...\n",
              "568452    best treats training rewarding dog good groomi...\n",
              "568453    satisfied product advertised use cereal raw vi...\n",
              "Name: Text, Length: 568411, dtype: object"
            ]
          },
          "metadata": {
            "tags": []
          },
          "execution_count": 24
        }
      ]
    },
    {
      "cell_type": "markdown",
      "metadata": {
        "id": "ZLM2wykAFO6c",
        "colab_type": "text"
      },
      "source": [
        "Let's check whether the frequent words make sense or not"
      ]
    },
    {
      "cell_type": "code",
      "metadata": {
        "id": "n7NhgmICFK8M",
        "colab_type": "code",
        "colab": {
          "base_uri": "https://localhost:8080/",
          "height": 392
        },
        "outputId": "1a961ac9-e6c7-4a94-a235-e8f75cfbf000"
      },
      "source": [
        "freq = pd.Series(' '.join(df['Text']).split()).value_counts()[:20]\n",
        "freq"
      ],
      "execution_count": 25,
      "outputs": [
        {
          "output_type": "execute_result",
          "data": {
            "text/plain": [
              "br         264688\n",
              "like       251864\n",
              "good       195348\n",
              "one        172306\n",
              "taste      166572\n",
              "great      163560\n",
              "coffee     160180\n",
              "product    146439\n",
              "flavor     142442\n",
              "tea        133094\n",
              "love       126635\n",
              "food       123770\n",
              "would      123356\n",
              "get        108169\n",
              "really     100414\n",
              "dont        95555\n",
              "much        91906\n",
              "also        86099\n",
              "little      83197\n",
              "use         82743\n",
              "dtype: int64"
            ]
          },
          "metadata": {
            "tags": []
          },
          "execution_count": 25
        }
      ]
    },
    {
      "cell_type": "markdown",
      "metadata": {
        "id": "k_WoqQR9FXok",
        "colab_type": "text"
      },
      "source": [
        "# Basic Feature Extraction - 2"
      ]
    },
    {
      "cell_type": "markdown",
      "metadata": {
        "id": "aIXunJcIFbgg",
        "colab_type": "text"
      },
      "source": [
        "###  Number of Words"
      ]
    },
    {
      "cell_type": "code",
      "metadata": {
        "id": "RbIMvtdNFXEb",
        "colab_type": "code",
        "colab": {
          "base_uri": "https://localhost:8080/",
          "height": 206
        },
        "outputId": "f7392097-9b03-44fb-c519-84ccf3339463"
      },
      "source": [
        "df['word_count'] = df['Text'].apply(lambda x: len(str(x).split(\" \")))\n",
        "df[['Text','word_count']].head()"
      ],
      "execution_count": 27,
      "outputs": [
        {
          "output_type": "execute_result",
          "data": {
            "text/html": [
              "<div>\n",
              "<style scoped>\n",
              "    .dataframe tbody tr th:only-of-type {\n",
              "        vertical-align: middle;\n",
              "    }\n",
              "\n",
              "    .dataframe tbody tr th {\n",
              "        vertical-align: top;\n",
              "    }\n",
              "\n",
              "    .dataframe thead th {\n",
              "        text-align: right;\n",
              "    }\n",
              "</style>\n",
              "<table border=\"1\" class=\"dataframe\">\n",
              "  <thead>\n",
              "    <tr style=\"text-align: right;\">\n",
              "      <th></th>\n",
              "      <th>Text</th>\n",
              "      <th>word_count</th>\n",
              "    </tr>\n",
              "  </thead>\n",
              "  <tbody>\n",
              "    <tr>\n",
              "      <th>0</th>\n",
              "      <td>bought several vitality canned dog food produc...</td>\n",
              "      <td>23</td>\n",
              "    </tr>\n",
              "    <tr>\n",
              "      <th>1</th>\n",
              "      <td>product arrived labeled jumbo salted peanutsth...</td>\n",
              "      <td>18</td>\n",
              "    </tr>\n",
              "    <tr>\n",
              "      <th>2</th>\n",
              "      <td>confection around centuries light pillowy citr...</td>\n",
              "      <td>40</td>\n",
              "    </tr>\n",
              "    <tr>\n",
              "      <th>3</th>\n",
              "      <td>looking secret ingredient robitussin believe f...</td>\n",
              "      <td>18</td>\n",
              "    </tr>\n",
              "    <tr>\n",
              "      <th>4</th>\n",
              "      <td>great taffy great price wide assortment yummy ...</td>\n",
              "      <td>13</td>\n",
              "    </tr>\n",
              "  </tbody>\n",
              "</table>\n",
              "</div>"
            ],
            "text/plain": [
              "                                                Text  word_count\n",
              "0  bought several vitality canned dog food produc...          23\n",
              "1  product arrived labeled jumbo salted peanutsth...          18\n",
              "2  confection around centuries light pillowy citr...          40\n",
              "3  looking secret ingredient robitussin believe f...          18\n",
              "4  great taffy great price wide assortment yummy ...          13"
            ]
          },
          "metadata": {
            "tags": []
          },
          "execution_count": 27
        }
      ]
    },
    {
      "cell_type": "markdown",
      "metadata": {
        "id": "nqwX7mM_FyKd",
        "colab_type": "text"
      },
      "source": [
        "Again, let's check the data and number of null values"
      ]
    },
    {
      "cell_type": "code",
      "metadata": {
        "id": "qz_bkz3iFtQY",
        "colab_type": "code",
        "colab": {
          "base_uri": "https://localhost:8080/",
          "height": 551
        },
        "outputId": "62021c3f-90c3-4099-9675-d0ab93459a10"
      },
      "source": [
        "null_values=df.isna().sum()\n",
        "null_values=pd.DataFrame(null_values,columns=['null'])\n",
        "sum_tot=len(df)\n",
        "null_values['percent']=null_values['null']/sum_tot*100\n",
        "round(null_values,3).sort_values('percent',ascending=False)"
      ],
      "execution_count": 28,
      "outputs": [
        {
          "output_type": "execute_result",
          "data": {
            "text/html": [
              "<div>\n",
              "<style scoped>\n",
              "    .dataframe tbody tr th:only-of-type {\n",
              "        vertical-align: middle;\n",
              "    }\n",
              "\n",
              "    .dataframe tbody tr th {\n",
              "        vertical-align: top;\n",
              "    }\n",
              "\n",
              "    .dataframe thead th {\n",
              "        text-align: right;\n",
              "    }\n",
              "</style>\n",
              "<table border=\"1\" class=\"dataframe\">\n",
              "  <thead>\n",
              "    <tr style=\"text-align: right;\">\n",
              "      <th></th>\n",
              "      <th>null</th>\n",
              "      <th>percent</th>\n",
              "    </tr>\n",
              "  </thead>\n",
              "  <tbody>\n",
              "    <tr>\n",
              "      <th>Id</th>\n",
              "      <td>0</td>\n",
              "      <td>0.0</td>\n",
              "    </tr>\n",
              "    <tr>\n",
              "      <th>ProductId</th>\n",
              "      <td>0</td>\n",
              "      <td>0.0</td>\n",
              "    </tr>\n",
              "    <tr>\n",
              "      <th>UserId</th>\n",
              "      <td>0</td>\n",
              "      <td>0.0</td>\n",
              "    </tr>\n",
              "    <tr>\n",
              "      <th>ProfileName</th>\n",
              "      <td>0</td>\n",
              "      <td>0.0</td>\n",
              "    </tr>\n",
              "    <tr>\n",
              "      <th>HelpfulnessNumerator</th>\n",
              "      <td>0</td>\n",
              "      <td>0.0</td>\n",
              "    </tr>\n",
              "    <tr>\n",
              "      <th>HelpfulnessDenominator</th>\n",
              "      <td>0</td>\n",
              "      <td>0.0</td>\n",
              "    </tr>\n",
              "    <tr>\n",
              "      <th>Score</th>\n",
              "      <td>0</td>\n",
              "      <td>0.0</td>\n",
              "    </tr>\n",
              "    <tr>\n",
              "      <th>Time</th>\n",
              "      <td>0</td>\n",
              "      <td>0.0</td>\n",
              "    </tr>\n",
              "    <tr>\n",
              "      <th>Summary</th>\n",
              "      <td>0</td>\n",
              "      <td>0.0</td>\n",
              "    </tr>\n",
              "    <tr>\n",
              "      <th>Text</th>\n",
              "      <td>0</td>\n",
              "      <td>0.0</td>\n",
              "    </tr>\n",
              "    <tr>\n",
              "      <th>stopwords</th>\n",
              "      <td>0</td>\n",
              "      <td>0.0</td>\n",
              "    </tr>\n",
              "    <tr>\n",
              "      <th>punctuation</th>\n",
              "      <td>0</td>\n",
              "      <td>0.0</td>\n",
              "    </tr>\n",
              "    <tr>\n",
              "      <th>hastags</th>\n",
              "      <td>0</td>\n",
              "      <td>0.0</td>\n",
              "    </tr>\n",
              "    <tr>\n",
              "      <th>numerics</th>\n",
              "      <td>0</td>\n",
              "      <td>0.0</td>\n",
              "    </tr>\n",
              "    <tr>\n",
              "      <th>upper</th>\n",
              "      <td>0</td>\n",
              "      <td>0.0</td>\n",
              "    </tr>\n",
              "    <tr>\n",
              "      <th>word_count</th>\n",
              "      <td>0</td>\n",
              "      <td>0.0</td>\n",
              "    </tr>\n",
              "  </tbody>\n",
              "</table>\n",
              "</div>"
            ],
            "text/plain": [
              "                        null  percent\n",
              "Id                         0      0.0\n",
              "ProductId                  0      0.0\n",
              "UserId                     0      0.0\n",
              "ProfileName                0      0.0\n",
              "HelpfulnessNumerator       0      0.0\n",
              "HelpfulnessDenominator     0      0.0\n",
              "Score                      0      0.0\n",
              "Time                       0      0.0\n",
              "Summary                    0      0.0\n",
              "Text                       0      0.0\n",
              "stopwords                  0      0.0\n",
              "punctuation                0      0.0\n",
              "hastags                    0      0.0\n",
              "numerics                   0      0.0\n",
              "upper                      0      0.0\n",
              "word_count                 0      0.0"
            ]
          },
          "metadata": {
            "tags": []
          },
          "execution_count": 28
        }
      ]
    },
    {
      "cell_type": "markdown",
      "metadata": {
        "id": "ZlakthaIF7w0",
        "colab_type": "text"
      },
      "source": [
        "### Number of characters"
      ]
    },
    {
      "cell_type": "code",
      "metadata": {
        "id": "U6aAk1ZbF8GI",
        "colab_type": "code",
        "colab": {
          "base_uri": "https://localhost:8080/",
          "height": 206
        },
        "outputId": "1943bf55-8e4c-4dd7-f152-91374a4c054a"
      },
      "source": [
        "df['char_count'] = df['Text'].str.len() ## this also includes spaces\n",
        "df[['Text','char_count']].head()"
      ],
      "execution_count": 29,
      "outputs": [
        {
          "output_type": "execute_result",
          "data": {
            "text/html": [
              "<div>\n",
              "<style scoped>\n",
              "    .dataframe tbody tr th:only-of-type {\n",
              "        vertical-align: middle;\n",
              "    }\n",
              "\n",
              "    .dataframe tbody tr th {\n",
              "        vertical-align: top;\n",
              "    }\n",
              "\n",
              "    .dataframe thead th {\n",
              "        text-align: right;\n",
              "    }\n",
              "</style>\n",
              "<table border=\"1\" class=\"dataframe\">\n",
              "  <thead>\n",
              "    <tr style=\"text-align: right;\">\n",
              "      <th></th>\n",
              "      <th>Text</th>\n",
              "      <th>char_count</th>\n",
              "    </tr>\n",
              "  </thead>\n",
              "  <tbody>\n",
              "    <tr>\n",
              "      <th>0</th>\n",
              "      <td>bought several vitality canned dog food produc...</td>\n",
              "      <td>164</td>\n",
              "    </tr>\n",
              "    <tr>\n",
              "      <th>1</th>\n",
              "      <td>product arrived labeled jumbo salted peanutsth...</td>\n",
              "      <td>136</td>\n",
              "    </tr>\n",
              "    <tr>\n",
              "      <th>2</th>\n",
              "      <td>confection around centuries light pillowy citr...</td>\n",
              "      <td>285</td>\n",
              "    </tr>\n",
              "    <tr>\n",
              "      <th>3</th>\n",
              "      <td>looking secret ingredient robitussin believe f...</td>\n",
              "      <td>128</td>\n",
              "    </tr>\n",
              "    <tr>\n",
              "      <th>4</th>\n",
              "      <td>great taffy great price wide assortment yummy ...</td>\n",
              "      <td>83</td>\n",
              "    </tr>\n",
              "  </tbody>\n",
              "</table>\n",
              "</div>"
            ],
            "text/plain": [
              "                                                Text  char_count\n",
              "0  bought several vitality canned dog food produc...         164\n",
              "1  product arrived labeled jumbo salted peanutsth...         136\n",
              "2  confection around centuries light pillowy citr...         285\n",
              "3  looking secret ingredient robitussin believe f...         128\n",
              "4  great taffy great price wide assortment yummy ...          83"
            ]
          },
          "metadata": {
            "tags": []
          },
          "execution_count": 29
        }
      ]
    },
    {
      "cell_type": "markdown",
      "metadata": {
        "id": "3h8V9jEOGCpc",
        "colab_type": "text"
      },
      "source": [
        "### 3) Average Word Length"
      ]
    },
    {
      "cell_type": "code",
      "metadata": {
        "id": "ygPPuLWqF_jh",
        "colab_type": "code",
        "colab": {}
      },
      "source": [
        "def avg_word(sentence):\n",
        "  words = sentence.split()\n",
        "  return (sum(len(word) for word in words)/(len(words)+0.000001))"
      ],
      "execution_count": 0,
      "outputs": []
    },
    {
      "cell_type": "code",
      "metadata": {
        "id": "KV066OIPGG_M",
        "colab_type": "code",
        "colab": {
          "base_uri": "https://localhost:8080/",
          "height": 206
        },
        "outputId": "c7e7a456-4dd9-4055-d8f8-fade66e43323"
      },
      "source": [
        "df['avg_word'] = df['Text'].apply(lambda x: avg_word(x)).round(1)\n",
        "df[['Text','avg_word']].head()"
      ],
      "execution_count": 42,
      "outputs": [
        {
          "output_type": "execute_result",
          "data": {
            "text/html": [
              "<div>\n",
              "<style scoped>\n",
              "    .dataframe tbody tr th:only-of-type {\n",
              "        vertical-align: middle;\n",
              "    }\n",
              "\n",
              "    .dataframe tbody tr th {\n",
              "        vertical-align: top;\n",
              "    }\n",
              "\n",
              "    .dataframe thead th {\n",
              "        text-align: right;\n",
              "    }\n",
              "</style>\n",
              "<table border=\"1\" class=\"dataframe\">\n",
              "  <thead>\n",
              "    <tr style=\"text-align: right;\">\n",
              "      <th></th>\n",
              "      <th>Text</th>\n",
              "      <th>avg_word</th>\n",
              "    </tr>\n",
              "  </thead>\n",
              "  <tbody>\n",
              "    <tr>\n",
              "      <th>0</th>\n",
              "      <td>bought several vitality canned dog food produc...</td>\n",
              "      <td>6.2</td>\n",
              "    </tr>\n",
              "    <tr>\n",
              "      <th>1</th>\n",
              "      <td>product arrived labeled jumbo salted peanutsth...</td>\n",
              "      <td>6.6</td>\n",
              "    </tr>\n",
              "    <tr>\n",
              "      <th>2</th>\n",
              "      <td>confection around centuries light pillowy citr...</td>\n",
              "      <td>6.1</td>\n",
              "    </tr>\n",
              "    <tr>\n",
              "      <th>3</th>\n",
              "      <td>looking secret ingredient robitussin believe f...</td>\n",
              "      <td>6.2</td>\n",
              "    </tr>\n",
              "    <tr>\n",
              "      <th>4</th>\n",
              "      <td>great taffy great price wide assortment yummy ...</td>\n",
              "      <td>5.5</td>\n",
              "    </tr>\n",
              "  </tbody>\n",
              "</table>\n",
              "</div>"
            ],
            "text/plain": [
              "                                                Text  avg_word\n",
              "0  bought several vitality canned dog food produc...       6.2\n",
              "1  product arrived labeled jumbo salted peanutsth...       6.6\n",
              "2  confection around centuries light pillowy citr...       6.1\n",
              "3  looking secret ingredient robitussin believe f...       6.2\n",
              "4  great taffy great price wide assortment yummy ...       5.5"
            ]
          },
          "metadata": {
            "tags": []
          },
          "execution_count": 42
        }
      ]
    },
    {
      "cell_type": "code",
      "metadata": {
        "id": "tLtUDxmTGIBe",
        "colab_type": "code",
        "colab": {
          "base_uri": "https://localhost:8080/",
          "height": 164
        },
        "outputId": "88be9231-7306-4f7e-9e87-a06a8579afa4"
      },
      "source": [
        "df.sample(2)"
      ],
      "execution_count": 43,
      "outputs": [
        {
          "output_type": "execute_result",
          "data": {
            "text/html": [
              "<div>\n",
              "<style scoped>\n",
              "    .dataframe tbody tr th:only-of-type {\n",
              "        vertical-align: middle;\n",
              "    }\n",
              "\n",
              "    .dataframe tbody tr th {\n",
              "        vertical-align: top;\n",
              "    }\n",
              "\n",
              "    .dataframe thead th {\n",
              "        text-align: right;\n",
              "    }\n",
              "</style>\n",
              "<table border=\"1\" class=\"dataframe\">\n",
              "  <thead>\n",
              "    <tr style=\"text-align: right;\">\n",
              "      <th></th>\n",
              "      <th>Id</th>\n",
              "      <th>ProductId</th>\n",
              "      <th>UserId</th>\n",
              "      <th>HelpfulnessNumerator</th>\n",
              "      <th>HelpfulnessDenominator</th>\n",
              "      <th>Score</th>\n",
              "      <th>Time</th>\n",
              "      <th>Summary</th>\n",
              "      <th>Text</th>\n",
              "      <th>stopwords</th>\n",
              "      <th>punctuation</th>\n",
              "      <th>hastags</th>\n",
              "      <th>numerics</th>\n",
              "      <th>upper</th>\n",
              "      <th>word_count</th>\n",
              "      <th>char_count</th>\n",
              "      <th>avg_word</th>\n",
              "    </tr>\n",
              "  </thead>\n",
              "  <tbody>\n",
              "    <tr>\n",
              "      <th>414717</th>\n",
              "      <td>414718</td>\n",
              "      <td>B005VOOLXM</td>\n",
              "      <td>A2GH8LYNLQSE3F</td>\n",
              "      <td>0</td>\n",
              "      <td>0</td>\n",
              "      <td>3</td>\n",
              "      <td>1332460800</td>\n",
              "      <td>This Coffee is Not Bad</td>\n",
              "      <td>package marley coffee contains bunch pods desi...</td>\n",
              "      <td>52</td>\n",
              "      <td>34</td>\n",
              "      <td>0</td>\n",
              "      <td>0</td>\n",
              "      <td>5</td>\n",
              "      <td>74</td>\n",
              "      <td>477</td>\n",
              "      <td>5.5</td>\n",
              "    </tr>\n",
              "    <tr>\n",
              "      <th>57501</th>\n",
              "      <td>57502</td>\n",
              "      <td>B000E4C1OK</td>\n",
              "      <td>A3LRHUAHFFJ91P</td>\n",
              "      <td>1</td>\n",
              "      <td>1</td>\n",
              "      <td>5</td>\n",
              "      <td>1227398400</td>\n",
              "      <td>Great Chili</td>\n",
              "      <td>one cincinnati chili mix happy get gourmet del...</td>\n",
              "      <td>26</td>\n",
              "      <td>12</td>\n",
              "      <td>0</td>\n",
              "      <td>0</td>\n",
              "      <td>2</td>\n",
              "      <td>24</td>\n",
              "      <td>179</td>\n",
              "      <td>6.5</td>\n",
              "    </tr>\n",
              "  </tbody>\n",
              "</table>\n",
              "</div>"
            ],
            "text/plain": [
              "            Id   ProductId          UserId  ...  word_count  char_count  avg_word\n",
              "414717  414718  B005VOOLXM  A2GH8LYNLQSE3F  ...          74         477       5.5\n",
              "57501    57502  B000E4C1OK  A3LRHUAHFFJ91P  ...          24         179       6.5\n",
              "\n",
              "[2 rows x 17 columns]"
            ]
          },
          "metadata": {
            "tags": []
          },
          "execution_count": 43
        }
      ]
    },
    {
      "cell_type": "markdown",
      "metadata": {
        "id": "KUiU-wlaMFMT",
        "colab_type": "text"
      },
      "source": [
        "**Let's convert the 'time' column to a meaningful format**  "
      ]
    },
    {
      "cell_type": "code",
      "metadata": {
        "id": "2-9FA4_JMEQf",
        "colab_type": "code",
        "colab": {}
      },
      "source": [
        "df['Time'] = pd.to_datetime(df['Time'],unit='s')"
      ],
      "execution_count": 0,
      "outputs": []
    },
    {
      "cell_type": "code",
      "metadata": {
        "id": "6WuKgpjEMZFe",
        "colab_type": "code",
        "colab": {
          "base_uri": "https://localhost:8080/",
          "height": 588
        },
        "outputId": "c3fb9174-b5e2-4728-f87d-4c0d1ce51020"
      },
      "source": [
        "df.sample(5)"
      ],
      "execution_count": 52,
      "outputs": [
        {
          "output_type": "execute_result",
          "data": {
            "text/html": [
              "<div>\n",
              "<style scoped>\n",
              "    .dataframe tbody tr th:only-of-type {\n",
              "        vertical-align: middle;\n",
              "    }\n",
              "\n",
              "    .dataframe tbody tr th {\n",
              "        vertical-align: top;\n",
              "    }\n",
              "\n",
              "    .dataframe thead th {\n",
              "        text-align: right;\n",
              "    }\n",
              "</style>\n",
              "<table border=\"1\" class=\"dataframe\">\n",
              "  <thead>\n",
              "    <tr style=\"text-align: right;\">\n",
              "      <th></th>\n",
              "      <th>Id</th>\n",
              "      <th>ProductId</th>\n",
              "      <th>UserId</th>\n",
              "      <th>HelpfulnessNumerator</th>\n",
              "      <th>HelpfulnessDenominator</th>\n",
              "      <th>Score</th>\n",
              "      <th>Time</th>\n",
              "      <th>Summary</th>\n",
              "      <th>Text</th>\n",
              "      <th>stopwords</th>\n",
              "      <th>punctuation</th>\n",
              "      <th>hastags</th>\n",
              "      <th>numerics</th>\n",
              "      <th>upper</th>\n",
              "      <th>word_count</th>\n",
              "      <th>char_count</th>\n",
              "      <th>avg_word</th>\n",
              "      <th>date</th>\n",
              "    </tr>\n",
              "  </thead>\n",
              "  <tbody>\n",
              "    <tr>\n",
              "      <th>357235</th>\n",
              "      <td>357236</td>\n",
              "      <td>B0006I5M2M</td>\n",
              "      <td>ARXU7TM4XXI1D</td>\n",
              "      <td>3</td>\n",
              "      <td>3</td>\n",
              "      <td>5</td>\n",
              "      <td>2012-03-21</td>\n",
              "      <td>No more breast milk!</td>\n",
              "      <td>let start saying tea drinker coffee person any...</td>\n",
              "      <td>61</td>\n",
              "      <td>15</td>\n",
              "      <td>0</td>\n",
              "      <td>1</td>\n",
              "      <td>12</td>\n",
              "      <td>74</td>\n",
              "      <td>445</td>\n",
              "      <td>5.3</td>\n",
              "      <td>2012-03-21</td>\n",
              "    </tr>\n",
              "    <tr>\n",
              "      <th>80391</th>\n",
              "      <td>80392</td>\n",
              "      <td>B0009XPD64</td>\n",
              "      <td>AXSG1JKI2MDD2</td>\n",
              "      <td>0</td>\n",
              "      <td>0</td>\n",
              "      <td>3</td>\n",
              "      <td>2012-01-15</td>\n",
              "      <td>Good food, but not good for my dog</td>\n",
              "      <td>bought food bought several flavors previously ...</td>\n",
              "      <td>13</td>\n",
              "      <td>6</td>\n",
              "      <td>0</td>\n",
              "      <td>0</td>\n",
              "      <td>2</td>\n",
              "      <td>21</td>\n",
              "      <td>146</td>\n",
              "      <td>6.0</td>\n",
              "      <td>2012-01-15</td>\n",
              "    </tr>\n",
              "    <tr>\n",
              "      <th>362838</th>\n",
              "      <td>362839</td>\n",
              "      <td>B001PATNEI</td>\n",
              "      <td>A3UAOF1VP5U8IJ</td>\n",
              "      <td>4</td>\n",
              "      <td>4</td>\n",
              "      <td>5</td>\n",
              "      <td>2010-02-08</td>\n",
              "      <td>Delicious!</td>\n",
              "      <td>love thick chewy rich chocolate brownies ones ...</td>\n",
              "      <td>52</td>\n",
              "      <td>25</td>\n",
              "      <td>0</td>\n",
              "      <td>2</td>\n",
              "      <td>0</td>\n",
              "      <td>61</td>\n",
              "      <td>403</td>\n",
              "      <td>5.8</td>\n",
              "      <td>2010-02-08</td>\n",
              "    </tr>\n",
              "    <tr>\n",
              "      <th>27220</th>\n",
              "      <td>27221</td>\n",
              "      <td>B0000TL6CC</td>\n",
              "      <td>A2MAYUVBO639EQ</td>\n",
              "      <td>0</td>\n",
              "      <td>4</td>\n",
              "      <td>1</td>\n",
              "      <td>2010-06-15</td>\n",
              "      <td>Nasty consistency, a lot of money for...?</td>\n",
              "      <td>sausage paste plastic tube shaped like sausage...</td>\n",
              "      <td>101</td>\n",
              "      <td>53</td>\n",
              "      <td>0</td>\n",
              "      <td>0</td>\n",
              "      <td>5</td>\n",
              "      <td>94</td>\n",
              "      <td>620</td>\n",
              "      <td>5.6</td>\n",
              "      <td>2010-06-15</td>\n",
              "    </tr>\n",
              "    <tr>\n",
              "      <th>123472</th>\n",
              "      <td>123473</td>\n",
              "      <td>B0006VB3SG</td>\n",
              "      <td>A175QDT8DHNG7A</td>\n",
              "      <td>0</td>\n",
              "      <td>0</td>\n",
              "      <td>5</td>\n",
              "      <td>2012-08-13</td>\n",
              "      <td>Long Lasting</td>\n",
              "      <td>two dogs one regular chewer one powerful chewe...</td>\n",
              "      <td>26</td>\n",
              "      <td>6</td>\n",
              "      <td>0</td>\n",
              "      <td>0</td>\n",
              "      <td>1</td>\n",
              "      <td>35</td>\n",
              "      <td>212</td>\n",
              "      <td>5.1</td>\n",
              "      <td>2012-08-13</td>\n",
              "    </tr>\n",
              "  </tbody>\n",
              "</table>\n",
              "</div>"
            ],
            "text/plain": [
              "            Id   ProductId          UserId  ...  char_count  avg_word       date\n",
              "357235  357236  B0006I5M2M   ARXU7TM4XXI1D  ...         445       5.3 2012-03-21\n",
              "80391    80392  B0009XPD64   AXSG1JKI2MDD2  ...         146       6.0 2012-01-15\n",
              "362838  362839  B001PATNEI  A3UAOF1VP5U8IJ  ...         403       5.8 2010-02-08\n",
              "27220    27221  B0000TL6CC  A2MAYUVBO639EQ  ...         620       5.6 2010-06-15\n",
              "123472  123473  B0006VB3SG  A175QDT8DHNG7A  ...         212       5.1 2012-08-13\n",
              "\n",
              "[5 rows x 18 columns]"
            ]
          },
          "metadata": {
            "tags": []
          },
          "execution_count": 52
        }
      ]
    },
    {
      "cell_type": "code",
      "metadata": {
        "id": "cAiFGaRtMmLv",
        "colab_type": "code",
        "colab": {}
      },
      "source": [
        "df= df.drop('date', axis= 1)"
      ],
      "execution_count": 0,
      "outputs": []
    },
    {
      "cell_type": "markdown",
      "metadata": {
        "id": "fgsPZK9sGxf8",
        "colab_type": "text"
      },
      "source": [
        "Lastly, we don't need 'ProfileName' feature because we already have 'UserId'. Therefore, we can drop 'ProfileName'"
      ]
    },
    {
      "cell_type": "code",
      "metadata": {
        "id": "bN-LVDp1HFX6",
        "colab_type": "code",
        "colab": {}
      },
      "source": [
        "df= df.drop('ProfileName', axis= 1)"
      ],
      "execution_count": 0,
      "outputs": []
    },
    {
      "cell_type": "code",
      "metadata": {
        "id": "Dj-dFcLnHhSS",
        "colab_type": "code",
        "colab": {
          "base_uri": "https://localhost:8080/",
          "height": 321
        },
        "outputId": "1a5b904b-9d2e-48de-c010-9b2c27369040"
      },
      "source": [
        "list(df)"
      ],
      "execution_count": 54,
      "outputs": [
        {
          "output_type": "execute_result",
          "data": {
            "text/plain": [
              "['Id',\n",
              " 'ProductId',\n",
              " 'UserId',\n",
              " 'HelpfulnessNumerator',\n",
              " 'HelpfulnessDenominator',\n",
              " 'Score',\n",
              " 'Time',\n",
              " 'Summary',\n",
              " 'Text',\n",
              " 'stopwords',\n",
              " 'punctuation',\n",
              " 'hastags',\n",
              " 'numerics',\n",
              " 'upper',\n",
              " 'word_count',\n",
              " 'char_count',\n",
              " 'avg_word']"
            ]
          },
          "metadata": {
            "tags": []
          },
          "execution_count": 54
        }
      ]
    },
    {
      "cell_type": "code",
      "metadata": {
        "id": "-fit5NF3KG0n",
        "colab_type": "code",
        "colab": {
          "base_uri": "https://localhost:8080/",
          "height": 380
        },
        "outputId": "60368683-abad-48c9-da1f-f21d59c51d81"
      },
      "source": [
        "df.sample(5)"
      ],
      "execution_count": 46,
      "outputs": [
        {
          "output_type": "execute_result",
          "data": {
            "text/html": [
              "<div>\n",
              "<style scoped>\n",
              "    .dataframe tbody tr th:only-of-type {\n",
              "        vertical-align: middle;\n",
              "    }\n",
              "\n",
              "    .dataframe tbody tr th {\n",
              "        vertical-align: top;\n",
              "    }\n",
              "\n",
              "    .dataframe thead th {\n",
              "        text-align: right;\n",
              "    }\n",
              "</style>\n",
              "<table border=\"1\" class=\"dataframe\">\n",
              "  <thead>\n",
              "    <tr style=\"text-align: right;\">\n",
              "      <th></th>\n",
              "      <th>Id</th>\n",
              "      <th>ProductId</th>\n",
              "      <th>UserId</th>\n",
              "      <th>HelpfulnessNumerator</th>\n",
              "      <th>HelpfulnessDenominator</th>\n",
              "      <th>Score</th>\n",
              "      <th>Time</th>\n",
              "      <th>Summary</th>\n",
              "      <th>Text</th>\n",
              "      <th>stopwords</th>\n",
              "      <th>punctuation</th>\n",
              "      <th>hastags</th>\n",
              "      <th>numerics</th>\n",
              "      <th>upper</th>\n",
              "      <th>word_count</th>\n",
              "      <th>char_count</th>\n",
              "      <th>avg_word</th>\n",
              "    </tr>\n",
              "  </thead>\n",
              "  <tbody>\n",
              "    <tr>\n",
              "      <th>216927</th>\n",
              "      <td>216928</td>\n",
              "      <td>B0044X5RWA</td>\n",
              "      <td>A2A98IZ6QUMIUX</td>\n",
              "      <td>40</td>\n",
              "      <td>45</td>\n",
              "      <td>4</td>\n",
              "      <td>1309132800</td>\n",
              "      <td>Amazon price is outrageous!!</td>\n",
              "      <td>bought item local grocery store   oz jar would...</td>\n",
              "      <td>59</td>\n",
              "      <td>27</td>\n",
              "      <td>0</td>\n",
              "      <td>2</td>\n",
              "      <td>8</td>\n",
              "      <td>64</td>\n",
              "      <td>403</td>\n",
              "      <td>6.0</td>\n",
              "    </tr>\n",
              "    <tr>\n",
              "      <th>267155</th>\n",
              "      <td>267156</td>\n",
              "      <td>B004BKLHOS</td>\n",
              "      <td>AP8D74QD9LUUL</td>\n",
              "      <td>0</td>\n",
              "      <td>0</td>\n",
              "      <td>5</td>\n",
              "      <td>1300320000</td>\n",
              "      <td>tasty AND whole grain!</td>\n",
              "      <td>impressed im one actually likes whole grain pr...</td>\n",
              "      <td>38</td>\n",
              "      <td>16</td>\n",
              "      <td>0</td>\n",
              "      <td>1</td>\n",
              "      <td>2</td>\n",
              "      <td>61</td>\n",
              "      <td>429</td>\n",
              "      <td>6.1</td>\n",
              "    </tr>\n",
              "    <tr>\n",
              "      <th>351038</th>\n",
              "      <td>351039</td>\n",
              "      <td>B001P5406O</td>\n",
              "      <td>A2F10B2DYLM1LS</td>\n",
              "      <td>2</td>\n",
              "      <td>3</td>\n",
              "      <td>5</td>\n",
              "      <td>1306713600</td>\n",
              "      <td>Delicious, Came with a pump</td>\n",
              "      <td>ordered picture one review said came pump send...</td>\n",
              "      <td>26</td>\n",
              "      <td>19</td>\n",
              "      <td>0</td>\n",
              "      <td>1</td>\n",
              "      <td>5</td>\n",
              "      <td>34</td>\n",
              "      <td>194</td>\n",
              "      <td>4.9</td>\n",
              "    </tr>\n",
              "    <tr>\n",
              "      <th>277846</th>\n",
              "      <td>277847</td>\n",
              "      <td>B007KPWA8S</td>\n",
              "      <td>A2N6Y6FIANRL3G</td>\n",
              "      <td>3</td>\n",
              "      <td>3</td>\n",
              "      <td>4</td>\n",
              "      <td>1337990400</td>\n",
              "      <td>Good Variety</td>\n",
              "      <td>one advantages keurig k cup type brewers ease ...</td>\n",
              "      <td>87</td>\n",
              "      <td>36</td>\n",
              "      <td>0</td>\n",
              "      <td>10</td>\n",
              "      <td>1</td>\n",
              "      <td>127</td>\n",
              "      <td>722</td>\n",
              "      <td>5.2</td>\n",
              "    </tr>\n",
              "    <tr>\n",
              "      <th>231242</th>\n",
              "      <td>231243</td>\n",
              "      <td>B003FDC2I2</td>\n",
              "      <td>A20BF6X7XC8W37</td>\n",
              "      <td>0</td>\n",
              "      <td>0</td>\n",
              "      <td>5</td>\n",
              "      <td>1338508800</td>\n",
              "      <td>Amazing!</td>\n",
              "      <td>looking great tasting readytodrink protein sup...</td>\n",
              "      <td>59</td>\n",
              "      <td>17</td>\n",
              "      <td>0</td>\n",
              "      <td>1</td>\n",
              "      <td>4</td>\n",
              "      <td>60</td>\n",
              "      <td>446</td>\n",
              "      <td>6.6</td>\n",
              "    </tr>\n",
              "  </tbody>\n",
              "</table>\n",
              "</div>"
            ],
            "text/plain": [
              "            Id   ProductId          UserId  ...  word_count  char_count  avg_word\n",
              "216927  216928  B0044X5RWA  A2A98IZ6QUMIUX  ...          64         403       6.0\n",
              "267155  267156  B004BKLHOS   AP8D74QD9LUUL  ...          61         429       6.1\n",
              "351038  351039  B001P5406O  A2F10B2DYLM1LS  ...          34         194       4.9\n",
              "277846  277847  B007KPWA8S  A2N6Y6FIANRL3G  ...         127         722       5.2\n",
              "231242  231243  B003FDC2I2  A20BF6X7XC8W37  ...          60         446       6.6\n",
              "\n",
              "[5 rows x 17 columns]"
            ]
          },
          "metadata": {
            "tags": []
          },
          "execution_count": 46
        }
      ]
    },
    {
      "cell_type": "markdown",
      "metadata": {
        "id": "sxN2Ifh_M2qM",
        "colab_type": "text"
      },
      "source": [
        "\n",
        "\n",
        "---\n",
        "##**Now, let's apply round 1 and round 2 data cleaning processes on 'Summary' column**\n"
      ]
    },
    {
      "cell_type": "markdown",
      "metadata": {
        "id": "_QVdtbLrNR-f",
        "colab_type": "text"
      },
      "source": [
        "Keep in mind that round1 operations make text lowercase, remove text in square brackets, remove punctuation and remove words containing numbers."
      ]
    },
    {
      "cell_type": "code",
      "metadata": {
        "id": "t_CdpuzhNGiP",
        "colab_type": "code",
        "colab": {
          "base_uri": "https://localhost:8080/",
          "height": 231
        },
        "outputId": "29f9b9f4-64f1-4b0b-9305-66d31300117a"
      },
      "source": [
        "df['Summary'] = df.Summary.apply(round1)\n",
        "df.Summary"
      ],
      "execution_count": 55,
      "outputs": [
        {
          "output_type": "execute_result",
          "data": {
            "text/plain": [
              "0                      good quality dog food\n",
              "1                          not as advertised\n",
              "2                        delight says it all\n",
              "3                             cough medicine\n",
              "4                                great taffy\n",
              "                         ...                \n",
              "568449                   will not do without\n",
              "568450                          disappointed\n",
              "568451              perfect for our maltipoo\n",
              "568452    favorite training and reward treat\n",
              "568453                           great honey\n",
              "Name: Summary, Length: 568411, dtype: object"
            ]
          },
          "metadata": {
            "tags": []
          },
          "execution_count": 55
        }
      ]
    },
    {
      "cell_type": "markdown",
      "metadata": {
        "id": "vtMJedmlNTtn",
        "colab_type": "text"
      },
      "source": [
        "And, round2 operations get rid of some additional punctuation and non-sensical text that was missed the first time around."
      ]
    },
    {
      "cell_type": "code",
      "metadata": {
        "id": "hS6ks3u9NT26",
        "colab_type": "code",
        "colab": {
          "base_uri": "https://localhost:8080/",
          "height": 231
        },
        "outputId": "d3778798-bf89-4b31-a76a-a7e60c954675"
      },
      "source": [
        "df['Summary'] = df.Summary.apply(round2)\n",
        "df.Summary"
      ],
      "execution_count": 56,
      "outputs": [
        {
          "output_type": "execute_result",
          "data": {
            "text/plain": [
              "0                      good quality dog food\n",
              "1                          not as advertised\n",
              "2                        delight says it all\n",
              "3                             cough medicine\n",
              "4                                great taffy\n",
              "                         ...                \n",
              "568449                   will not do without\n",
              "568450                          disappointed\n",
              "568451              perfect for our maltipoo\n",
              "568452    favorite training and reward treat\n",
              "568453                           great honey\n",
              "Name: Summary, Length: 568411, dtype: object"
            ]
          },
          "metadata": {
            "tags": []
          },
          "execution_count": 56
        }
      ]
    },
    {
      "cell_type": "markdown",
      "metadata": {
        "id": "1IsIT-gjJHC-",
        "colab_type": "text"
      },
      "source": [
        "**Now, let's save this clened processed data as CSV file** "
      ]
    },
    {
      "cell_type": "code",
      "metadata": {
        "id": "W33GaarNHljs",
        "colab_type": "code",
        "colab": {}
      },
      "source": [
        "df.to_csv('Amazon_reviews_processed.csv', index=False)"
      ],
      "execution_count": 0,
      "outputs": []
    }
  ]
}